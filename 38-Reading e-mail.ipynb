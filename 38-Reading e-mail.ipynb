{
 "cells": [
  {
   "cell_type": "markdown",
   "id": "b4a2a665",
   "metadata": {},
   "source": [
    "# Reading e-mail"
   ]
  },
  {
   "cell_type": "code",
   "execution_count": 1,
   "id": "e0921b29",
   "metadata": {},
   "outputs": [
    {
     "name": "stdout",
     "output_type": "stream",
     "text": [
      "Collecting imap_tools\n",
      "  Downloading imap_tools-1.1.0-py3-none-any.whl (31 kB)\n",
      "Installing collected packages: imap_tools\n",
      "Successfully installed imap_tools-1.1.0\n",
      "Note: you may need to restart the kernel to use updated packages.\n"
     ]
    }
   ],
   "source": [
    "pip install imap_tools"
   ]
  },
  {
   "cell_type": "code",
   "execution_count": null,
   "id": "bd8bcbf7",
   "metadata": {},
   "outputs": [],
   "source": [
    "from imap_tools import MailBox\n",
    "\n",
    "mail_box = MailBox('imap.gmail.com')\n",
    "\n",
    "mail_box.login(user, password, inital_folder=\"INBOX\")\n"
   ]
  },
  {
   "cell_type": "code",
   "execution_count": null,
   "id": "5506e042",
   "metadata": {},
   "outputs": [],
   "source": [
    "import datetime\n",
    "from imap_tools import AND\n",
    "\n",
    "criterion= AND(date_gte=datetime.date(2021,1,1), from_= user)\n",
    "for msg in mail_box.fetch(criterion ):\n",
    "    print(msg.txt)\n",
    "    "
   ]
  },
  {
   "cell_type": "code",
   "execution_count": null,
   "id": "3c205c41",
   "metadata": {},
   "outputs": [],
   "source": [
    "with MailBox('imap.gmail.com')login(user, password, inital_folder=\"INBOX\") as mail_box:\n",
    "    criterion= AND(date_gte=datetime.date(2021,1,1), from_= user)\n",
    "    for msg in mail_box.fetch(criterion ):\n",
    "    print(msg.txt)\n",
    "    "
   ]
  },
  {
   "cell_type": "code",
   "execution_count": null,
   "id": "05e0f277",
   "metadata": {},
   "outputs": [],
   "source": [
    "file_name= 'e-mail.ipynb'\n",
    "def find_mail_from_filename(email_box_money, file_name_money, criterion_money):\n",
    "    for message in email_box_money.fetch(criterion):\n",
    "        if message.attachments:\n",
    "            for addition in message.attachments:\n",
    "                if file_name_money = addition.filename:\n",
    "                    return('{} file named, {} data and {} is an email titled.'.format(\n",
    "                    file_name_money,\n",
    "                    message.date_str,\n",
    "                    message.subject\n",
    "                    ))\n",
    "            return ('{}  file named, not found in e-mail box.'.format(file_name_money))    \n",
    "        "
   ]
  },
  {
   "cell_type": "code",
   "execution_count": null,
   "id": "a6751d76",
   "metadata": {},
   "outputs": [],
   "source": [
    "find_mail_from_filename(mail box, file_name, criterion)"
   ]
  },
  {
   "cell_type": "code",
   "execution_count": null,
   "id": "b2bd15a3",
   "metadata": {},
   "outputs": [],
   "source": []
  }
 ],
 "metadata": {
  "kernelspec": {
   "display_name": "Python 3 (ipykernel)",
   "language": "python",
   "name": "python3"
  },
  "language_info": {
   "codemirror_mode": {
    "name": "ipython",
    "version": 3
   },
   "file_extension": ".py",
   "mimetype": "text/x-python",
   "name": "python",
   "nbconvert_exporter": "python",
   "pygments_lexer": "ipython3",
   "version": "3.10.9"
  }
 },
 "nbformat": 4,
 "nbformat_minor": 5
}
