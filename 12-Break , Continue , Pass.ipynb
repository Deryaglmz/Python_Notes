{
 "cells": [
  {
   "cell_type": "markdown",
   "id": "a126bf2e",
   "metadata": {},
   "source": [
    "# break"
   ]
  },
  {
   "cell_type": "code",
   "execution_count": 22,
   "id": "63879400",
   "metadata": {},
   "outputs": [
    {
     "name": "stdout",
     "output_type": "stream",
     "text": [
      "(0, 'a')\n",
      "(1, 'b')\n",
      "(2, 'c')\n",
      "(3, 'd')\n",
      "(4, 'e')\n"
     ]
    }
   ],
   "source": [
    "letters = ['a' ,'b' ,'c' ,'d' ,'e' ]\n",
    "\n",
    "\n",
    "for letter in enumerate(letters):\n",
    "    print(letter)"
   ]
  },
  {
   "cell_type": "code",
   "execution_count": 28,
   "id": "bf1cb9a0",
   "metadata": {},
   "outputs": [
    {
     "name": "stdout",
     "output_type": "stream",
     "text": [
      "c letter 2. in the index\n"
     ]
    }
   ],
   "source": [
    "letters = ['a' ,'b' ,'c' ,'d' ,'e' ]\n",
    "\n",
    "for index ,letter in enumerate(letters):\n",
    "    if letter == 'c':\n",
    "        print('{} letter {}. in the index'.format(letter , index))\n",
    "        "
   ]
  },
  {
   "cell_type": "code",
   "execution_count": 29,
   "id": "2ef2a826",
   "metadata": {},
   "outputs": [
    {
     "name": "stdout",
     "output_type": "stream",
     "text": [
      "c letter 2. in the index\n",
      "c letter 7. in the index\n",
      "c letter 12. in the index\n",
      "c letter 17. in the index\n",
      "c letter 22. in the index\n",
      "c letter 27. in the index\n",
      "c letter 32. in the index\n",
      "c letter 37. in the index\n",
      "c letter 42. in the index\n",
      "c letter 47. in the index\n",
      "c letter 52. in the index\n",
      "c letter 57. in the index\n",
      "c letter 62. in the index\n",
      "c letter 67. in the index\n",
      "c letter 72. in the index\n",
      "c letter 77. in the index\n",
      "c letter 82. in the index\n",
      "c letter 87. in the index\n",
      "c letter 92. in the index\n",
      "c letter 97. in the index\n",
      "c letter 102. in the index\n",
      "c letter 107. in the index\n",
      "c letter 112. in the index\n",
      "c letter 117. in the index\n",
      "c letter 122. in the index\n",
      "c letter 127. in the index\n",
      "c letter 132. in the index\n",
      "c letter 137. in the index\n",
      "c letter 142. in the index\n",
      "c letter 147. in the index\n",
      "c letter 152. in the index\n",
      "c letter 157. in the index\n",
      "c letter 162. in the index\n",
      "c letter 167. in the index\n",
      "c letter 172. in the index\n",
      "c letter 177. in the index\n",
      "c letter 182. in the index\n",
      "c letter 187. in the index\n",
      "c letter 192. in the index\n",
      "c letter 197. in the index\n",
      "c letter 202. in the index\n",
      "c letter 207. in the index\n",
      "c letter 212. in the index\n",
      "c letter 217. in the index\n",
      "c letter 222. in the index\n",
      "c letter 227. in the index\n",
      "c letter 232. in the index\n",
      "c letter 237. in the index\n",
      "c letter 242. in the index\n",
      "c letter 247. in the index\n",
      "c letter 252. in the index\n",
      "c letter 257. in the index\n",
      "c letter 262. in the index\n",
      "c letter 267. in the index\n",
      "c letter 272. in the index\n",
      "c letter 277. in the index\n",
      "c letter 282. in the index\n",
      "c letter 287. in the index\n",
      "c letter 292. in the index\n",
      "c letter 297. in the index\n",
      "c letter 302. in the index\n",
      "c letter 307. in the index\n",
      "c letter 312. in the index\n",
      "c letter 317. in the index\n",
      "c letter 322. in the index\n",
      "c letter 327. in the index\n",
      "c letter 332. in the index\n",
      "c letter 337. in the index\n",
      "c letter 342. in the index\n",
      "c letter 347. in the index\n",
      "c letter 352. in the index\n",
      "c letter 357. in the index\n",
      "c letter 362. in the index\n",
      "c letter 367. in the index\n",
      "c letter 372. in the index\n",
      "c letter 377. in the index\n",
      "c letter 382. in the index\n",
      "c letter 387. in the index\n",
      "c letter 392. in the index\n",
      "c letter 397. in the index\n",
      "c letter 402. in the index\n",
      "c letter 407. in the index\n",
      "c letter 412. in the index\n",
      "c letter 417. in the index\n",
      "c letter 422. in the index\n",
      "c letter 427. in the index\n",
      "c letter 432. in the index\n",
      "c letter 437. in the index\n",
      "c letter 442. in the index\n",
      "c letter 447. in the index\n",
      "c letter 452. in the index\n",
      "c letter 457. in the index\n",
      "c letter 462. in the index\n",
      "c letter 467. in the index\n",
      "c letter 472. in the index\n",
      "c letter 477. in the index\n",
      "c letter 482. in the index\n",
      "c letter 487. in the index\n",
      "c letter 492. in the index\n",
      "c letter 497. in the index\n"
     ]
    }
   ],
   "source": [
    "letters = ['a' ,'b' ,'c' ,'d' ,'e' ]*100\n",
    "\n",
    "for index ,letter in enumerate(letters):\n",
    "    if letter == 'c':\n",
    "        print('{} letter {}. in the index'.format(letter , index))\n",
    "        "
   ]
  },
  {
   "cell_type": "code",
   "execution_count": 31,
   "id": "6ff4f040",
   "metadata": {},
   "outputs": [
    {
     "name": "stdout",
     "output_type": "stream",
     "text": [
      "c letter 2. in the index\n"
     ]
    }
   ],
   "source": [
    "letters = ['a' ,'b' ,'c' ,'d' ,'e' ]*100\n",
    "\n",
    "for index ,letter in enumerate(letters):\n",
    "    if letter == 'c':\n",
    "        print('{} letter {}. in the index'.format(letter , index))\n",
    "        break"
   ]
  },
  {
   "cell_type": "markdown",
   "id": "41df9929",
   "metadata": {},
   "source": [
    "# continue"
   ]
  },
  {
   "cell_type": "code",
   "execution_count": 33,
   "id": "06c2449a",
   "metadata": {},
   "outputs": [
    {
     "name": "stdout",
     "output_type": "stream",
     "text": [
      "1\n",
      "3\n",
      "5\n"
     ]
    }
   ],
   "source": [
    "for number in range(1,6):\n",
    "    if number%2==0:\n",
    "        continue\n",
    "    print(number)\n"
   ]
  },
  {
   "cell_type": "code",
   "execution_count": 37,
   "id": "cf1ed08f",
   "metadata": {},
   "outputs": [
    {
     "name": "stdout",
     "output_type": "stream",
     "text": [
      "1\n",
      "3\n",
      "5\n"
     ]
    }
   ],
   "source": [
    "for number in range(1,6):\n",
    "    if number%2!=0:\n",
    "     print(number)"
   ]
  },
  {
   "cell_type": "markdown",
   "id": "34145751",
   "metadata": {},
   "source": [
    "# pass"
   ]
  },
  {
   "cell_type": "code",
   "execution_count": 35,
   "id": "d0c6edaf",
   "metadata": {},
   "outputs": [
    {
     "name": "stdout",
     "output_type": "stream",
     "text": [
      "5\n"
     ]
    }
   ],
   "source": [
    "for number in range(1,6):\n",
    "    if number%2==0:\n",
    "        pass\n",
    "else:\n",
    "    print(number)\n"
   ]
  },
  {
   "cell_type": "code",
   "execution_count": 38,
   "id": "228be78b",
   "metadata": {},
   "outputs": [
    {
     "name": "stdout",
     "output_type": "stream",
     "text": [
      "Hello\n"
     ]
    }
   ],
   "source": [
    "if number > 5 :\n",
    "    pass\n",
    "else:\n",
    "    print('Hello')"
   ]
  },
  {
   "cell_type": "code",
   "execution_count": null,
   "id": "fb9619a6",
   "metadata": {},
   "outputs": [],
   "source": []
  }
 ],
 "metadata": {
  "kernelspec": {
   "display_name": "Python 3 (ipykernel)",
   "language": "python",
   "name": "python3"
  },
  "language_info": {
   "codemirror_mode": {
    "name": "ipython",
    "version": 3
   },
   "file_extension": ".py",
   "mimetype": "text/x-python",
   "name": "python",
   "nbconvert_exporter": "python",
   "pygments_lexer": "ipython3",
   "version": "3.10.9"
  }
 },
 "nbformat": 4,
 "nbformat_minor": 5
}
