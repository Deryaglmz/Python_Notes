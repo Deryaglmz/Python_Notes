{
 "cells": [
  {
   "cell_type": "markdown",
   "id": "3df937b0",
   "metadata": {},
   "source": [
    "# methods in classes"
   ]
  },
  {
   "cell_type": "code",
   "execution_count": 2,
   "id": "b3d0d24b",
   "metadata": {},
   "outputs": [],
   "source": [
    "class Flight():\n",
    "    airway = 'THY'\n",
    "    \n",
    "    def __init__(self, code, departure, arrival, duration, capacity, passenger):\n",
    "        self.code = code\n",
    "        self.departure = departure\n",
    "        self.arrival = arrival\n",
    "        self.duration = duration\n",
    "        self.capacity = capacity\n",
    "        self.passenger = passenger\n",
    "        \n",
    "    def make_an_announcement(self):\n",
    "        return \" Our {}-{} flight{} will take {} minutes.\".format(\n",
    "        self.arrival,\n",
    "        self.code,\n",
    "        self.departure,\n",
    "        self.duration)\n",
    "    \n",
    "    def update_number_of_seats(self):\n",
    "        return self.capacity - self.passenger \n",
    "        \n",
    "        "
   ]
  },
  {
   "cell_type": "code",
   "execution_count": 5,
   "id": "d0b6e762",
   "metadata": {},
   "outputs": [],
   "source": [
    "flight3 = Flight('TK123' , 'FR' , 'US' , 60 ,250 ,103)"
   ]
  },
  {
   "cell_type": "code",
   "execution_count": 6,
   "id": "f35fd867",
   "metadata": {},
   "outputs": [
    {
     "data": {
      "text/plain": [
       "147"
      ]
     },
     "execution_count": 6,
     "metadata": {},
     "output_type": "execute_result"
    }
   ],
   "source": [
    "flight3.update_number_of_seats()"
   ]
  },
  {
   "cell_type": "code",
   "execution_count": 25,
   "id": "5d925dea",
   "metadata": {},
   "outputs": [],
   "source": [
    "class Flight():\n",
    "    airway = 'THY'\n",
    "    \n",
    "    def __init__(self, code, departure, arrival, duration, capacity, passenger):\n",
    "        self.code = code\n",
    "        self.departure = departure\n",
    "        self.arrival = arrival\n",
    "        self.duration = duration\n",
    "        self.capacity = capacity\n",
    "        self.passenger = passenger\n",
    "        \n",
    "    def make_an_announcement(self):\n",
    "        return \" Our {}-{} flight{} will take {} minutes.\".format(\n",
    "        self.arrival,\n",
    "        self.code,\n",
    "        self.departure,\n",
    "        self.duration)\n",
    "    \n",
    "    def update_number_of_seats(self):\n",
    "        return self.capacity - self.passenger \n",
    "    \n",
    "    def ticket_sales(self, number_of_tickets ):\n",
    "        # self.passenger = self.passenger + number_of_tickets\n",
    "        if self.passenger + number_of_tickets <= self.capacity:\n",
    "            \n",
    "            self.passenger += number_of_tickets\n",
    "            self.update_number_of_seats()\n",
    "            print('{} tickets have been sold , number of seats remaining {}'.format(\n",
    "                number_of_tickets,\n",
    "                self.update_number_of_seats()))\n",
    "        else : \n",
    "            print('insufficient number of seats')"
   ]
  },
  {
   "cell_type": "code",
   "execution_count": 26,
   "id": "df47aed0",
   "metadata": {},
   "outputs": [],
   "source": [
    "flight3 = Flight('TK123' , 'FR' , 'US' , 60 ,250 ,103)"
   ]
  },
  {
   "cell_type": "code",
   "execution_count": 27,
   "id": "beeec832",
   "metadata": {},
   "outputs": [
    {
     "data": {
      "text/plain": [
       "147"
      ]
     },
     "execution_count": 27,
     "metadata": {},
     "output_type": "execute_result"
    }
   ],
   "source": [
    "flight3.update_number_of_seats()"
   ]
  },
  {
   "cell_type": "code",
   "execution_count": 28,
   "id": "dcedf7b5",
   "metadata": {},
   "outputs": [
    {
     "name": "stdout",
     "output_type": "stream",
     "text": [
      "5 tickets have been sold , number of seats remaining 142\n"
     ]
    }
   ],
   "source": [
    "flight3.ticket_sales(5)"
   ]
  },
  {
   "cell_type": "code",
   "execution_count": 29,
   "id": "eaf95676",
   "metadata": {},
   "outputs": [
    {
     "name": "stdout",
     "output_type": "stream",
     "text": [
      "5 tickets have been sold , number of seats remaining 137\n"
     ]
    }
   ],
   "source": [
    "flight3.ticket_sales(5)"
   ]
  },
  {
   "cell_type": "code",
   "execution_count": 30,
   "id": "f31c3a97",
   "metadata": {},
   "outputs": [
    {
     "name": "stdout",
     "output_type": "stream",
     "text": [
      "insufficient number of seats\n"
     ]
    }
   ],
   "source": [
    "flight3.ticket_sales(140)"
   ]
  },
  {
   "cell_type": "code",
   "execution_count": 31,
   "id": "d8c4dcc1",
   "metadata": {},
   "outputs": [
    {
     "data": {
      "text/plain": [
       "137"
      ]
     },
     "execution_count": 31,
     "metadata": {},
     "output_type": "execute_result"
    }
   ],
   "source": [
    "flight3.update_number_of_seats()"
   ]
  },
  {
   "cell_type": "code",
   "execution_count": 32,
   "id": "e3a95dd1",
   "metadata": {},
   "outputs": [],
   "source": [
    "class Flight():\n",
    "    airway = 'THY'\n",
    "    \n",
    "    def __init__(self, code, departure, arrival, duration, capacity, passenger):\n",
    "        self.code = code\n",
    "        self.departure = departure\n",
    "        self.arrival = arrival\n",
    "        self.duration = duration\n",
    "        self.capacity = capacity\n",
    "        self.passenger = passenger\n",
    "        \n",
    "    def make_an_announcement(self):\n",
    "        return \" Our {}-{} flight{} will take {} minutes.\".format(\n",
    "        self.arrival,\n",
    "        self.code,\n",
    "        self.departure,\n",
    "        self.duration)\n",
    "    \n",
    "    def update_number_of_seats(self):\n",
    "        return self.capacity - self.passenger \n",
    "    \n",
    "    def ticket_sales(self, number_of_tickets ):\n",
    "        # self.passenger = self.passenger + number_of_tickets\n",
    "        if self.passenger + number_of_tickets <= self.capacity:\n",
    "            \n",
    "            self.passenger += number_of_tickets\n",
    "            self.update_number_of_seats()\n",
    "            print('{} tickets have been sold , number of seats remaining {}'.format(\n",
    "                number_of_tickets,\n",
    "                self.update_number_of_seats()))\n",
    "        else : \n",
    "            print('insufficient number of seats')\n",
    "            \n",
    "    def ticket_cancellation(self, number_of_tickets=1):\n",
    "        if self.passenger >= number_of_tickets:\n",
    "            self.passenger -= number_of_tickets\n",
    "            print('{} tickets were cancelled. , current number of seats {}'.format(\n",
    "                number_of_tickets,\n",
    "                self.update_number_of_seats()))\n",
    "        else :\n",
    "            print('The operation could not be performed ')\n",
    "            "
   ]
  },
  {
   "cell_type": "code",
   "execution_count": 33,
   "id": "15a0ff1c",
   "metadata": {},
   "outputs": [],
   "source": [
    "flight3 = Flight('TK123' , 'FR' , 'US' , 60 ,250 ,103)"
   ]
  },
  {
   "cell_type": "code",
   "execution_count": 34,
   "id": "fce116e1",
   "metadata": {},
   "outputs": [
    {
     "data": {
      "text/plain": [
       "147"
      ]
     },
     "execution_count": 34,
     "metadata": {},
     "output_type": "execute_result"
    }
   ],
   "source": [
    "flight3.update_number_of_seats()"
   ]
  },
  {
   "cell_type": "code",
   "execution_count": 35,
   "id": "84c5ddcb",
   "metadata": {},
   "outputs": [
    {
     "name": "stdout",
     "output_type": "stream",
     "text": [
      "5 tickets have been sold , number of seats remaining 142\n"
     ]
    }
   ],
   "source": [
    "flight3.ticket_sales(5)"
   ]
  },
  {
   "cell_type": "code",
   "execution_count": 36,
   "id": "67b1811a",
   "metadata": {},
   "outputs": [
    {
     "name": "stdout",
     "output_type": "stream",
     "text": [
      "1 tickets were cancelled. , current number of seats 143\n"
     ]
    }
   ],
   "source": [
    "flight3.ticket_cancellation()         # because default number = 1"
   ]
  },
  {
   "cell_type": "code",
   "execution_count": 37,
   "id": "72cd56fa",
   "metadata": {},
   "outputs": [
    {
     "name": "stdout",
     "output_type": "stream",
     "text": [
      "The operation could not be performed \n"
     ]
    }
   ],
   "source": [
    "flight3.ticket_cancellation(200)"
   ]
  },
  {
   "cell_type": "code",
   "execution_count": null,
   "id": "4f2c18f3",
   "metadata": {},
   "outputs": [],
   "source": []
  }
 ],
 "metadata": {
  "kernelspec": {
   "display_name": "Python 3 (ipykernel)",
   "language": "python",
   "name": "python3"
  },
  "language_info": {
   "codemirror_mode": {
    "name": "ipython",
    "version": 3
   },
   "file_extension": ".py",
   "mimetype": "text/x-python",
   "name": "python",
   "nbconvert_exporter": "python",
   "pygments_lexer": "ipython3",
   "version": "3.10.9"
  }
 },
 "nbformat": 4,
 "nbformat_minor": 5
}
