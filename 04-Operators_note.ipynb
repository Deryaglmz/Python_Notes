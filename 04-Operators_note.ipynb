{
 "cells": [
  {
   "cell_type": "markdown",
   "id": "50f8498d",
   "metadata": {},
   "source": [
    "# Operators"
   ]
  },
  {
   "cell_type": "markdown",
   "id": "3d16e977",
   "metadata": {},
   "source": [
    "# Arithmetic (Number) Operators"
   ]
  },
  {
   "cell_type": "raw",
   "id": "c3d0696f",
   "metadata": {},
   "source": [
    "OperatOr\t                     function\t                   Example Usage\n",
    "   +\t                         Collection\t                      x + y\n",
    "   -\t                         Extraction\t                      x - y\n",
    "   *\t                          Impact\t                      x * y\n",
    "   /\t                          Divide\t                      x / y\n",
    "   %\t                           Mode\t                          x % y\n",
    "  **\t                           Base\t                          x ** y\n",
    "  //\t                           Root\t                          x // y"
   ]
  },
  {
   "cell_type": "markdown",
   "id": "dfe3962b",
   "metadata": {},
   "source": [
    "# Assignment Operators"
   ]
  },
  {
   "cell_type": "raw",
   "id": "c46cc30c",
   "metadata": {},
   "source": [
    "OperatOr\t                    Example Usage\t                 explanation\n",
    "    =\t                           x = 5\t                       x = 5\n",
    "   +=\t                           x += 3\t                      x = x + 3\n",
    "   -=\t                           x -= 3                         x = x - 3\n",
    "   *=\t                           x *= 3\t                      x = x * 3\n",
    "   /=\t                           x /= 3\t                      x = x / 3\n",
    "   %=\t                           x %= 3\t                      x = x % 3\n",
    "   //=\t                           x //= 3\t                      x = x // 3\n",
    "   **=\t                           x **= 3\t                      x = x ** 3\n",
    "   &=\t                           x &= 3\t                      x = x & 3\n",
    "   |=\t                           x |= 3\t                      x = x | 3\n",
    "   ^=\t                           x ^= 3\t                      x = x ^ 3\n",
    "   >>=\t                           x >>= 3\t                      x = x >> 3\n",
    "   <<=\t                           x <<= 3\t                      x = x << 3"
   ]
  },
  {
   "cell_type": "markdown",
   "id": "b26f09ab",
   "metadata": {},
   "source": [
    "# Benchmark Operators"
   ]
  },
  {
   "cell_type": "raw",
   "id": "c3ea205f",
   "metadata": {},
   "source": [
    "Operator\t                    Example Usage\t                  explanation\n",
    "  ==\t                            Equals                          x == y\n",
    "  !=\t                           Not equal\t                    x != y\n",
    "  >\t                                is big\t                        x > y\n",
    "  <                                 is small\t                    x < y\n",
    "  >=\t                      greater than or equal to\t            x >= y\n",
    "  <=\t                        Less than or equal\t                x <= y"
   ]
  },
  {
   "cell_type": "markdown",
   "id": "268524c0",
   "metadata": {},
   "source": [
    "# Logical Operators"
   ]
  },
  {
   "cell_type": "raw",
   "id": "ecba4341",
   "metadata": {},
   "source": [
    "Operator\t                     explanation\t                                               Example Usage\n",
    "and              \tIf both statements are true, the condition is satisfied.\t              x < 5 and x < 10\n",
    "or\t          The condition is satisfied if even one of the two statements is true\t          x < 5 or x < 4\n",
    "not\t                The result is reversed. False if true, true if false.\t                not(x < 5 and < < 10)"
   ]
  },
  {
   "cell_type": "markdown",
   "id": "72a7beb0",
   "metadata": {},
   "source": [
    "# Identification Operators"
   ]
  },
  {
   "cell_type": "raw",
   "id": "5197d6d4",
   "metadata": {},
   "source": [
    "Operator\t                     explanation\t                                               Example\n",
    "  is\t             True if both variables are the same object\t                                x is y\n",
    "  is not\t          True if the variables are of different types\t                           x is not y"
   ]
  },
  {
   "cell_type": "markdown",
   "id": "4bcdb990",
   "metadata": {},
   "source": [
    "# Belonging Operators"
   ]
  },
  {
   "cell_type": "raw",
   "id": "5d8e66d9",
   "metadata": {},
   "source": [
    "Operatör\t                     explanation\t                                               Example\n",
    "  in\t               True if the series contains the specified value\t                        x in y\n",
    " not in\t             True if the series does not contain the specified value\t                x not in y\n"
   ]
  },
  {
   "cell_type": "markdown",
   "id": "fc903715",
   "metadata": {},
   "source": [
    "# Bit Operators"
   ]
  },
  {
   "cell_type": "raw",
   "id": "8c42fd56",
   "metadata": {},
   "source": [
    "Operatör\t                     Name\t                                              explanation\n",
    "   &\t                         AND\t        \"The & operator compares the bits in the binary representations of two numbers                                                       and if both bits are 1, the result will be 1; otherwise, it will be 0.\"\n",
    "   |\t                         OR\t                                 If either of the two bits is 1, it sets each bit to 1.\n",
    "   ^\t                         XOR\t                           If only one of the two bits is 1, it sets each bit to 1\n",
    "   ~\t                         NOT\t                                         flips the bits\n",
    "  <<\t                                                                      Shifts left by adding zero\n",
    "  >>\t                                                                   Shifts right by adding zero"
   ]
  },
  {
   "cell_type": "code",
   "execution_count": null,
   "id": "d75ff7ea",
   "metadata": {},
   "outputs": [],
   "source": []
  }
 ],
 "metadata": {
  "kernelspec": {
   "display_name": "Python 3 (ipykernel)",
   "language": "python",
   "name": "python3"
  },
  "language_info": {
   "codemirror_mode": {
    "name": "ipython",
    "version": 3
   },
   "file_extension": ".py",
   "mimetype": "text/x-python",
   "name": "python",
   "nbconvert_exporter": "python",
   "pygments_lexer": "ipython3",
   "version": "3.10.9"
  }
 },
 "nbformat": 4,
 "nbformat_minor": 5
}
