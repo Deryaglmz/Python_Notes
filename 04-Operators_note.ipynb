{
 "cells": [
  {
   "cell_type": "markdown",
   "id": "3d16e977",
   "metadata": {},
   "source": [
    "# Arithmetic (Number) Operators"
   ]
  },
  {
   "cell_type": "markdown",
   "id": "50f8498d",
   "metadata": {},
   "source": [
    "# Operators"
   ]
  },
  {
   "cell_type": "code",
   "execution_count": null,
   "id": "9fe55045",
   "metadata": {},
   "outputs": [],
   "source": [
    "# OperatOr                      function                    Example Usage\n",
    "#   +                            Collection                       x + y\n",
    "#   -                            Extraction                       x - y\n",
    "#   *                             Impact                          x * y\n",
    "#   /                             Divide                          x / y\n",
    "#   %                              Mode                           x % y\n",
    "#  **                              Base                           x ** y\n",
    "#  //                              Root                           x // y"
   ]
  },
  {
   "cell_type": "markdown",
   "id": "dfe3962b",
   "metadata": {},
   "source": [
    "# Assignment Operators"
   ]
  },
  {
   "cell_type": "code",
   "execution_count": null,
   "id": "9be0616c",
   "metadata": {},
   "outputs": [],
   "source": [
    "# OperatOr                     Example Usage                    explanation\n",
    "#    =                             x = 5                           x = 5\n",
    "#   +=                             x += 3                         x = x + 3\n",
    "#   -=                             x -= 3                         x = x - 3\n",
    "#   *=                             x *= 3                         x = x * 3\n",
    "#   /=                             x /= 3                         x = x / 3\n",
    "#   %=                             x %= 3                         x = x % 3\n",
    "#   //=                            x //= 3                        x = x // 3\n",
    "#   **=                            x **= 3                        x = x ** 3\n",
    "#   &=                             x &= 3                         x = x & 3\n",
    "#   |=                             x |= 3                         x = x | 3\n",
    "#   ^=                             x ^= 3                         x = x ^ 3\n",
    "#   >>=                            x >>= 3                        x = x >> 3\n",
    "#   <<=                            x <<= 3                        x = x << 3"
   ]
  },
  {
   "cell_type": "markdown",
   "id": "b26f09ab",
   "metadata": {},
   "source": [
    "# Benchmark Operators"
   ]
  },
  {
   "cell_type": "code",
   "execution_count": null,
   "id": "a2262e5b",
   "metadata": {},
   "outputs": [],
   "source": [
    "# Operator                     Example Usage                   explanation\n",
    "#  ==                              Equals                        x == y\n",
    "#  !=                             Not equal                      x != y\n",
    "#  >                               is big                        x > y\n",
    "#  <                              is small                       x < y\n",
    "#  >=                      greater than or equal to              x >= y\n",
    "#  <=                        Less than or equal                  x <= y"
   ]
  },
  {
   "cell_type": "markdown",
   "id": "268524c0",
   "metadata": {},
   "source": [
    "# Logical Operators"
   ]
  },
  {
   "cell_type": "code",
   "execution_count": null,
   "id": "0f0ec2c2",
   "metadata": {},
   "outputs": [],
   "source": [
    "# Operator                        explanation                                             Example Usage\n",
    "# and              If both statements are true, the condition is satisfied.              x < 5 and x < 10\n",
    "# or         The condition is satisfied if even one of the two statements is true        x < 5 or x < 4\n",
    "# not              The result is reversed. False if true, true if false.               not(x < 5 and < < 10)"
   ]
  },
  {
   "cell_type": "markdown",
   "id": "72a7beb0",
   "metadata": {},
   "source": [
    "# Identification Operators"
   ]
  },
  {
   "cell_type": "code",
   "execution_count": null,
   "id": "1edb3cf7",
   "metadata": {},
   "outputs": [],
   "source": [
    "# Operator                     explanation                                               Example\n",
    "#   is             True if both variables are the same object                             x is y\n",
    "# is not           True if the variables are of different types                          x is not y"
   ]
  },
  {
   "cell_type": "markdown",
   "id": "4bcdb990",
   "metadata": {},
   "source": [
    "# Belonging Operators"
   ]
  },
  {
   "cell_type": "code",
   "execution_count": null,
   "id": "157afc57",
   "metadata": {},
   "outputs": [],
   "source": [
    "# Operator                          explanation                                           Example\n",
    "#   in                True if the series contains the specified value                     x in y\n",
    "#  not in            True if the series does not contain the specified value             x not in y\n"
   ]
  },
  {
   "cell_type": "markdown",
   "id": "fc903715",
   "metadata": {},
   "source": [
    "# Bit Operators"
   ]
  },
  {
   "cell_type": "code",
   "execution_count": null,
   "id": "d223282a",
   "metadata": {},
   "outputs": [],
   "source": [
    "# Operatör                     Name                                              explanation\n",
    "#    &                         AND          \"The & operator compares the bits in the binary representations of two numbers \n",
    "#                                                  and if both bits are 1, the result will be 1; otherwise, it will be 0.\"\n",
    "#    |                        OR                                 If either of the two bits is 1, it sets each bit to 1.\n",
    "#    ^                        XOR                           If only one of the two bits is 1, it sets each bit to 1\n",
    "#    ~                        NOT                                             flips the bits\n",
    "#   <<                                                                    Shifts left by adding zero\n",
    "#   >>                                                                   Shifts right by adding zero"
   ]
  },
  {
   "cell_type": "code",
   "execution_count": null,
   "id": "d75ff7ea",
   "metadata": {},
   "outputs": [],
   "source": []
  }
 ],
 "metadata": {
  "kernelspec": {
   "display_name": "Python 3 (ipykernel)",
   "language": "python",
   "name": "python3"
  },
  "language_info": {
   "codemirror_mode": {
    "name": "ipython",
    "version": 3
   },
   "file_extension": ".py",
   "mimetype": "text/x-python",
   "name": "python",
   "nbconvert_exporter": "python",
   "pygments_lexer": "ipython3",
   "version": "3.10.9"
  }
 },
 "nbformat": 4,
 "nbformat_minor": 5
}
