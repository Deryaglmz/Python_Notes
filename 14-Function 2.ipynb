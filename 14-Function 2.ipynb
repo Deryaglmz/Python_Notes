{
 "cells": [
  {
   "cell_type": "markdown",
   "id": "0d25992f",
   "metadata": {},
   "source": [
    "# function 2"
   ]
  },
  {
   "cell_type": "code",
   "execution_count": 10,
   "id": "197aa74e",
   "metadata": {},
   "outputs": [
    {
     "name": "stdout",
     "output_type": "stream",
     "text": [
      "10 is the big number\n"
     ]
    }
   ],
   "source": [
    "def write_text(a,b):\n",
    "    big_number = max(a,b)\n",
    "    template_text = \"{} is the big number\".format(big_number)\n",
    "    print(template_text)\n",
    "    \n",
    "write_text(5,10)"
   ]
  },
  {
   "cell_type": "code",
   "execution_count": 21,
   "id": "4ca3488e",
   "metadata": {},
   "outputs": [],
   "source": [
    "# split"
   ]
  },
  {
   "cell_type": "code",
   "execution_count": 17,
   "id": "fbc02d4a",
   "metadata": {},
   "outputs": [
    {
     "data": {
      "text/plain": [
       "['Erol', 'Mesut']"
      ]
     },
     "execution_count": 17,
     "metadata": {},
     "output_type": "execute_result"
    }
   ],
   "source": [
    "\"Erol Mesut\".split()"
   ]
  },
  {
   "cell_type": "code",
   "execution_count": 18,
   "id": "6e132fc6",
   "metadata": {},
   "outputs": [],
   "source": [
    "def name_surname_seperation(name_surname):\n",
    "    name = name_surname.split()[0]\n",
    "    surname = name_surname.split()[1]\n",
    "    return name , surname\n",
    "    "
   ]
  },
  {
   "cell_type": "code",
   "execution_count": 19,
   "id": "64fc0955",
   "metadata": {},
   "outputs": [
    {
     "data": {
      "text/plain": [
       "('Erol', 'Mesut')"
      ]
     },
     "execution_count": 19,
     "metadata": {},
     "output_type": "execute_result"
    }
   ],
   "source": [
    "name_surname_seperation(\"Erol Mesut\")"
   ]
  },
  {
   "cell_type": "code",
   "execution_count": 20,
   "id": "046820a6",
   "metadata": {},
   "outputs": [
    {
     "name": "stdout",
     "output_type": "stream",
     "text": [
      "Erol\n",
      "Mesut\n"
     ]
    }
   ],
   "source": [
    "a,b = name_surname_seperation(\"Erol Mesut\")\n",
    "print(a)\n",
    "print(b)"
   ]
  },
  {
   "cell_type": "markdown",
   "id": "a34d31a9",
   "metadata": {},
   "source": [
    "# *args argument"
   ]
  },
  {
   "cell_type": "code",
   "execution_count": 22,
   "id": "69682e76",
   "metadata": {},
   "outputs": [],
   "source": [
    "# join"
   ]
  },
  {
   "cell_type": "code",
   "execution_count": 23,
   "id": "34f785a6",
   "metadata": {},
   "outputs": [
    {
     "data": {
      "text/plain": [
       "'Erol Mesut'"
      ]
     },
     "execution_count": 23,
     "metadata": {},
     "output_type": "execute_result"
    }
   ],
   "source": [
    "\" \".join([\"Erol\" ,\"Mesut\"])"
   ]
  },
  {
   "cell_type": "code",
   "execution_count": 24,
   "id": "58df4bd2",
   "metadata": {},
   "outputs": [],
   "source": [
    "def name_surname_connect(name, surname):\n",
    "    return \" \".join([name , surname])\n"
   ]
  },
  {
   "cell_type": "code",
   "execution_count": 25,
   "id": "f7314079",
   "metadata": {},
   "outputs": [
    {
     "data": {
      "text/plain": [
       "'gokce gun'"
      ]
     },
     "execution_count": 25,
     "metadata": {},
     "output_type": "execute_result"
    }
   ],
   "source": [
    "name_surname_connect(\"gokce\", \"gun\")"
   ]
  },
  {
   "cell_type": "code",
   "execution_count": 26,
   "id": "4d124cf0",
   "metadata": {},
   "outputs": [],
   "source": [
    "# for more than 2 names\n"
   ]
  },
  {
   "cell_type": "code",
   "execution_count": 29,
   "id": "076fab2e",
   "metadata": {},
   "outputs": [],
   "source": [
    "def name_surname_connect(*args):\n",
    "    return \" \".join(args)\n"
   ]
  },
  {
   "cell_type": "code",
   "execution_count": 30,
   "id": "3f1dbc5b",
   "metadata": {},
   "outputs": [
    {
     "data": {
      "text/plain": [
       "'Erol Mesut Gün'"
      ]
     },
     "execution_count": 30,
     "metadata": {},
     "output_type": "execute_result"
    }
   ],
   "source": [
    "name_surname_connect(\"Erol\", \"Mesut\" , \"Gün\")"
   ]
  },
  {
   "cell_type": "code",
   "execution_count": 31,
   "id": "72c7e16d",
   "metadata": {},
   "outputs": [],
   "source": [
    "def name_surname_connect(*args):\n",
    "    for item in args:\n",
    "        print(item)\n",
    "    return \" \".join(args)\n"
   ]
  },
  {
   "cell_type": "code",
   "execution_count": 32,
   "id": "d1be4b16",
   "metadata": {},
   "outputs": [
    {
     "name": "stdout",
     "output_type": "stream",
     "text": [
      "Erol\n",
      "Mesut\n",
      "Gün\n"
     ]
    },
    {
     "data": {
      "text/plain": [
       "'Erol Mesut Gün'"
      ]
     },
     "execution_count": 32,
     "metadata": {},
     "output_type": "execute_result"
    }
   ],
   "source": [
    "name_surname_connect(\"Erol\", \"Mesut\" , \"Gün\")"
   ]
  },
  {
   "cell_type": "markdown",
   "id": "d5e70435",
   "metadata": {},
   "source": [
    "# **kwargs"
   ]
  },
  {
   "cell_type": "code",
   "execution_count": 38,
   "id": "868f2dc1",
   "metadata": {},
   "outputs": [],
   "source": [
    "def middle_name_print(**kwargs):\n",
    "    if 'middlename' in kwargs:\n",
    "        print(kwargs['middlename'])\n",
    "    else:\n",
    "        print('no middlename')\n",
    "        "
   ]
  },
  {
   "cell_type": "code",
   "execution_count": 36,
   "id": "475d3269",
   "metadata": {},
   "outputs": [
    {
     "name": "stdout",
     "output_type": "stream",
     "text": [
      "Mesut\n"
     ]
    }
   ],
   "source": [
    "middle_name_print(name=\"Erol\" ,middlename= \"Mesut\" , surname= \"Gün\")"
   ]
  },
  {
   "cell_type": "code",
   "execution_count": 39,
   "id": "5abb9a96",
   "metadata": {},
   "outputs": [
    {
     "name": "stdout",
     "output_type": "stream",
     "text": [
      "no middlename\n"
     ]
    }
   ],
   "source": [
    "middle_name_print(name=\"Erol\" , surname= \"Gün\")"
   ]
  },
  {
   "cell_type": "code",
   "execution_count": 47,
   "id": "52f843a3",
   "metadata": {},
   "outputs": [
    {
     "name": "stdout",
     "output_type": "stream",
     "text": [
      "24\n"
     ]
    }
   ],
   "source": [
    "def factorial(n):  \n",
    "   if n == 1:  \n",
    "       return n  \n",
    "   else:  \n",
    "       return n*factorial(n-1)  \n",
    "\n",
    "print(factorial(4))"
   ]
  },
  {
   "cell_type": "code",
   "execution_count": 48,
   "id": "b79bba1a",
   "metadata": {},
   "outputs": [
    {
     "name": "stdout",
     "output_type": "stream",
     "text": [
      "1\n",
      "3\n",
      "6\n",
      "10\n",
      "15\n",
      "21\n"
     ]
    },
    {
     "data": {
      "text/plain": [
       "21"
      ]
     },
     "execution_count": 48,
     "metadata": {},
     "output_type": "execute_result"
    }
   ],
   "source": [
    "def addition(k):\n",
    "  if(k > 0):\n",
    "    result = k + addition(k - 1)\n",
    "    print(result)\n",
    "  else:\n",
    "    result = 0\n",
    "  return result\n",
    "\n",
    "addition(6)"
   ]
  },
  {
   "cell_type": "code",
   "execution_count": null,
   "id": "b7ed8cf1",
   "metadata": {},
   "outputs": [],
   "source": []
  }
 ],
 "metadata": {
  "kernelspec": {
   "display_name": "Python 3 (ipykernel)",
   "language": "python",
   "name": "python3"
  },
  "language_info": {
   "codemirror_mode": {
    "name": "ipython",
    "version": 3
   },
   "file_extension": ".py",
   "mimetype": "text/x-python",
   "name": "python",
   "nbconvert_exporter": "python",
   "pygments_lexer": "ipython3",
   "version": "3.10.9"
  }
 },
 "nbformat": 4,
 "nbformat_minor": 5
}
