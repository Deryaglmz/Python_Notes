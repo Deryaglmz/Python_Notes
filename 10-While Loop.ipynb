{
 "cells": [
  {
   "cell_type": "markdown",
   "id": "4a7e106c",
   "metadata": {},
   "source": [
    "# While Loop"
   ]
  },
  {
   "cell_type": "code",
   "execution_count": null,
   "id": "93cd2b80",
   "metadata": {},
   "outputs": [],
   "source": [
    "# while <if condition is true>:\n",
    "#       <do what is written here>\n"
   ]
  },
  {
   "cell_type": "code",
   "execution_count": 1,
   "id": "f205c5ca",
   "metadata": {},
   "outputs": [
    {
     "name": "stdout",
     "output_type": "stream",
     "text": [
      "0 value less than 10\n",
      "1 value less than 10\n",
      "2 value less than 10\n",
      "3 value less than 10\n",
      "4 value less than 10\n",
      "5 value less than 10\n",
      "6 value less than 10\n",
      "7 value less than 10\n",
      "8 value less than 10\n",
      "9 value less than 10\n"
     ]
    }
   ],
   "source": [
    "x = 0\n",
    "while x<10:\n",
    "    print(\"{} value less than 10\".format(x))\n",
    "    x += 1\n"
   ]
  },
  {
   "cell_type": "code",
   "execution_count": null,
   "id": "70b040dc",
   "metadata": {},
   "outputs": [],
   "source": [
    "# while True :\n",
    "#     print(\"abc\")    # ∞"
   ]
  },
  {
   "cell_type": "code",
   "execution_count": 2,
   "id": "dc122306",
   "metadata": {},
   "outputs": [
    {
     "name": "stdout",
     "output_type": "stream",
     "text": [
      "0 value less than 10\n",
      "1 value less than 10\n",
      "2 value less than 10\n",
      "3 value less than 10\n",
      "4 value less than 10\n",
      "5 value less than 10\n",
      "6 value less than 10\n",
      "7 value less than 10\n",
      "8 value less than 10\n",
      "9 value less than 10\n",
      "10 value not less than 10\n"
     ]
    }
   ],
   "source": [
    "x = 0\n",
    "while x<10:\n",
    "    print(\"{} value less than 10\".format(x))\n",
    "    x += 1\n",
    "    \n",
    "else:\n",
    "     print(\"{} value not less than 10\".format(x))\n"
   ]
  },
  {
   "cell_type": "code",
   "execution_count": 3,
   "id": "83cab7fb",
   "metadata": {},
   "outputs": [],
   "source": [
    "# factorial\n",
    "# 3! = 3 * 2 * 1 = 6\n",
    "# 6! = 6 * 5 * 4 * 3 * 2 * 1 = 720\n"
   ]
  },
  {
   "cell_type": "code",
   "execution_count": 4,
   "id": "a7866141",
   "metadata": {},
   "outputs": [
    {
     "name": "stdout",
     "output_type": "stream",
     "text": [
      "6\n",
      "30\n",
      "120\n",
      "360\n",
      "720\n",
      "720\n"
     ]
    }
   ],
   "source": [
    "number = 6 \n",
    "conclusion = 1\n",
    "\n",
    "while number > 0:\n",
    "    conclusion = conclusion * number \n",
    "    number -= 1\n",
    "    print(conclusion)\n",
    "    "
   ]
  },
  {
   "cell_type": "code",
   "execution_count": 5,
   "id": "a5653e3f",
   "metadata": {},
   "outputs": [
    {
     "name": "stdout",
     "output_type": "stream",
     "text": [
      "1\n",
      "2\n",
      "3\n",
      "4\n",
      "5\n"
     ]
    }
   ],
   "source": [
    "i = 1\n",
    "while i < 6:\n",
    "  print(i)\n",
    "  i += 1"
   ]
  },
  {
   "cell_type": "code",
   "execution_count": 7,
   "id": "6d559687",
   "metadata": {},
   "outputs": [
    {
     "name": "stdout",
     "output_type": "stream",
     "text": [
      "1\n",
      "2\n",
      "4\n",
      "5\n",
      "6\n"
     ]
    }
   ],
   "source": [
    "i = 0\n",
    "while i < 6:\n",
    "  i += 1\n",
    "  if i == 3:\n",
    "    continue\n",
    "  print(i)"
   ]
  },
  {
   "cell_type": "code",
   "execution_count": null,
   "id": "68e74f79",
   "metadata": {},
   "outputs": [],
   "source": []
  }
 ],
 "metadata": {
  "kernelspec": {
   "display_name": "Python 3 (ipykernel)",
   "language": "python",
   "name": "python3"
  },
  "language_info": {
   "codemirror_mode": {
    "name": "ipython",
    "version": 3
   },
   "file_extension": ".py",
   "mimetype": "text/x-python",
   "name": "python",
   "nbconvert_exporter": "python",
   "pygments_lexer": "ipython3",
   "version": "3.10.9"
  }
 },
 "nbformat": 4,
 "nbformat_minor": 5
}
