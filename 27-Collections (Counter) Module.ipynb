{
 "cells": [
  {
   "cell_type": "markdown",
   "id": "da77adef",
   "metadata": {},
   "source": [
    "# Collections (Counter) Module"
   ]
  },
  {
   "cell_type": "code",
   "execution_count": 3,
   "id": "75ad7991",
   "metadata": {},
   "outputs": [],
   "source": [
    "from collections import Counter\n",
    "import random "
   ]
  },
  {
   "cell_type": "code",
   "execution_count": 5,
   "id": "be1e5061",
   "metadata": {},
   "outputs": [
    {
     "name": "stdout",
     "output_type": "stream",
     "text": [
      "[6, 3, 4, 2]\n"
     ]
    }
   ],
   "source": [
    "list1= random.sample(range(10), k=4)\n",
    "list2= random.sample(range(10), k=4)\n",
    "list3= random.sample(range(10), k=4)\n",
    "list4= random.sample(range(10), k=4)\n",
    "\n",
    "print(list2)"
   ]
  },
  {
   "cell_type": "code",
   "execution_count": 9,
   "id": "a8c9c797",
   "metadata": {},
   "outputs": [
    {
     "name": "stdout",
     "output_type": "stream",
     "text": [
      "[[9, 3, 7, 4], [7, 5, 8, 4], [6, 3, 4, 1], [4, 2, 1, 0]]\n",
      "[9, 3, 7, 4, 7, 5, 8, 4, 6, 3, 4, 1, 4, 2, 1, 0]\n"
     ]
    }
   ],
   "source": [
    "list1= random.sample(range(10), k=4)\n",
    "list2= random.sample(range(10), k=4)\n",
    "list3= random.sample(range(10), k=4)\n",
    "list4= random.sample(range(10), k=4)\n",
    "\n",
    "list_lists= [list1, list2 , list3 , list4]\n",
    "list_total = list1 + list2 + list3 + list4\n",
    "\n",
    "print(list_lists)\n",
    "print(list_total)\n"
   ]
  },
  {
   "cell_type": "code",
   "execution_count": 10,
   "id": "78f8f89f",
   "metadata": {},
   "outputs": [
    {
     "name": "stdout",
     "output_type": "stream",
     "text": [
      "1. list  \t [9, 3, 7, 4]\n",
      "2. list  \t [7, 5, 8, 4]\n",
      "3. list  \t [6, 3, 4, 1]\n",
      "4. list  \t [4, 2, 1, 0]\n"
     ]
    }
   ],
   "source": [
    "for index , list in enumerate(list_lists):\n",
    "    print('{}. list  \\t {}'.format(index+1, list))\n"
   ]
  },
  {
   "cell_type": "code",
   "execution_count": 12,
   "id": "a7f90fe1",
   "metadata": {},
   "outputs": [
    {
     "name": "stdout",
     "output_type": "stream",
     "text": [
      "1. list  \t [9, 3, 7, 4]\n",
      "2. list  \t [7, 5, 8, 4]\n",
      "3. list  \t [6, 3, 4, 1]\n",
      "4. list  \t [4, 2, 1, 0]\n"
     ]
    },
    {
     "data": {
      "text/plain": [
       "Counter({9: 1, 3: 2, 7: 2, 4: 4, 5: 1, 8: 1, 6: 1, 1: 2, 2: 1, 0: 1})"
      ]
     },
     "execution_count": 12,
     "metadata": {},
     "output_type": "execute_result"
    }
   ],
   "source": [
    "for index , list in enumerate(list_lists):\n",
    "    print('{}. list  \\t {}'.format(index+1, list))\n",
    "Counter(list_total)"
   ]
  },
  {
   "cell_type": "code",
   "execution_count": 14,
   "id": "54cfa405",
   "metadata": {},
   "outputs": [
    {
     "data": {
      "text/plain": [
       "Counter({'s': 4, 'd': 3, 'j': 1, 'f': 1, 't': 1, 'y': 1, 'h': 1})"
      ]
     },
     "execution_count": 14,
     "metadata": {},
     "output_type": "execute_result"
    }
   ],
   "source": [
    "Counter(\"sdsjsfddstyh\")"
   ]
  },
  {
   "cell_type": "code",
   "execution_count": 15,
   "id": "fe6fd4d8",
   "metadata": {},
   "outputs": [
    {
     "data": {
      "text/plain": [
       "'To die, just to sleep!\\nImagine sleeping alone\\nMay all the pains of your heart end,\\nAll the sufferings that humanity has suffered.'"
      ]
     },
     "execution_count": 15,
     "metadata": {},
     "output_type": "execute_result"
    }
   ],
   "source": [
    "song = \"\"\"To die, just to sleep!\n",
    "Imagine sleeping alone\n",
    "May all the pains of your heart end,\n",
    "All the sufferings that humanity has suffered.\"\"\"\n",
    "song\n"
   ]
  },
  {
   "cell_type": "code",
   "execution_count": 16,
   "id": "7b586234",
   "metadata": {},
   "outputs": [
    {
     "name": "stdout",
     "output_type": "stream",
     "text": [
      "To die, just to sleep!\n",
      "Imagine sleeping alone\n",
      "May all the pains of your heart end,\n",
      "All the sufferings that humanity has suffered.\n"
     ]
    }
   ],
   "source": [
    "song = \"\"\"To die, just to sleep!\n",
    "Imagine sleeping alone\n",
    "May all the pains of your heart end,\n",
    "All the sufferings that humanity has suffered.\"\"\"\n",
    "print(song)\n"
   ]
  },
  {
   "cell_type": "code",
   "execution_count": 17,
   "id": "8fd4666d",
   "metadata": {},
   "outputs": [
    {
     "data": {
      "text/plain": [
       "Counter({'T': 1,\n",
       "         'o': 5,\n",
       "         ' ': 19,\n",
       "         'd': 3,\n",
       "         'i': 6,\n",
       "         'e': 14,\n",
       "         ',': 2,\n",
       "         'j': 1,\n",
       "         'u': 5,\n",
       "         's': 8,\n",
       "         't': 8,\n",
       "         'l': 7,\n",
       "         'p': 3,\n",
       "         '!': 1,\n",
       "         '\\n': 3,\n",
       "         'I': 1,\n",
       "         'm': 2,\n",
       "         'a': 9,\n",
       "         'g': 3,\n",
       "         'n': 7,\n",
       "         'M': 1,\n",
       "         'y': 3,\n",
       "         'h': 6,\n",
       "         'f': 5,\n",
       "         'r': 4,\n",
       "         'A': 1,\n",
       "         '.': 1})"
      ]
     },
     "execution_count": 17,
     "metadata": {},
     "output_type": "execute_result"
    }
   ],
   "source": [
    "Counter(song)"
   ]
  },
  {
   "cell_type": "code",
   "execution_count": 18,
   "id": "3d17ac25",
   "metadata": {},
   "outputs": [
    {
     "data": {
      "text/plain": [
       "['To',\n",
       " 'die,',\n",
       " 'just',\n",
       " 'to',\n",
       " 'sleep!',\n",
       " 'Imagine',\n",
       " 'sleeping',\n",
       " 'alone',\n",
       " 'May',\n",
       " 'all',\n",
       " 'the',\n",
       " 'pains',\n",
       " 'of',\n",
       " 'your',\n",
       " 'heart',\n",
       " 'end,',\n",
       " 'All',\n",
       " 'the',\n",
       " 'sufferings',\n",
       " 'that',\n",
       " 'humanity',\n",
       " 'has',\n",
       " 'suffered.']"
      ]
     },
     "execution_count": 18,
     "metadata": {},
     "output_type": "execute_result"
    }
   ],
   "source": [
    "song.split()"
   ]
  },
  {
   "cell_type": "code",
   "execution_count": 19,
   "id": "7059208d",
   "metadata": {},
   "outputs": [
    {
     "data": {
      "text/plain": [
       "Counter({'To': 1,\n",
       "         'die,': 1,\n",
       "         'just': 1,\n",
       "         'to': 1,\n",
       "         'sleep!': 1,\n",
       "         'Imagine': 1,\n",
       "         'sleeping': 1,\n",
       "         'alone': 1,\n",
       "         'May': 1,\n",
       "         'all': 1,\n",
       "         'the': 2,\n",
       "         'pains': 1,\n",
       "         'of': 1,\n",
       "         'your': 1,\n",
       "         'heart': 1,\n",
       "         'end,': 1,\n",
       "         'All': 1,\n",
       "         'sufferings': 1,\n",
       "         'that': 1,\n",
       "         'humanity': 1,\n",
       "         'has': 1,\n",
       "         'suffered.': 1})"
      ]
     },
     "execution_count": 19,
     "metadata": {},
     "output_type": "execute_result"
    }
   ],
   "source": [
    "Counter(song.split())"
   ]
  },
  {
   "cell_type": "code",
   "execution_count": 21,
   "id": "99a0e9d0",
   "metadata": {},
   "outputs": [
    {
     "data": {
      "text/plain": [
       "'to die, just to sleep!\\nimagine sleeping alone\\nmay all the pains of your heart end,\\nall the sufferings that humanity has suffered.'"
      ]
     },
     "execution_count": 21,
     "metadata": {},
     "output_type": "execute_result"
    }
   ],
   "source": [
    "song.lower()"
   ]
  },
  {
   "cell_type": "code",
   "execution_count": 22,
   "id": "a7777f49",
   "metadata": {},
   "outputs": [
    {
     "data": {
      "text/plain": [
       "['to',\n",
       " 'die,',\n",
       " 'just',\n",
       " 'to',\n",
       " 'sleep!',\n",
       " 'imagine',\n",
       " 'sleeping',\n",
       " 'alone',\n",
       " 'may',\n",
       " 'all',\n",
       " 'the',\n",
       " 'pains',\n",
       " 'of',\n",
       " 'your',\n",
       " 'heart',\n",
       " 'end,',\n",
       " 'all',\n",
       " 'the',\n",
       " 'sufferings',\n",
       " 'that',\n",
       " 'humanity',\n",
       " 'has',\n",
       " 'suffered.']"
      ]
     },
     "execution_count": 22,
     "metadata": {},
     "output_type": "execute_result"
    }
   ],
   "source": [
    "song.lower().split()"
   ]
  },
  {
   "cell_type": "code",
   "execution_count": 23,
   "id": "efa6b8d0",
   "metadata": {},
   "outputs": [
    {
     "data": {
      "text/plain": [
       "Counter({'to': 2,\n",
       "         'die,': 1,\n",
       "         'just': 1,\n",
       "         'sleep!': 1,\n",
       "         'imagine': 1,\n",
       "         'sleeping': 1,\n",
       "         'alone': 1,\n",
       "         'may': 1,\n",
       "         'all': 2,\n",
       "         'the': 2,\n",
       "         'pains': 1,\n",
       "         'of': 1,\n",
       "         'your': 1,\n",
       "         'heart': 1,\n",
       "         'end,': 1,\n",
       "         'sufferings': 1,\n",
       "         'that': 1,\n",
       "         'humanity': 1,\n",
       "         'has': 1,\n",
       "         'suffered.': 1})"
      ]
     },
     "execution_count": 23,
     "metadata": {},
     "output_type": "execute_result"
    }
   ],
   "source": [
    "Counter(song.lower().split())"
   ]
  },
  {
   "cell_type": "code",
   "execution_count": 24,
   "id": "20f173b0",
   "metadata": {},
   "outputs": [
    {
     "data": {
      "text/plain": [
       "[('to', 2)]"
      ]
     },
     "execution_count": 24,
     "metadata": {},
     "output_type": "execute_result"
    }
   ],
   "source": [
    "Counter(song.lower().split()).most_common(1)"
   ]
  },
  {
   "cell_type": "code",
   "execution_count": 25,
   "id": "5d823cb1",
   "metadata": {},
   "outputs": [
    {
     "data": {
      "text/plain": [
       "[('to', 2), ('all', 2), ('the', 2)]"
      ]
     },
     "execution_count": 25,
     "metadata": {},
     "output_type": "execute_result"
    }
   ],
   "source": [
    "Counter(song.lower().split()).most_common(3)"
   ]
  },
  {
   "cell_type": "code",
   "execution_count": null,
   "id": "81a85bd2",
   "metadata": {},
   "outputs": [],
   "source": []
  }
 ],
 "metadata": {
  "kernelspec": {
   "display_name": "Python 3 (ipykernel)",
   "language": "python",
   "name": "python3"
  },
  "language_info": {
   "codemirror_mode": {
    "name": "ipython",
    "version": 3
   },
   "file_extension": ".py",
   "mimetype": "text/x-python",
   "name": "python",
   "nbconvert_exporter": "python",
   "pygments_lexer": "ipython3",
   "version": "3.10.9"
  }
 },
 "nbformat": 4,
 "nbformat_minor": 5
}
