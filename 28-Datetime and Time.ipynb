{
 "cells": [
  {
   "cell_type": "markdown",
   "id": "32ad43f3",
   "metadata": {},
   "source": [
    "# Datetime and Time"
   ]
  },
  {
   "cell_type": "code",
   "execution_count": 1,
   "id": "1f7c2c91",
   "metadata": {},
   "outputs": [],
   "source": [
    "import datetime"
   ]
  },
  {
   "cell_type": "markdown",
   "id": "8e638e84",
   "metadata": {},
   "source": [
    "# datetime.date"
   ]
  },
  {
   "cell_type": "code",
   "execution_count": 2,
   "id": "478d26c3",
   "metadata": {},
   "outputs": [],
   "source": [
    "# dadetime.date  (from datetime import date)"
   ]
  },
  {
   "cell_type": "code",
   "execution_count": 3,
   "id": "9b9040ab",
   "metadata": {},
   "outputs": [],
   "source": [
    "from datetime import date "
   ]
  },
  {
   "cell_type": "code",
   "execution_count": 4,
   "id": "3eb9ff64",
   "metadata": {},
   "outputs": [
    {
     "data": {
      "text/plain": [
       "datetime.date(2023, 7, 26)"
      ]
     },
     "execution_count": 4,
     "metadata": {},
     "output_type": "execute_result"
    }
   ],
   "source": [
    "today = date.today()\n",
    "today"
   ]
  },
  {
   "cell_type": "code",
   "execution_count": 5,
   "id": "a00253ae",
   "metadata": {},
   "outputs": [
    {
     "data": {
      "text/plain": [
       "datetime.date(2023, 7, 25)"
      ]
     },
     "execution_count": 5,
     "metadata": {},
     "output_type": "execute_result"
    }
   ],
   "source": [
    "yesterday = date(2023, 7 ,25)\n",
    "yesterday"
   ]
  },
  {
   "cell_type": "code",
   "execution_count": 6,
   "id": "29f1166d",
   "metadata": {},
   "outputs": [
    {
     "data": {
      "text/plain": [
       "datetime.timedelta(days=1)"
      ]
     },
     "execution_count": 6,
     "metadata": {},
     "output_type": "execute_result"
    }
   ],
   "source": [
    "today - yesterday"
   ]
  },
  {
   "cell_type": "code",
   "execution_count": 7,
   "id": "54c1266b",
   "metadata": {},
   "outputs": [
    {
     "data": {
      "text/plain": [
       "datetime.date(2023, 7, 27)"
      ]
     },
     "execution_count": 7,
     "metadata": {},
     "output_type": "execute_result"
    }
   ],
   "source": [
    "tomorrow = today + datetime.timedelta(days= 1)\n",
    "tomorrow"
   ]
  },
  {
   "cell_type": "code",
   "execution_count": 9,
   "id": "c29815e9",
   "metadata": {},
   "outputs": [
    {
     "data": {
      "text/plain": [
       "1"
      ]
     },
     "execution_count": 9,
     "metadata": {},
     "output_type": "execute_result"
    }
   ],
   "source": [
    "time_interval = today - yesterday\n",
    "time_interval.days"
   ]
  },
  {
   "cell_type": "code",
   "execution_count": 10,
   "id": "db771c41",
   "metadata": {},
   "outputs": [
    {
     "data": {
      "text/plain": [
       "True"
      ]
     },
     "execution_count": 10,
     "metadata": {},
     "output_type": "execute_result"
    }
   ],
   "source": [
    "today > yesterday"
   ]
  },
  {
   "cell_type": "code",
   "execution_count": 11,
   "id": "29427180",
   "metadata": {},
   "outputs": [
    {
     "data": {
      "text/plain": [
       "2023"
      ]
     },
     "execution_count": 11,
     "metadata": {},
     "output_type": "execute_result"
    }
   ],
   "source": [
    "today.year"
   ]
  },
  {
   "cell_type": "code",
   "execution_count": 13,
   "id": "e9dfc42a",
   "metadata": {},
   "outputs": [
    {
     "data": {
      "text/plain": [
       "26"
      ]
     },
     "execution_count": 13,
     "metadata": {},
     "output_type": "execute_result"
    }
   ],
   "source": [
    "today.day"
   ]
  },
  {
   "cell_type": "code",
   "execution_count": 15,
   "id": "ce1c30fd",
   "metadata": {},
   "outputs": [
    {
     "data": {
      "text/plain": [
       "7"
      ]
     },
     "execution_count": 15,
     "metadata": {},
     "output_type": "execute_result"
    }
   ],
   "source": [
    "today.month"
   ]
  },
  {
   "cell_type": "code",
   "execution_count": 14,
   "id": "eabc4a9a",
   "metadata": {},
   "outputs": [
    {
     "data": {
      "text/plain": [
       "7"
      ]
     },
     "execution_count": 14,
     "metadata": {},
     "output_type": "execute_result"
    }
   ],
   "source": [
    "today.__getattribute__('month')"
   ]
  },
  {
   "cell_type": "code",
   "execution_count": 16,
   "id": "621ebd69",
   "metadata": {},
   "outputs": [
    {
     "data": {
      "text/plain": [
       "datetime.IsoCalendarDate(year=2023, week=30, weekday=3)"
      ]
     },
     "execution_count": 16,
     "metadata": {},
     "output_type": "execute_result"
    }
   ],
   "source": [
    "date.isocalendar(today)"
   ]
  },
  {
   "cell_type": "code",
   "execution_count": 17,
   "id": "ac848515",
   "metadata": {},
   "outputs": [
    {
     "data": {
      "text/plain": [
       "2"
      ]
     },
     "execution_count": 17,
     "metadata": {},
     "output_type": "execute_result"
    }
   ],
   "source": [
    "date.weekday(today)"
   ]
  },
  {
   "cell_type": "code",
   "execution_count": 18,
   "id": "2b419784",
   "metadata": {},
   "outputs": [
    {
     "data": {
      "text/plain": [
       "2023"
      ]
     },
     "execution_count": 18,
     "metadata": {},
     "output_type": "execute_result"
    }
   ],
   "source": [
    "date.isocalendar(today)[0]"
   ]
  },
  {
   "cell_type": "code",
   "execution_count": 19,
   "id": "ef36eb6a",
   "metadata": {},
   "outputs": [
    {
     "data": {
      "text/plain": [
       "30"
      ]
     },
     "execution_count": 19,
     "metadata": {},
     "output_type": "execute_result"
    }
   ],
   "source": [
    "date.isocalendar(today)[1]"
   ]
  },
  {
   "cell_type": "code",
   "execution_count": 21,
   "id": "71fe48ec",
   "metadata": {},
   "outputs": [
    {
     "data": {
      "text/plain": [
       "3"
      ]
     },
     "execution_count": 21,
     "metadata": {},
     "output_type": "execute_result"
    }
   ],
   "source": [
    "date.isocalendar(today)[2]"
   ]
  },
  {
   "cell_type": "code",
   "execution_count": 22,
   "id": "3f26d0f3",
   "metadata": {},
   "outputs": [
    {
     "data": {
      "text/plain": [
       "'Wed Jul 26 00:00:00 2023'"
      ]
     },
     "execution_count": 22,
     "metadata": {},
     "output_type": "execute_result"
    }
   ],
   "source": [
    "date.ctime(today )"
   ]
  },
  {
   "cell_type": "markdown",
   "id": "0ee28855",
   "metadata": {},
   "source": [
    "# datetime.time"
   ]
  },
  {
   "cell_type": "code",
   "execution_count": 29,
   "id": "81b30db5",
   "metadata": {},
   "outputs": [],
   "source": [
    "from datetime import time"
   ]
  },
  {
   "cell_type": "code",
   "execution_count": 30,
   "id": "81107224",
   "metadata": {},
   "outputs": [
    {
     "data": {
      "text/plain": [
       "datetime.time(21, 15, 5)"
      ]
     },
     "execution_count": 30,
     "metadata": {},
     "output_type": "execute_result"
    }
   ],
   "source": [
    "time= time(21,15,5)\n",
    "time"
   ]
  },
  {
   "cell_type": "code",
   "execution_count": 31,
   "id": "ac1dc151",
   "metadata": {},
   "outputs": [
    {
     "data": {
      "text/plain": [
       "21"
      ]
     },
     "execution_count": 31,
     "metadata": {},
     "output_type": "execute_result"
    }
   ],
   "source": [
    "time.hour"
   ]
  },
  {
   "cell_type": "code",
   "execution_count": 32,
   "id": "1af13e3f",
   "metadata": {},
   "outputs": [
    {
     "data": {
      "text/plain": [
       "15"
      ]
     },
     "execution_count": 32,
     "metadata": {},
     "output_type": "execute_result"
    }
   ],
   "source": [
    "time.minute"
   ]
  },
  {
   "cell_type": "code",
   "execution_count": 33,
   "id": "0bbc6e67",
   "metadata": {},
   "outputs": [
    {
     "data": {
      "text/plain": [
       "5"
      ]
     },
     "execution_count": 33,
     "metadata": {},
     "output_type": "execute_result"
    }
   ],
   "source": [
    "time.second"
   ]
  },
  {
   "cell_type": "code",
   "execution_count": 35,
   "id": "dbf3d89b",
   "metadata": {},
   "outputs": [
    {
     "name": "stdout",
     "output_type": "stream",
     "text": [
      "2023-01-12 04:05:06\n"
     ]
    }
   ],
   "source": [
    "dt =datetime.datetime(2023,1,12,4,5,6)\n",
    "print(dt)"
   ]
  },
  {
   "cell_type": "code",
   "execution_count": 36,
   "id": "619b8780",
   "metadata": {},
   "outputs": [
    {
     "data": {
      "text/plain": [
       "4"
      ]
     },
     "execution_count": 36,
     "metadata": {},
     "output_type": "execute_result"
    }
   ],
   "source": [
    "dt.hour"
   ]
  },
  {
   "cell_type": "markdown",
   "id": "228a3f87",
   "metadata": {},
   "source": [
    "# time"
   ]
  },
  {
   "cell_type": "code",
   "execution_count": 37,
   "id": "a9f65e9d",
   "metadata": {},
   "outputs": [],
   "source": [
    "import time"
   ]
  },
  {
   "cell_type": "code",
   "execution_count": 38,
   "id": "c030f60f",
   "metadata": {},
   "outputs": [
    {
     "data": {
      "text/plain": [
       "1690362888.4991302"
      ]
     },
     "execution_count": 38,
     "metadata": {},
     "output_type": "execute_result"
    }
   ],
   "source": [
    "time.time()"
   ]
  },
  {
   "cell_type": "code",
   "execution_count": 43,
   "id": "48df5305",
   "metadata": {},
   "outputs": [
    {
     "name": "stdout",
     "output_type": "stream",
     "text": [
      "start time :\t1690363572.9982634\n",
      "end time : \t1690363577.9994526\n",
      "operation time :\t5.001189231872559\n"
     ]
    }
   ],
   "source": [
    "start_time = time.time()\n",
    "print('start time :\\t{}'.format(start_time))\n",
    "time.sleep(5)\n",
    "end_time  = time.time()\n",
    "print('end time : \\t{}'.format(end_time))\n",
    "print('operation time :\\t{}'.format(end_time - start_time))\n"
   ]
  },
  {
   "cell_type": "code",
   "execution_count": 45,
   "id": "913d3938",
   "metadata": {},
   "outputs": [
    {
     "name": "stdout",
     "output_type": "stream",
     "text": [
      "start time :\t1690363668.6413438\n",
      "end time : \t1690363673.6461492\n",
      "operation time :\t5\n"
     ]
    }
   ],
   "source": [
    "start_time = time.time()\n",
    "print('start time :\\t{}'.format(start_time))\n",
    "time.sleep(5)\n",
    "end_time  = time.time()\n",
    "print('end time : \\t{}'.format(end_time))\n",
    "print('operation time :\\t{}'.format(round(end_time - start_time)))\n"
   ]
  },
  {
   "cell_type": "code",
   "execution_count": null,
   "id": "4ad21fae",
   "metadata": {},
   "outputs": [],
   "source": []
  }
 ],
 "metadata": {
  "kernelspec": {
   "display_name": "Python 3 (ipykernel)",
   "language": "python",
   "name": "python3"
  },
  "language_info": {
   "codemirror_mode": {
    "name": "ipython",
    "version": 3
   },
   "file_extension": ".py",
   "mimetype": "text/x-python",
   "name": "python",
   "nbconvert_exporter": "python",
   "pygments_lexer": "ipython3",
   "version": "3.10.9"
  }
 },
 "nbformat": 4,
 "nbformat_minor": 5
}
