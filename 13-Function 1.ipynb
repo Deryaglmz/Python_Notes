{
 "cells": [
  {
   "cell_type": "markdown",
   "id": "912ff7c2",
   "metadata": {},
   "source": [
    "# function structure"
   ]
  },
  {
   "cell_type": "code",
   "execution_count": 1,
   "id": "e2d8280c",
   "metadata": {},
   "outputs": [],
   "source": [
    " # def <function_name> (argument) : # snake_case\n",
    " #   \"\"\"\n",
    " #   what does this code do         # docstring \n",
    " #    \"\"\"\n",
    " #   ...                            # return / print<\n",
    "    "
   ]
  },
  {
   "cell_type": "code",
   "execution_count": 2,
   "id": "5405679f",
   "metadata": {},
   "outputs": [],
   "source": [
    "def five_suppress():\n",
    "    print(5)\n",
    "    "
   ]
  },
  {
   "cell_type": "code",
   "execution_count": 3,
   "id": "9cf5d912",
   "metadata": {},
   "outputs": [
    {
     "name": "stdout",
     "output_type": "stream",
     "text": [
      "5\n"
     ]
    }
   ],
   "source": [
    "five_suppress()\n"
   ]
  },
  {
   "cell_type": "markdown",
   "id": "530ce6c9",
   "metadata": {},
   "source": [
    "# return and print in functions"
   ]
  },
  {
   "cell_type": "code",
   "execution_count": 4,
   "id": "733eafa0",
   "metadata": {},
   "outputs": [],
   "source": [
    "def five_turn():\n",
    "    return(5)\n"
   ]
  },
  {
   "cell_type": "code",
   "execution_count": 7,
   "id": "cc0a7a9a",
   "metadata": {},
   "outputs": [
    {
     "data": {
      "text/plain": [
       "5"
      ]
     },
     "execution_count": 7,
     "metadata": {},
     "output_type": "execute_result"
    }
   ],
   "source": [
    "five_turn()\n"
   ]
  },
  {
   "cell_type": "code",
   "execution_count": 11,
   "id": "99bf3de4",
   "metadata": {},
   "outputs": [
    {
     "name": "stdout",
     "output_type": "stream",
     "text": [
      "5\n"
     ]
    }
   ],
   "source": [
    "a = five_suppress()\n",
    "a"
   ]
  },
  {
   "cell_type": "code",
   "execution_count": 12,
   "id": "7739f94b",
   "metadata": {},
   "outputs": [
    {
     "name": "stdout",
     "output_type": "stream",
     "text": [
      "5\n",
      "None\n"
     ]
    }
   ],
   "source": [
    "a = five_suppress()\n",
    "print(a)\n"
   ]
  },
  {
   "cell_type": "code",
   "execution_count": 15,
   "id": "6f017455",
   "metadata": {},
   "outputs": [
    {
     "name": "stdout",
     "output_type": "stream",
     "text": [
      "5\n"
     ]
    }
   ],
   "source": [
    "five_turn()\n",
    "print(5)\n"
   ]
  },
  {
   "cell_type": "markdown",
   "id": "28af42e4",
   "metadata": {},
   "source": [
    "# arguments in functions"
   ]
  },
  {
   "cell_type": "code",
   "execution_count": 16,
   "id": "2dd3b8bb",
   "metadata": {},
   "outputs": [],
   "source": [
    "def number_turn(number):\n",
    "    return number"
   ]
  },
  {
   "cell_type": "code",
   "execution_count": 17,
   "id": "02361296",
   "metadata": {},
   "outputs": [
    {
     "data": {
      "text/plain": [
       "10"
      ]
     },
     "execution_count": 17,
     "metadata": {},
     "output_type": "execute_result"
    }
   ],
   "source": [
    "number_turn(10)"
   ]
  },
  {
   "cell_type": "code",
   "execution_count": 18,
   "id": "ccd2f7f7",
   "metadata": {},
   "outputs": [],
   "source": [
    "def number_turn(number=250):\n",
    "    return number"
   ]
  },
  {
   "cell_type": "code",
   "execution_count": 19,
   "id": "35f42ccd",
   "metadata": {},
   "outputs": [
    {
     "data": {
      "text/plain": [
       "250"
      ]
     },
     "execution_count": 19,
     "metadata": {},
     "output_type": "execute_result"
    }
   ],
   "source": [
    "number_turn()"
   ]
  },
  {
   "cell_type": "code",
   "execution_count": 20,
   "id": "2a6a5701",
   "metadata": {},
   "outputs": [
    {
     "data": {
      "text/plain": [
       "10"
      ]
     },
     "execution_count": 20,
     "metadata": {},
     "output_type": "execute_result"
    }
   ],
   "source": [
    "number_turn(10)"
   ]
  },
  {
   "cell_type": "code",
   "execution_count": 21,
   "id": "1aed639d",
   "metadata": {},
   "outputs": [],
   "source": [
    "def return_big_number(a,b):\n",
    "    if a>b:\n",
    "        return a\n",
    "    elif b>a:\n",
    "        return b\n"
   ]
  },
  {
   "cell_type": "code",
   "execution_count": 23,
   "id": "76dba2af",
   "metadata": {},
   "outputs": [
    {
     "data": {
      "text/plain": [
       "10"
      ]
     },
     "execution_count": 23,
     "metadata": {},
     "output_type": "execute_result"
    }
   ],
   "source": [
    "return_big_number(5,10)"
   ]
  },
  {
   "cell_type": "code",
   "execution_count": 29,
   "id": "7c9185b7",
   "metadata": {},
   "outputs": [
    {
     "name": "stdout",
     "output_type": "stream",
     "text": [
      "Name: cansu\n",
      "Name: Yasemin\n"
     ]
    }
   ],
   "source": [
    "def function(name):\n",
    "  print(\"Name: \" +name)\n",
    "\n",
    "function(\"cansu\")\n",
    "function(\"Yasemin\")"
   ]
  },
  {
   "cell_type": "code",
   "execution_count": 28,
   "id": "57fff704",
   "metadata": {},
   "outputs": [
    {
     "name": "stdout",
     "output_type": "stream",
     "text": [
      "Name: Mehmet, Surname: Akgün\n"
     ]
    }
   ],
   "source": [
    "def function(name, surname):\n",
    "  print(\"Name: \" + name + \", Surname: \" + surname)\n",
    "\n",
    "function(\"Mehmet\", \"Akgün\")"
   ]
  },
  {
   "cell_type": "code",
   "execution_count": null,
   "id": "c12b3b78",
   "metadata": {},
   "outputs": [],
   "source": []
  }
 ],
 "metadata": {
  "kernelspec": {
   "display_name": "Python 3 (ipykernel)",
   "language": "python",
   "name": "python3"
  },
  "language_info": {
   "codemirror_mode": {
    "name": "ipython",
    "version": 3
   },
   "file_extension": ".py",
   "mimetype": "text/x-python",
   "name": "python",
   "nbconvert_exporter": "python",
   "pygments_lexer": "ipython3",
   "version": "3.10.9"
  }
 },
 "nbformat": 4,
 "nbformat_minor": 5
}
