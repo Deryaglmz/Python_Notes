{
 "cells": [
  {
   "cell_type": "markdown",
   "id": "88353ab4",
   "metadata": {},
   "source": [
    "# Effective email sending"
   ]
  },
  {
   "cell_type": "code",
   "execution_count": 1,
   "id": "43c0a6ad",
   "metadata": {},
   "outputs": [],
   "source": [
    "import ssl\n",
    "import smtplib"
   ]
  },
  {
   "cell_type": "code",
   "execution_count": null,
   "id": "54cf1e08",
   "metadata": {},
   "outputs": [],
   "source": [
    "from email.mime.multipart import MIMEMultipart\n",
    "from email.mime.text import MIMEText\n",
    "from email.mime.base import MIMEBase\n",
    "\n",
    "mail = MIMEMultipart()\n",
    "mail['From']= user\n",
    "mail['To']= user\n",
    "mail['Subject']= title\n",
    "\n",
    "mail.attach(MIMEText(message, 'plain'))\n",
    "\n",
    "plugin_file_name= 'arjantin.jpg'\n",
    "\n",
    "with(open(plugin_file_name, 'rb')) as plugin_file:\n",
    "    payload= MIMEBase('application', 'octate-stream')\n",
    "    payload.set_payload(plugin_file.read())\n",
    "    encoders.encode_base64(payload)\n",
    "    \n",
    "    payload.add_header(\"Conten-Decomposition\", \"attachment\",plugin_file_name )\n",
    "    mail.attach(payload)\n",
    "    \n",
    "    mail_str = mail.as_string()"
   ]
  },
  {
   "cell_type": "code",
   "execution_count": null,
   "id": "32c2184d",
   "metadata": {},
   "outputs": [],
   "source": [
    "port = 465\n",
    "host='smtp.gmail.com'\n",
    "\n",
    "email_server= smtplib.SMTP_SSL(host = host, port= port, context= context)\n",
    "email_server.login(user , password)\n",
    "email_server.senmail(user, buyer, mail_str)            "
   ]
  },
  {
   "cell_type": "code",
   "execution_count": null,
   "id": "4fc38395",
   "metadata": {},
   "outputs": [],
   "source": []
  }
 ],
 "metadata": {
  "kernelspec": {
   "display_name": "Python 3 (ipykernel)",
   "language": "python",
   "name": "python3"
  },
  "language_info": {
   "codemirror_mode": {
    "name": "ipython",
    "version": 3
   },
   "file_extension": ".py",
   "mimetype": "text/x-python",
   "name": "python",
   "nbconvert_exporter": "python",
   "pygments_lexer": "ipython3",
   "version": "3.10.9"
  }
 },
 "nbformat": 4,
 "nbformat_minor": 5
}
