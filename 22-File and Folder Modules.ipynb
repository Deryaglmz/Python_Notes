{
 "cells": [
  {
   "cell_type": "markdown",
   "id": "16d230c7",
   "metadata": {},
   "source": [
    "# Magic Commands"
   ]
  },
  {
   "cell_type": "code",
   "execution_count": 2,
   "id": "ef3b5915",
   "metadata": {},
   "outputs": [
    {
     "name": "stdout",
     "output_type": "stream",
     "text": [
      " Volume in drive C is Windows\n",
      " Volume Serial Number is 4A1B-882C\n",
      "\n",
      " Directory of C:\\Users\\derya\\Untitled Folder\n",
      "\n",
      "07/19/2023  10:40 AM    <DIR>          .\n",
      "07/18/2023  04:56 PM    <DIR>          ..\n",
      "07/19/2023  10:32 AM    <DIR>          .ipynb_checkpoints\n",
      "07/18/2023  11:48 AM             6,346 Class.ipynb\n",
      "07/17/2023  08:45 AM             6,295 Confirm User Input.ipynb\n",
      "07/11/2023  12:57 PM             8,303 Data Types.ipynb\n",
      "07/12/2023  01:42 PM            13,667 Data Types3.ipynb\n",
      "07/18/2023  04:52 PM             8,069 Dunder Methods (Double Under Score).ipynb\n",
      "07/13/2023  08:32 PM             6,325 For Loop.ipynb\n",
      "07/16/2023  12:25 PM             7,673 Function 2.ipynb\n",
      "07/16/2023  12:25 PM             6,111 Function 3.ipynb\n",
      "07/18/2023  01:02 PM             9,185 Methods in Classes.ipynb\n",
      "07/10/2023  09:52 PM             9,803 Print Command and Variables.ipynb\n",
      "07/17/2023  12:46 PM            11,753 try, except, finally.ipynb\n",
      "07/19/2023  10:40 AM               709 Untitled.ipynb\n",
      "07/16/2023  03:44 PM             4,821 User Input.ipynb\n",
      "              13 File(s)         99,060 bytes\n",
      "               3 Dir(s)  439,379,341,312 bytes free\n"
     ]
    }
   ],
   "source": [
    "%ls"
   ]
  },
  {
   "cell_type": "code",
   "execution_count": 3,
   "id": "702d93af",
   "metadata": {},
   "outputs": [
    {
     "data": {
      "text/plain": [
       "'C:\\\\Users\\\\derya\\\\Untitled Folder'"
      ]
     },
     "execution_count": 3,
     "metadata": {},
     "output_type": "execute_result"
    }
   ],
   "source": [
    "%pwd"
   ]
  },
  {
   "cell_type": "markdown",
   "id": "7efb8eed",
   "metadata": {},
   "source": [
    "# OS Module"
   ]
  },
  {
   "cell_type": "markdown",
   "id": "6ba23774",
   "metadata": {},
   "source": [
    "# Navigation and Content Listing"
   ]
  },
  {
   "cell_type": "code",
   "execution_count": 4,
   "id": "75b38b2d",
   "metadata": {},
   "outputs": [],
   "source": [
    "import os"
   ]
  },
  {
   "cell_type": "code",
   "execution_count": 6,
   "id": "89e1a7da",
   "metadata": {},
   "outputs": [
    {
     "data": {
      "text/plain": [
       "'C:\\\\Users\\\\derya\\\\Untitled Folder'"
      ]
     },
     "execution_count": 6,
     "metadata": {},
     "output_type": "execute_result"
    }
   ],
   "source": [
    "os.getcwd()"
   ]
  },
  {
   "cell_type": "code",
   "execution_count": 7,
   "id": "af95b583",
   "metadata": {},
   "outputs": [
    {
     "data": {
      "text/plain": [
       "['.git',\n",
       " '.ipynb_checkpoints',\n",
       " 'Class.ipynb',\n",
       " 'Confirm User İnput.ipynb',\n",
       " 'Data Types.ipynb',\n",
       " 'Data Types3.ipynb',\n",
       " 'Dunder Methods (Double Under Score).ipynb',\n",
       " 'For Loop.ipynb',\n",
       " 'Function 2.ipynb',\n",
       " 'Function 3.ipynb',\n",
       " 'Methods in Classes.ipynb',\n",
       " 'Print Command and Variables.ipynb',\n",
       " 'try, except, finally.ipynb',\n",
       " 'Untitled.ipynb',\n",
       " 'User İnput.ipynb']"
      ]
     },
     "execution_count": 7,
     "metadata": {},
     "output_type": "execute_result"
    }
   ],
   "source": [
    "os.listdir()"
   ]
  },
  {
   "cell_type": "code",
   "execution_count": 8,
   "id": "358d48ad",
   "metadata": {},
   "outputs": [
    {
     "data": {
      "text/plain": [
       "['All Users', 'Default', 'Default User', 'derya', 'desktop.ini', 'Public']"
      ]
     },
     "execution_count": 8,
     "metadata": {},
     "output_type": "execute_result"
    }
   ],
   "source": [
    "os.listdir('C:\\\\Users')"
   ]
  },
  {
   "cell_type": "code",
   "execution_count": 9,
   "id": "f1f78ce1",
   "metadata": {},
   "outputs": [],
   "source": [
    "os.chdir('C:\\\\Users')"
   ]
  },
  {
   "cell_type": "code",
   "execution_count": 11,
   "id": "8a2e6b16",
   "metadata": {},
   "outputs": [
    {
     "data": {
      "text/plain": [
       "['All Users', 'Default', 'Default User', 'derya', 'desktop.ini', 'Public']"
      ]
     },
     "execution_count": 11,
     "metadata": {},
     "output_type": "execute_result"
    }
   ],
   "source": [
    "os.listdir()"
   ]
  },
  {
   "cell_type": "code",
   "execution_count": 12,
   "id": "c19a8e5e",
   "metadata": {},
   "outputs": [],
   "source": [
    "os.chdir('C:\\\\Users\\\\derya\\\\Untitled Folder')"
   ]
  },
  {
   "cell_type": "code",
   "execution_count": 13,
   "id": "6f661b76",
   "metadata": {},
   "outputs": [
    {
     "name": "stdout",
     "output_type": "stream",
     "text": [
      ".git\n",
      ".ipynb_checkpoints\n",
      "Class.ipynb\n",
      "Confirm User İnput.ipynb\n",
      "Data Types.ipynb\n",
      "Data Types3.ipynb\n",
      "Dunder Methods (Double Under Score).ipynb\n",
      "For Loop.ipynb\n",
      "Function 2.ipynb\n",
      "Function 3.ipynb\n",
      "Methods in Classes.ipynb\n",
      "Print Command and Variables.ipynb\n",
      "try, except, finally.ipynb\n",
      "Untitled.ipynb\n",
      "User İnput.ipynb\n"
     ]
    }
   ],
   "source": [
    "folders = os.listdir()\n",
    "for factor in folders:\n",
    "    print(factor)"
   ]
  },
  {
   "cell_type": "markdown",
   "id": "a97ea3df",
   "metadata": {},
   "source": [
    "# New Element Creation , Nanme Change , Delete"
   ]
  },
  {
   "cell_type": "code",
   "execution_count": 14,
   "id": "e8c75d55",
   "metadata": {},
   "outputs": [],
   "source": [
    "# os.mkdir (make directory)   create file"
   ]
  },
  {
   "cell_type": "code",
   "execution_count": 15,
   "id": "2aea2900",
   "metadata": {},
   "outputs": [],
   "source": [
    "# os.rmd (remove directort)   delete folder"
   ]
  },
  {
   "cell_type": "code",
   "execution_count": 16,
   "id": "07cc2309",
   "metadata": {},
   "outputs": [],
   "source": [
    "## os.O_RDONLY - Read Onliy\n",
    "\n",
    "## os.O_WRONLY - Write Onliy\n",
    "\n",
    "## os.O_RDWR - Read and Write\n",
    "\n",
    "## os.O_CREAT - Create   | "
   ]
  },
  {
   "cell_type": "code",
   "execution_count": 1,
   "id": "1db40621",
   "metadata": {},
   "outputs": [],
   "source": [
    "# new_file = os.open('new_file.txt' ,os.O_RDWR|os.O_CREAT )\n",
    "# os.write(new_file , \"Hello World\".encode())\n",
    "# os.close(new_file)"
   ]
  },
  {
   "cell_type": "code",
   "execution_count": 2,
   "id": "9dd4abdf",
   "metadata": {},
   "outputs": [
    {
     "name": "stdout",
     "output_type": "stream",
     "text": [
      "['_Processor', '_WIN32_CLIENT_RELEASES', '_WIN32_SERVER_RELEASES', '__builtins__', '__cached__', '__copyright__', '__doc__', '__file__', '__loader__', '__name__', '__package__', '__spec__', '__version__', '_comparable_version', '_component_re', '_default_architecture', '_follow_symlinks', '_get_machine_win32', '_ironpython26_sys_version_parser', '_ironpython_sys_version_parser', '_java_getprop', '_libc_search', '_mac_ver_xml', '_node', '_norm_version', '_os_release_cache', '_os_release_candidates', '_os_release_line', '_os_release_unescape', '_parse_os_release', '_platform', '_platform_cache', '_pypy_sys_version_parser', '_sys_version', '_sys_version_cache', '_sys_version_parser', '_syscmd_file', '_syscmd_ver', '_uname_cache', '_unknown_as_blank', '_ver_output', '_ver_stages', 'architecture', 'collections', 'freedesktop_os_release', 'functools', 'itertools', 'java_ver', 'libc_ver', 'mac_ver', 'machine', 'node', 'os', 'platform', 'processor', 'python_branch', 'python_build', 'python_compiler', 'python_implementation', 'python_revision', 'python_version', 'python_version_tuple', 're', 'release', 'subprocess', 'sys', 'system', 'system_alias', 'uname', 'uname_result', 'version', 'win32_edition', 'win32_is_iot', 'win32_ver']\n"
     ]
    }
   ],
   "source": [
    "import platform\n",
    "\n",
    "x = dir(platform)\n",
    "print(x)                 # dir command"
   ]
  },
  {
   "cell_type": "code",
   "execution_count": null,
   "id": "0f5b9204",
   "metadata": {},
   "outputs": [],
   "source": []
  }
 ],
 "metadata": {
  "kernelspec": {
   "display_name": "Python 3 (ipykernel)",
   "language": "python",
   "name": "python3"
  },
  "language_info": {
   "codemirror_mode": {
    "name": "ipython",
    "version": 3
   },
   "file_extension": ".py",
   "mimetype": "text/x-python",
   "name": "python",
   "nbconvert_exporter": "python",
   "pygments_lexer": "ipython3",
   "version": "3.10.9"
  }
 },
 "nbformat": 4,
 "nbformat_minor": 5
}
