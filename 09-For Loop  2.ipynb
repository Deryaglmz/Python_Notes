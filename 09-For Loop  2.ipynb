{
 "cells": [
  {
   "cell_type": "markdown",
   "id": "b3271c1d",
   "metadata": {},
   "source": [
    "# for loop 2"
   ]
  },
  {
   "cell_type": "code",
   "execution_count": 1,
   "id": "adbc1b0c",
   "metadata": {},
   "outputs": [
    {
     "name": "stdout",
     "output_type": "stream",
     "text": [
      "1\n",
      "3\n",
      "5\n",
      "7\n"
     ]
    }
   ],
   "source": [
    "tup1 = (1, 3 , 5 , 7)\n",
    "for number in tup1:\n",
    "    print(number)\n",
    "    "
   ]
  },
  {
   "cell_type": "code",
   "execution_count": 3,
   "id": "6d7d7a39",
   "metadata": {},
   "outputs": [
    {
     "name": "stdout",
     "output_type": "stream",
     "text": [
      "1\n",
      "2\n",
      "3\n"
     ]
    }
   ],
   "source": [
    "list = [[1,2], [2,3] , [3,4]]\n",
    "for x,y in list:\n",
    "    print(x)\n"
   ]
  },
  {
   "cell_type": "code",
   "execution_count": 4,
   "id": "124d9ec4",
   "metadata": {},
   "outputs": [
    {
     "name": "stdout",
     "output_type": "stream",
     "text": [
      "1\n",
      "2\n",
      "3\n",
      "a\n"
     ]
    }
   ],
   "source": [
    "list = [[1,2], [2,3] , [3,4], ['a', 'b']]\n",
    "for x,y in list:\n",
    "    print(x)\n",
    "    "
   ]
  },
  {
   "cell_type": "code",
   "execution_count": 5,
   "id": "b74238c0",
   "metadata": {},
   "outputs": [
    {
     "name": "stdout",
     "output_type": "stream",
     "text": [
      "2\n",
      "3\n",
      "4\n"
     ]
    }
   ],
   "source": [
    "list = [[1,2], [2,3] , [3,4]]\n",
    "for x,y in list:\n",
    "    print(y)\n"
   ]
  },
  {
   "cell_type": "code",
   "execution_count": 6,
   "id": "399165e3",
   "metadata": {},
   "outputs": [
    {
     "name": "stdout",
     "output_type": "stream",
     "text": [
      "1 2\n",
      "2 3\n",
      "3 4\n"
     ]
    }
   ],
   "source": [
    "list = [[1,2], [2,3] , [3,4]]\n",
    "for x,y in list:\n",
    "    print(x,y)\n"
   ]
  },
  {
   "cell_type": "code",
   "execution_count": 7,
   "id": "1f471736",
   "metadata": {},
   "outputs": [
    {
     "name": "stdout",
     "output_type": "stream",
     "text": [
      "2\n",
      "6\n",
      "12\n"
     ]
    }
   ],
   "source": [
    "list = [[1,2], [2,3] , [3,4]]\n",
    "for x,y in list:\n",
    "    print(x*y)\n"
   ]
  },
  {
   "cell_type": "code",
   "execution_count": 12,
   "id": "83aeaabc",
   "metadata": {},
   "outputs": [
    {
     "name": "stdout",
     "output_type": "stream",
     "text": [
      "{'name': 'naz', 'surname': 'yazicioglu'}\n"
     ]
    }
   ],
   "source": [
    "user1 = {\n",
    "    'name' :'naz',\n",
    "     'surname' :'yazicioglu'\n",
    "}\n",
    "print(user1)\n"
   ]
  },
  {
   "cell_type": "code",
   "execution_count": 14,
   "id": "46536df1",
   "metadata": {},
   "outputs": [
    {
     "data": {
      "text/plain": [
       "dict_keys(['name', 'surname'])"
      ]
     },
     "execution_count": 14,
     "metadata": {},
     "output_type": "execute_result"
    }
   ],
   "source": [
    "user1 = {\n",
    "    'name' :'naz',\n",
    "     'surname' :'yazicioglu'\n",
    "}\n",
    "user1.keys()\n"
   ]
  },
  {
   "cell_type": "code",
   "execution_count": 15,
   "id": "0b1db290",
   "metadata": {},
   "outputs": [
    {
     "data": {
      "text/plain": [
       "dict_values(['naz', 'yazicioglu'])"
      ]
     },
     "execution_count": 15,
     "metadata": {},
     "output_type": "execute_result"
    }
   ],
   "source": [
    "user1 = {\n",
    "    'name' :'naz',\n",
    "     'surname' :'yazicioglu'\n",
    "}\n",
    "user1.values()\n"
   ]
  },
  {
   "cell_type": "code",
   "execution_count": 16,
   "id": "9b3f08e7",
   "metadata": {},
   "outputs": [
    {
     "data": {
      "text/plain": [
       "dict_items([('name', 'naz'), ('surname', 'yazicioglu')])"
      ]
     },
     "execution_count": 16,
     "metadata": {},
     "output_type": "execute_result"
    }
   ],
   "source": [
    "user1 = {\n",
    "    'name' :'naz',\n",
    "     'surname' :'yazicioglu'\n",
    "}\n",
    "user1.items()\n"
   ]
  },
  {
   "cell_type": "code",
   "execution_count": 17,
   "id": "67672924",
   "metadata": {},
   "outputs": [
    {
     "name": "stdout",
     "output_type": "stream",
     "text": [
      "Key:name \t Value : naz\n",
      "Key:surname \t Value : yazicioglu\n"
     ]
    }
   ],
   "source": [
    "for k ,v in user1.items():\n",
    "    print('Key:{} \\t Value : {}'.format(k,v))\n"
   ]
  },
  {
   "cell_type": "code",
   "execution_count": 18,
   "id": "bbb91e85",
   "metadata": {},
   "outputs": [
    {
     "name": "stdout",
     "output_type": "stream",
     "text": [
      "dict_items([('name', 'naz'), ('surname', 'yazicioglu')])\n",
      "dict_keys(['name', 'surname'])\n"
     ]
    }
   ],
   "source": [
    "user1 = {\n",
    "    'name' :'naz',\n",
    "     'surname' :'yazicioglu'\n",
    "}\n",
    "print(user1.items())\n",
    "print(user1.keys())\n"
   ]
  },
  {
   "cell_type": "code",
   "execution_count": 19,
   "id": "c12cff35",
   "metadata": {},
   "outputs": [
    {
     "name": "stdout",
     "output_type": "stream",
     "text": [
      "Key:('name', 'naz')\n",
      "Key:('surname', 'yazicioglu')\n"
     ]
    }
   ],
   "source": [
    "for k  in user1.items():\n",
    "    print('Key:{}'.format(k))\n"
   ]
  },
  {
   "cell_type": "code",
   "execution_count": 20,
   "id": "cff7bf08",
   "metadata": {},
   "outputs": [
    {
     "name": "stdout",
     "output_type": "stream",
     "text": [
      " Value : ('name', 'naz')\n",
      " Value : ('surname', 'yazicioglu')\n"
     ]
    }
   ],
   "source": [
    "for v in user1.items():\n",
    "    print(' Value : {}'.format(v))\n"
   ]
  },
  {
   "cell_type": "code",
   "execution_count": 21,
   "id": "04d1b194",
   "metadata": {},
   "outputs": [
    {
     "name": "stdout",
     "output_type": "stream",
     "text": [
      "0\n",
      "1\n",
      "2\n",
      "3\n",
      "4\n",
      "5\n"
     ]
    }
   ],
   "source": [
    "for x in range(6):\n",
    "  print(x)\n"
   ]
  },
  {
   "cell_type": "code",
   "execution_count": 22,
   "id": "16956622",
   "metadata": {},
   "outputs": [
    {
     "name": "stdout",
     "output_type": "stream",
     "text": [
      "2\n",
      "3\n",
      "4\n",
      "5\n"
     ]
    }
   ],
   "source": [
    "for x in range(2, 6):\n",
    "  print(x)\n"
   ]
  },
  {
   "cell_type": "code",
   "execution_count": 23,
   "id": "babcfad8",
   "metadata": {},
   "outputs": [
    {
     "name": "stdout",
     "output_type": "stream",
     "text": [
      "2\n",
      "5\n",
      "8\n",
      "11\n",
      "14\n",
      "17\n",
      "20\n",
      "23\n",
      "26\n",
      "29\n"
     ]
    }
   ],
   "source": [
    "for x in range(2, 30, 3):\n",
    "  print(x)\n"
   ]
  },
  {
   "cell_type": "code",
   "execution_count": 25,
   "id": "76ce746c",
   "metadata": {},
   "outputs": [
    {
     "name": "stdout",
     "output_type": "stream",
     "text": [
      "0\n",
      "1\n",
      "2\n",
      "3\n",
      "4\n",
      "5\n",
      "end\n"
     ]
    }
   ],
   "source": [
    "for x in range(6):\n",
    "  print(x)\n",
    "else:\n",
    "  print(\"end\")\n"
   ]
  },
  {
   "cell_type": "code",
   "execution_count": 27,
   "id": "b31b9c13",
   "metadata": {},
   "outputs": [
    {
     "name": "stdout",
     "output_type": "stream",
     "text": [
      "1 A\n",
      "1 B\n",
      "1 C\n",
      "2 A\n",
      "2 B\n",
      "2 C\n",
      "3 A\n",
      "3 B\n",
      "3 C\n"
     ]
    }
   ],
   "source": [
    "A = [\"1\",\"2\",\"3\"]\n",
    "B = [\"A\",\"B\",\"C\"]\n",
    "\n",
    "for x in A:\n",
    "   for y in B:\n",
    "      print(x, y)\n",
    "        "
   ]
  },
  {
   "cell_type": "code",
   "execution_count": null,
   "id": "c1eb93d1",
   "metadata": {},
   "outputs": [],
   "source": []
  }
 ],
 "metadata": {
  "kernelspec": {
   "display_name": "Python 3 (ipykernel)",
   "language": "python",
   "name": "python3"
  },
  "language_info": {
   "codemirror_mode": {
    "name": "ipython",
    "version": 3
   },
   "file_extension": ".py",
   "mimetype": "text/x-python",
   "name": "python",
   "nbconvert_exporter": "python",
   "pygments_lexer": "ipython3",
   "version": "3.10.9"
  }
 },
 "nbformat": 4,
 "nbformat_minor": 5
}
