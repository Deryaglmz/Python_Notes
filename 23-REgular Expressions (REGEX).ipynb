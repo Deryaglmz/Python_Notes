{
 "cells": [
  {
   "cell_type": "markdown",
   "id": "0cc053c4",
   "metadata": {},
   "source": [
    "# REgular Expressions (REGEX)"
   ]
  },
  {
   "cell_type": "code",
   "execution_count": 12,
   "id": "5d529c3d",
   "metadata": {},
   "outputs": [],
   "source": [
    "import re"
   ]
  },
  {
   "cell_type": "code",
   "execution_count": 13,
   "id": "c8c6754a",
   "metadata": {},
   "outputs": [
    {
     "data": {
      "text/plain": [
       "<re.Match object; span=(25, 33), match='computer'>"
      ]
     },
     "execution_count": 13,
     "metadata": {},
     "output_type": "execute_result"
    }
   ],
   "source": [
    "sentence =\" The orientation towards computer engineering has increased in recent year there is a lot of work in the field of computer\"\n",
    "\n",
    "patern = \"computer\"\n",
    "\n",
    "re.search(patern, sentence)\n"
   ]
  },
  {
   "cell_type": "code",
   "execution_count": 14,
   "id": "87cc06c4",
   "metadata": {},
   "outputs": [
    {
     "data": {
      "text/plain": [
       "(25, 33)"
      ]
     },
     "execution_count": 14,
     "metadata": {},
     "output_type": "execute_result"
    }
   ],
   "source": [
    "situation = re.search(patern, sentence)\n",
    "situation.span()\n"
   ]
  },
  {
   "cell_type": "code",
   "execution_count": 15,
   "id": "9a2669a5",
   "metadata": {},
   "outputs": [
    {
     "data": {
      "text/plain": [
       "['__class__',\n",
       " '__class_getitem__',\n",
       " '__copy__',\n",
       " '__deepcopy__',\n",
       " '__delattr__',\n",
       " '__dir__',\n",
       " '__doc__',\n",
       " '__eq__',\n",
       " '__format__',\n",
       " '__ge__',\n",
       " '__getattribute__',\n",
       " '__getitem__',\n",
       " '__gt__',\n",
       " '__hash__',\n",
       " '__init__',\n",
       " '__init_subclass__',\n",
       " '__le__',\n",
       " '__lt__',\n",
       " '__module__',\n",
       " '__ne__',\n",
       " '__new__',\n",
       " '__reduce__',\n",
       " '__reduce_ex__',\n",
       " '__repr__',\n",
       " '__setattr__',\n",
       " '__sizeof__',\n",
       " '__str__',\n",
       " '__subclasshook__',\n",
       " 'end',\n",
       " 'endpos',\n",
       " 'expand',\n",
       " 'group',\n",
       " 'groupdict',\n",
       " 'groups',\n",
       " 'lastgroup',\n",
       " 'lastindex',\n",
       " 'pos',\n",
       " 're',\n",
       " 'regs',\n",
       " 'span',\n",
       " 'start',\n",
       " 'string']"
      ]
     },
     "execution_count": 15,
     "metadata": {},
     "output_type": "execute_result"
    }
   ],
   "source": [
    "dir(situation)"
   ]
  },
  {
   "cell_type": "code",
   "execution_count": 16,
   "id": "78a87229",
   "metadata": {},
   "outputs": [
    {
     "data": {
      "text/plain": [
       "25"
      ]
     },
     "execution_count": 16,
     "metadata": {},
     "output_type": "execute_result"
    }
   ],
   "source": [
    "situation.start()\n"
   ]
  },
  {
   "cell_type": "code",
   "execution_count": 17,
   "id": "da1fda93",
   "metadata": {},
   "outputs": [
    {
     "data": {
      "text/plain": [
       "33"
      ]
     },
     "execution_count": 17,
     "metadata": {},
     "output_type": "execute_result"
    }
   ],
   "source": [
    "situation.end()\n"
   ]
  },
  {
   "cell_type": "code",
   "execution_count": 18,
   "id": "a2830ac7",
   "metadata": {},
   "outputs": [
    {
     "data": {
      "text/plain": [
       "'computer'"
      ]
     },
     "execution_count": 18,
     "metadata": {},
     "output_type": "execute_result"
    }
   ],
   "source": [
    "situation.group()"
   ]
  },
  {
   "cell_type": "markdown",
   "id": "490d34c6",
   "metadata": {},
   "source": [
    "# İn Multiple Match (Match)"
   ]
  },
  {
   "cell_type": "code",
   "execution_count": 19,
   "id": "11d44cd7",
   "metadata": {},
   "outputs": [
    {
     "name": "stdout",
     "output_type": "stream",
     "text": [
      "computer\n",
      "computer\n"
     ]
    }
   ],
   "source": [
    "for match in re.findall(patern , sentence):\n",
    "    print(match)\n"
   ]
  },
  {
   "cell_type": "code",
   "execution_count": 20,
   "id": "92d6e210",
   "metadata": {},
   "outputs": [
    {
     "name": "stdout",
     "output_type": "stream",
     "text": [
      "(25, 33) computer\n",
      "(114, 122) computer\n"
     ]
    }
   ],
   "source": [
    "for match in re.finditer(patern , sentence):\n",
    "    print(match.span() , match.group() )\n"
   ]
  },
  {
   "cell_type": "markdown",
   "id": "58b2ba8b",
   "metadata": {},
   "source": [
    "# Dynamic Use"
   ]
  },
  {
   "cell_type": "code",
   "execution_count": 21,
   "id": "c4e1b696",
   "metadata": {},
   "outputs": [],
   "source": [
    "# Expression                  Explanation                         Example            Patern\n",
    " \n",
    "#  \\d                            Figure                            base42            base\\d\\d\n",
    "#  \\w                           character                           R2-D2           \\W\\W\\W\\W\\W\n",
    "#  \\s                            space                            Ping Pong         Ping \\sPong\n",
    "#  \\D                          not a number                         base             \\D\\D\\D\\D\n",
    "#  \\W                         not a character                      R2-D2             \\W\\W\\W\\W\n",
    "#  \\S                          not a space                        PingPong        \\S\\S\\S\\S\\S\\S\\S\\S\n"
   ]
  },
  {
   "cell_type": "code",
   "execution_count": 28,
   "id": "74a3a643",
   "metadata": {},
   "outputs": [],
   "source": [
    "example = \"base42 \"\n",
    "patern = r\" base\\d\\d\"\n",
    "re.search(patern ,example)        # not working      \n"
   ]
  },
  {
   "cell_type": "code",
   "execution_count": 27,
   "id": "99432152",
   "metadata": {},
   "outputs": [
    {
     "data": {
      "text/plain": [
       "<re.Match object; span=(22, 34), match='0535-3457689'>"
      ]
     },
     "execution_count": 27,
     "metadata": {},
     "output_type": "execute_result"
    }
   ],
   "source": [
    "sentence = \"Hello my phone number 0535-3457689\"\n",
    "patern = r\"\\d\\d\\d\\d-\\d\\d\\d\\d\\d\\d\\d\"\n",
    "re.search(patern ,sentence )\n"
   ]
  },
  {
   "cell_type": "code",
   "execution_count": 30,
   "id": "5563a2c4",
   "metadata": {},
   "outputs": [
    {
     "name": "stdout",
     "output_type": "stream",
     "text": [
      "[\"I'm\", 'sorry', 'that', 'I', \"don't\", 'understand', 'you.']\n"
     ]
    }
   ],
   "source": [
    "import re\n",
    "\n",
    "txt = \"I'm sorry that I don't understand you.\"\n",
    "x = re.split(\"\\s\", txt)\n",
    "print(x)\n"
   ]
  },
  {
   "cell_type": "code",
   "execution_count": 31,
   "id": "174491cc",
   "metadata": {},
   "outputs": [
    {
     "name": "stdout",
     "output_type": "stream",
     "text": [
      "[\"I'm\", 'sorry', \"that I don't understand you.\"]\n"
     ]
    }
   ],
   "source": [
    "import re\n",
    "\n",
    "txt = \"I'm sorry that I don't understand you.\"\n",
    "x = re.split(\"\\s\", txt, 2)\n",
    "print(x)\n"
   ]
  },
  {
   "cell_type": "code",
   "execution_count": 33,
   "id": "7841ec7f",
   "metadata": {},
   "outputs": [
    {
     "name": "stdout",
     "output_type": "stream",
     "text": [
      "I ate orange.\n"
     ]
    }
   ],
   "source": [
    "import re\n",
    "\n",
    "txt = \"I ate melon.\"\n",
    "x = re.sub(\"melon\", \"orange\", txt)\n",
    "print(x)\n"
   ]
  },
  {
   "cell_type": "code",
   "execution_count": null,
   "id": "0b7561fa",
   "metadata": {},
   "outputs": [],
   "source": []
  }
 ],
 "metadata": {
  "kernelspec": {
   "display_name": "Python 3 (ipykernel)",
   "language": "python",
   "name": "python3"
  },
  "language_info": {
   "codemirror_mode": {
    "name": "ipython",
    "version": 3
   },
   "file_extension": ".py",
   "mimetype": "text/x-python",
   "name": "python",
   "nbconvert_exporter": "python",
   "pygments_lexer": "ipython3",
   "version": "3.10.9"
  }
 },
 "nbformat": 4,
 "nbformat_minor": 5
}
