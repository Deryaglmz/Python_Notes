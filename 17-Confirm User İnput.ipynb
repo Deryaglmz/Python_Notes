{
 "cells": [
  {
   "cell_type": "markdown",
   "id": "c9a4d773",
   "metadata": {},
   "source": [
    "# confirm user input"
   ]
  },
  {
   "cell_type": "code",
   "execution_count": 1,
   "id": "5191ce2f",
   "metadata": {},
   "outputs": [],
   "source": [
    "def number_input_check():\n",
    "    entry = input(\"Enter a number : \")\n",
    "    \n",
    "    if entry.isdigit():\n",
    "        print(\"Congratulations! you entered a number type value.\")\n",
    "        \n",
    "    else:\n",
    "        print(\"I am sad! you did not enter a number type value\")\n",
    "    "
   ]
  },
  {
   "cell_type": "code",
   "execution_count": 2,
   "id": "50859909",
   "metadata": {},
   "outputs": [
    {
     "name": "stdout",
     "output_type": "stream",
     "text": [
      "Enter a number : 4\n",
      "Congratulations! you entered a number type value.\n"
     ]
    }
   ],
   "source": [
    "number_input_check()"
   ]
  },
  {
   "cell_type": "code",
   "execution_count": 3,
   "id": "79b6f4b3",
   "metadata": {},
   "outputs": [
    {
     "name": "stdout",
     "output_type": "stream",
     "text": [
      "Enter a number : d\n",
      "I am sad! you did not enter a number type value\n"
     ]
    }
   ],
   "source": [
    "number_input_check()"
   ]
  },
  {
   "cell_type": "code",
   "execution_count": 4,
   "id": "31022830",
   "metadata": {},
   "outputs": [],
   "source": [
    "def number_input_check_loop():\n",
    "    entry = input(\"Enter a number : \")\n",
    "    \n",
    "    while not entry.isdigit():\n",
    "        print(\"I am sad! you did not enter a number type value\")\n",
    "        entry = input(\"Enter a number : \")\n",
    "        \n",
    "    else :\n",
    "        print(\"Congratulations! you entered a number type value.\")\n",
    "        "
   ]
  },
  {
   "cell_type": "code",
   "execution_count": 5,
   "id": "197c2bd3",
   "metadata": {},
   "outputs": [
    {
     "name": "stdout",
     "output_type": "stream",
     "text": [
      "Enter a number : 23\n",
      "Congratulations! you entered a number type value.\n"
     ]
    }
   ],
   "source": [
    "number_input_check_loop()"
   ]
  },
  {
   "cell_type": "code",
   "execution_count": 6,
   "id": "e2586b2f",
   "metadata": {},
   "outputs": [
    {
     "name": "stdout",
     "output_type": "stream",
     "text": [
      "Enter a number : d\n",
      "I am sad! you did not enter a number type value\n",
      "Enter a number : 4\n",
      "Congratulations! you entered a number type value.\n"
     ]
    }
   ],
   "source": [
    "number_input_check_loop()"
   ]
  },
  {
   "cell_type": "code",
   "execution_count": 7,
   "id": "bf1db8d9",
   "metadata": {},
   "outputs": [
    {
     "data": {
      "text/plain": [
       "True"
      ]
     },
     "execution_count": 7,
     "metadata": {},
     "output_type": "execute_result"
    }
   ],
   "source": [
    "variable = 'Derya'\n",
    "'r' in variable\n"
   ]
  },
  {
   "cell_type": "code",
   "execution_count": 8,
   "id": "8de90089",
   "metadata": {},
   "outputs": [
    {
     "data": {
      "text/plain": [
       "False"
      ]
     },
     "execution_count": 8,
     "metadata": {},
     "output_type": "execute_result"
    }
   ],
   "source": [
    "'b' in variable\n"
   ]
  },
  {
   "cell_type": "code",
   "execution_count": 9,
   "id": "349a7fe2",
   "metadata": {},
   "outputs": [],
   "source": [
    "entry = 'derya@python.com'"
   ]
  },
  {
   "cell_type": "code",
   "execution_count": 10,
   "id": "3f7a9ed6",
   "metadata": {},
   "outputs": [
    {
     "data": {
      "text/plain": [
       "False"
      ]
     },
     "execution_count": 10,
     "metadata": {},
     "output_type": "execute_result"
    }
   ],
   "source": [
    "not (('.' in entry ) and ('@' in entry))"
   ]
  },
  {
   "cell_type": "code",
   "execution_count": 11,
   "id": "b3d4b3ef",
   "metadata": {},
   "outputs": [
    {
     "data": {
      "text/plain": [
       "True"
      ]
     },
     "execution_count": 11,
     "metadata": {},
     "output_type": "execute_result"
    }
   ],
   "source": [
    "(('.' in entry ) and ('@' in entry))"
   ]
  },
  {
   "cell_type": "code",
   "execution_count": 12,
   "id": "f935887e",
   "metadata": {},
   "outputs": [],
   "source": [
    "def email_check():\n",
    "    \n",
    "    entry = input (\"enter a valid email address\")\n",
    "    \n",
    "    while not (('.' in entry ) and ('@' in entry)):\n",
    "        print(\"I am sad! not a valid email address\")\n",
    "        entry = input (\"enter a valid email address\")\n",
    "        \n",
    "    else: \n",
    "        print(\"Congratulations! a valid email address.\")\n",
    "        "
   ]
  },
  {
   "cell_type": "code",
   "execution_count": 13,
   "id": "bf6f8694",
   "metadata": {},
   "outputs": [
    {
     "name": "stdout",
     "output_type": "stream",
     "text": [
      "enter a valid email addressdd\n",
      "I am sad! not a valid email address\n",
      "enter a valid email addresspp\n",
      "I am sad! not a valid email address\n",
      "enter a valid email addressderya@python.com\n",
      "Congratulations! a valid email address.\n"
     ]
    }
   ],
   "source": [
    "email_check()"
   ]
  },
  {
   "cell_type": "code",
   "execution_count": 14,
   "id": "c064dc8c",
   "metadata": {},
   "outputs": [
    {
     "name": "stdout",
     "output_type": "stream",
     "text": [
      "enter a valid email addressderya@\n",
      "I am sad! not a valid email address\n",
      "enter a valid email addressderya@pyt.hon.com\n",
      "Congratulations! a valid email address.\n"
     ]
    }
   ],
   "source": [
    "email_check()"
   ]
  },
  {
   "cell_type": "code",
   "execution_count": null,
   "id": "8fcace5e",
   "metadata": {},
   "outputs": [],
   "source": []
  }
 ],
 "metadata": {
  "kernelspec": {
   "display_name": "Python 3 (ipykernel)",
   "language": "python",
   "name": "python3"
  },
  "language_info": {
   "codemirror_mode": {
    "name": "ipython",
    "version": 3
   },
   "file_extension": ".py",
   "mimetype": "text/x-python",
   "name": "python",
   "nbconvert_exporter": "python",
   "pygments_lexer": "ipython3",
   "version": "3.10.9"
  }
 },
 "nbformat": 4,
 "nbformat_minor": 5
}
