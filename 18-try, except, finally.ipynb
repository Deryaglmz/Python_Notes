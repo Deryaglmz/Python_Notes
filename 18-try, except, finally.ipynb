{
 "cells": [
  {
   "cell_type": "markdown",
   "id": "1f00df86",
   "metadata": {},
   "source": [
    "# try, except, finally"
   ]
  },
  {
   "cell_type": "code",
   "execution_count": 14,
   "id": "f2122f12",
   "metadata": {},
   "outputs": [
    {
     "data": {
      "text/plain": [
       "2"
      ]
     },
     "execution_count": 14,
     "metadata": {},
     "output_type": "execute_result"
    }
   ],
   "source": [
    "round(1.5)"
   ]
  },
  {
   "cell_type": "code",
   "execution_count": 2,
   "id": "0d510ef4",
   "metadata": {},
   "outputs": [],
   "source": [
    "def convert_to_integer():\n",
    "    entry = input(\"enter decimal number\")\n",
    "    \n",
    "    print(\"the result of rounding {}\".format(round(float(entry))))\n",
    "    "
   ]
  },
  {
   "cell_type": "code",
   "execution_count": 3,
   "id": "5547ffd7",
   "metadata": {},
   "outputs": [
    {
     "name": "stdout",
     "output_type": "stream",
     "text": [
      "enter decimal number4\n",
      "the result of rounding 4\n"
     ]
    }
   ],
   "source": [
    "convert_to_integer()"
   ]
  },
  {
   "cell_type": "code",
   "execution_count": 4,
   "id": "8133fa18",
   "metadata": {},
   "outputs": [
    {
     "name": "stdout",
     "output_type": "stream",
     "text": [
      "enter decimal number4.2\n",
      "the result of rounding 4\n"
     ]
    }
   ],
   "source": [
    "convert_to_integer()"
   ]
  },
  {
   "cell_type": "code",
   "execution_count": 5,
   "id": "b8b4642c",
   "metadata": {},
   "outputs": [],
   "source": [
    "def convert_to_integer():\n",
    "    entry = input(\"enter decimal number : \")\n",
    "    \n",
    "    # print(\"the result of rounding {}\".format(round(float(entry))))\n",
    "    \n",
    "    try:\n",
    "        entry = float(entry)\n",
    "        print(\"the result of rounding : {}\".format(round(entry)))\n",
    "    except:\n",
    "        print(\"Input {} is not converted to decimal \".format(entry))\n",
    "        "
   ]
  },
  {
   "cell_type": "code",
   "execution_count": 6,
   "id": "d8e127ca",
   "metadata": {},
   "outputs": [
    {
     "name": "stdout",
     "output_type": "stream",
     "text": [
      "enter decimal number : 2.5\n",
      "the result of rounding : 2\n"
     ]
    }
   ],
   "source": [
    "convert_to_integer()"
   ]
  },
  {
   "cell_type": "code",
   "execution_count": 7,
   "id": "b485cb31",
   "metadata": {},
   "outputs": [
    {
     "name": "stdout",
     "output_type": "stream",
     "text": [
      "enter decimal number : dd\n",
      "Input dd is not converted to decimal \n"
     ]
    }
   ],
   "source": [
    "convert_to_integer()"
   ]
  },
  {
   "cell_type": "code",
   "execution_count": 8,
   "id": "14946b93",
   "metadata": {},
   "outputs": [],
   "source": [
    "def convert_to_integer():\n",
    "    entry = input(\"enter decimal number : \")\n",
    "    \n",
    "    status=''\n",
    "    \n",
    "    try:\n",
    "        entry = float(entry)\n",
    "        print(\"the result of rounding : {}\".format(round(entry)))\n",
    "        status='successful'\n",
    "    except:\n",
    "        print(\"Input {} is not converted to decimal \".format(entry))\n",
    "        status='unsuccessful'\n",
    "    finally :  \n",
    "        print(\"The conversion to integer is completed as {}\".format(status))\n",
    "        "
   ]
  },
  {
   "cell_type": "code",
   "execution_count": 9,
   "id": "1719fd4c",
   "metadata": {},
   "outputs": [
    {
     "name": "stdout",
     "output_type": "stream",
     "text": [
      "enter decimal number : 5\n",
      "the result of rounding : 5\n",
      "The conversion to integer is completed as successful\n"
     ]
    }
   ],
   "source": [
    "convert_to_integer()"
   ]
  },
  {
   "cell_type": "code",
   "execution_count": 10,
   "id": "86c79261",
   "metadata": {},
   "outputs": [
    {
     "name": "stdout",
     "output_type": "stream",
     "text": [
      "enter decimal number : 5.6\n",
      "the result of rounding : 6\n",
      "The conversion to integer is completed as successful\n"
     ]
    }
   ],
   "source": [
    "convert_to_integer()"
   ]
  },
  {
   "cell_type": "code",
   "execution_count": 11,
   "id": "d74558e4",
   "metadata": {},
   "outputs": [],
   "source": [
    "def convert_to_integer_loop():\n",
    "    \n",
    "    while True:\n",
    "        \n",
    "        entry = input(\"enter decimal number : \")\n",
    "        \n",
    "        try:\n",
    "            \n",
    "            entry=  float(entry)\n",
    "            print(\"the result of rounding : {}\".format(round(entry)))\n",
    "            break\n",
    "        \n",
    "        except:\n",
    "            \n",
    "            print(\"Input {} is not converted to decimal \".format(entry))\n",
    "            pass \n",
    "        "
   ]
  },
  {
   "cell_type": "code",
   "execution_count": 12,
   "id": "42544e44",
   "metadata": {},
   "outputs": [
    {
     "name": "stdout",
     "output_type": "stream",
     "text": [
      "enter decimal number : 5\n",
      "the result of rounding : 5\n"
     ]
    }
   ],
   "source": [
    "convert_to_integer_loop()"
   ]
  },
  {
   "cell_type": "code",
   "execution_count": 13,
   "id": "dae7c781",
   "metadata": {},
   "outputs": [
    {
     "name": "stdout",
     "output_type": "stream",
     "text": [
      "enter decimal number : der\n",
      "Input der is not converted to decimal \n",
      "enter decimal number : pe\n",
      "Input pe is not converted to decimal \n",
      "enter decimal number : gül\n",
      "Input gül is not converted to decimal \n",
      "enter decimal number : erer\n",
      "Input erer is not converted to decimal \n",
      "enter decimal number : 2.1\n",
      "the result of rounding : 2\n"
     ]
    }
   ],
   "source": [
    "convert_to_integer_loop()"
   ]
  },
  {
   "cell_type": "markdown",
   "id": "ef4a19c4",
   "metadata": {},
   "source": [
    "# errors"
   ]
  },
  {
   "cell_type": "code",
   "execution_count": 15,
   "id": "63e704c9",
   "metadata": {},
   "outputs": [
    {
     "ename": "TypeError",
     "evalue": "unsupported operand type(s) for +: 'int' and 'str'",
     "output_type": "error",
     "traceback": [
      "\u001b[1;31m---------------------------------------------------------------------------\u001b[0m",
      "\u001b[1;31mTypeError\u001b[0m                                 Traceback (most recent call last)",
      "Cell \u001b[1;32mIn[15], line 1\u001b[0m\n\u001b[1;32m----> 1\u001b[0m \u001b[38;5;241;43m5\u001b[39;49m\u001b[43m \u001b[49m\u001b[38;5;241;43m+\u001b[39;49m\u001b[43m \u001b[49m\u001b[38;5;124;43m'\u001b[39;49m\u001b[38;5;124;43ma\u001b[39;49m\u001b[38;5;124;43m'\u001b[39;49m\n",
      "\u001b[1;31mTypeError\u001b[0m: unsupported operand type(s) for +: 'int' and 'str'"
     ]
    }
   ],
   "source": [
    "5 + 'a'      # TypeError"
   ]
  },
  {
   "cell_type": "code",
   "execution_count": 23,
   "id": "b9b86809",
   "metadata": {},
   "outputs": [
    {
     "name": "stdout",
     "output_type": "stream",
     "text": [
      "Unable to operate with entered data\n"
     ]
    }
   ],
   "source": [
    "try :\n",
    "    \n",
    "    5 + 'a' \n",
    "except TypeError:\n",
    "    print(\"Unable to operate with entered data\")\n",
    "    "
   ]
  },
  {
   "cell_type": "code",
   "execution_count": 25,
   "id": "7d2e41c8",
   "metadata": {},
   "outputs": [
    {
     "name": "stdout",
     "output_type": "stream",
     "text": [
      "the code is not working\n"
     ]
    }
   ],
   "source": [
    "try :\n",
    "    \n",
    "    5 + 'a' \n",
    "except IndexError:\n",
    "    print(\"Unable to operate with entered data\")\n",
    "except:\n",
    "    print(\"the code is not working\")"
   ]
  },
  {
   "cell_type": "code",
   "execution_count": 16,
   "id": "d713b40c",
   "metadata": {},
   "outputs": [
    {
     "ename": "IndexError",
     "evalue": "list index out of range",
     "output_type": "error",
     "traceback": [
      "\u001b[1;31m---------------------------------------------------------------------------\u001b[0m",
      "\u001b[1;31mIndexError\u001b[0m                                Traceback (most recent call last)",
      "Cell \u001b[1;32mIn[16], line 2\u001b[0m\n\u001b[0;32m      1\u001b[0m \u001b[38;5;28mlist\u001b[39m \u001b[38;5;241m=\u001b[39m []\n\u001b[1;32m----> 2\u001b[0m \u001b[38;5;28;43mlist\u001b[39;49m\u001b[43m[\u001b[49m\u001b[38;5;241;43m4\u001b[39;49m\u001b[43m]\u001b[49m\n",
      "\u001b[1;31mIndexError\u001b[0m: list index out of range"
     ]
    }
   ],
   "source": [
    "list = []\n",
    "list[4]     # IndexError"
   ]
  },
  {
   "cell_type": "code",
   "execution_count": 26,
   "id": "632718a9",
   "metadata": {},
   "outputs": [
    {
     "name": "stdout",
     "output_type": "stream",
     "text": [
      "off the list\n"
     ]
    }
   ],
   "source": [
    "list = []\n",
    "try :\n",
    "    list[-1]\n",
    "      \n",
    "except IndexError:\n",
    "    print(\"off the list\")\n",
    "except:\n",
    "    print(\"the code is not working\")"
   ]
  },
  {
   "cell_type": "code",
   "execution_count": 20,
   "id": "3ba1fdae",
   "metadata": {},
   "outputs": [
    {
     "data": {
      "text/plain": [
       "45432223334"
      ]
     },
     "execution_count": 20,
     "metadata": {},
     "output_type": "execute_result"
    }
   ],
   "source": [
    "citizen = {\n",
    "    'name' : 'Gülcihan' ,\n",
    "    'identification_number' : 45432223334 \n",
    "}\n",
    "citizen['identification_number']\n"
   ]
  },
  {
   "cell_type": "code",
   "execution_count": 21,
   "id": "b8ce8607",
   "metadata": {},
   "outputs": [
    {
     "ename": "KeyError",
     "evalue": "'PASS_number'",
     "output_type": "error",
     "traceback": [
      "\u001b[1;31m---------------------------------------------------------------------------\u001b[0m",
      "\u001b[1;31mKeyError\u001b[0m                                  Traceback (most recent call last)",
      "Cell \u001b[1;32mIn[21], line 1\u001b[0m\n\u001b[1;32m----> 1\u001b[0m \u001b[43mcitizen\u001b[49m\u001b[43m[\u001b[49m\u001b[38;5;124;43m'\u001b[39;49m\u001b[38;5;124;43mPASS_number\u001b[39;49m\u001b[38;5;124;43m'\u001b[39;49m\u001b[43m]\u001b[49m\n",
      "\u001b[1;31mKeyError\u001b[0m: 'PASS_number'"
     ]
    }
   ],
   "source": [
    "citizen['PASS_number']       #KeyError"
   ]
  },
  {
   "cell_type": "code",
   "execution_count": 28,
   "id": "f3236711",
   "metadata": {},
   "outputs": [
    {
     "name": "stdout",
     "output_type": "stream",
     "text": [
      "The given key value does not exist\n"
     ]
    }
   ],
   "source": [
    "citizen = {\n",
    "    'name' : 'Gülcihan' ,\n",
    "    'identification_number' : 45432223334 \n",
    "}\n",
    "\n",
    "\n",
    "try :\n",
    "    citizen['PASS_number']\n",
    "      \n",
    "except IndexError:\n",
    "    print(\"off the list\")\n",
    "except KeyError:\n",
    "    print(\"The given key value does not exist\")\n",
    "except:\n",
    "    print(\"the code is not working\")\n"
   ]
  },
  {
   "cell_type": "code",
   "execution_count": null,
   "id": "39ea60dc",
   "metadata": {},
   "outputs": [],
   "source": []
  }
 ],
 "metadata": {
  "kernelspec": {
   "display_name": "Python 3 (ipykernel)",
   "language": "python",
   "name": "python3"
  },
  "language_info": {
   "codemirror_mode": {
    "name": "ipython",
    "version": 3
   },
   "file_extension": ".py",
   "mimetype": "text/x-python",
   "name": "python",
   "nbconvert_exporter": "python",
   "pygments_lexer": "ipython3",
   "version": "3.10.9"
  }
 },
 "nbformat": 4,
 "nbformat_minor": 5
}
