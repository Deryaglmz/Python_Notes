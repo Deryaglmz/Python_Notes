{
 "cells": [
  {
   "cell_type": "markdown",
   "id": "2e61ff6d",
   "metadata": {},
   "source": [
    "# Dunder Methods (Double Under Score)"
   ]
  },
  {
   "cell_type": "code",
   "execution_count": 11,
   "id": "2f3cd8d8",
   "metadata": {},
   "outputs": [],
   "source": [
    "class Flight():\n",
    "    airway = 'THY'\n",
    "    \n",
    "    def __init__(self, code, departure, arrival, duration, capacity, passenger):\n",
    "        self.code = code\n",
    "        self.departure = departure\n",
    "        self.arrival = arrival\n",
    "        self.duration = duration\n",
    "        self.capacity = capacity\n",
    "        self.passenger = passenger\n",
    "        \n",
    "    def __repr__(self):\n",
    "        return 'voyage number {} , created in the system..'.format(self.code)\n",
    "        \n",
    "    def make_an_announcement(self):\n",
    "        return \" Our {}-{} flight{} will take {} minutes.\".format(\n",
    "        self.arrival,\n",
    "        self.code,\n",
    "        self.departure,\n",
    "        self.duration)\n",
    "    \n",
    "    def update_number_of_seats(self):\n",
    "        return self.capacity - self.passenger \n",
    "    \n",
    "    def ticket_sales(self, number_of_tickets ):\n",
    "        # self.passenger = self.passenger + number_of_tickets\n",
    "        if self.passenger + number_of_tickets <= self.capacity:\n",
    "            \n",
    "            self.passenger += number_of_tickets\n",
    "            self.update_number_of_seats()\n",
    "            print('{} tickets have been sold , number of seats remaining {}'.format(\n",
    "                number_of_tickets,\n",
    "                self.update_number_of_seats()))\n",
    "        else : \n",
    "            print('insufficient number of seats')\n",
    "            \n",
    "    def ticket_cancellation(self, number_of_tickets=1):\n",
    "        if self.passenger >= number_of_tickets:\n",
    "            self.passenger -= number_of_tickets\n",
    "            print('{} tickets were cancelled. , current number of seats {}'.format(\n",
    "                number_of_tickets,\n",
    "                self.update_number_of_seats()))\n",
    "        else :\n",
    "            print('The operation could not be performed ')\n",
    "            "
   ]
  },
  {
   "cell_type": "code",
   "execution_count": 12,
   "id": "f722c43b",
   "metadata": {},
   "outputs": [],
   "source": [
    "flight3 = Flight('TK123' , 'FR' , 'US' , 60 ,250 ,103)"
   ]
  },
  {
   "cell_type": "code",
   "execution_count": 13,
   "id": "3d340c64",
   "metadata": {},
   "outputs": [
    {
     "data": {
      "text/plain": [
       "['code',\n",
       " 'departure',\n",
       " 'arrival',\n",
       " 'duration',\n",
       " 'capacity',\n",
       " 'passenger',\n",
       " '__module__',\n",
       " 'airway',\n",
       " '__init__',\n",
       " '__repr__',\n",
       " 'make_an_announcement',\n",
       " 'update_number_of_seats',\n",
       " 'ticket_sales',\n",
       " 'ticket_cancellation',\n",
       " '__dict__',\n",
       " '__weakref__',\n",
       " '__doc__',\n",
       " '__new__',\n",
       " '__hash__',\n",
       " '__str__',\n",
       " '__getattribute__',\n",
       " '__setattr__',\n",
       " '__delattr__',\n",
       " '__lt__',\n",
       " '__le__',\n",
       " '__eq__',\n",
       " '__ne__',\n",
       " '__gt__',\n",
       " '__ge__',\n",
       " '__reduce_ex__',\n",
       " '__reduce__',\n",
       " '__subclasshook__',\n",
       " '__init_subclass__',\n",
       " '__format__',\n",
       " '__sizeof__',\n",
       " '__dir__',\n",
       " '__class__']"
      ]
     },
     "execution_count": 13,
     "metadata": {},
     "output_type": "execute_result"
    }
   ],
   "source": [
    "flight3.__dir__()"
   ]
  },
  {
   "cell_type": "code",
   "execution_count": 5,
   "id": "ddbb4e91",
   "metadata": {},
   "outputs": [
    {
     "data": {
      "text/plain": [
       "<__main__.Flight at 0x1c33547c100>"
      ]
     },
     "execution_count": 5,
     "metadata": {},
     "output_type": "execute_result"
    }
   ],
   "source": [
    "flight3"
   ]
  },
  {
   "cell_type": "code",
   "execution_count": 6,
   "id": "69a5eaec",
   "metadata": {},
   "outputs": [
    {
     "data": {
      "text/plain": [
       "1"
      ]
     },
     "execution_count": 6,
     "metadata": {},
     "output_type": "execute_result"
    }
   ],
   "source": [
    "number = 1\n",
    "number"
   ]
  },
  {
   "cell_type": "code",
   "execution_count": 14,
   "id": "523df90d",
   "metadata": {},
   "outputs": [
    {
     "data": {
      "text/plain": [
       "voyage number TK123 , created in the system.."
      ]
     },
     "execution_count": 14,
     "metadata": {},
     "output_type": "execute_result"
    }
   ],
   "source": [
    "flight3"
   ]
  },
  {
   "cell_type": "markdown",
   "id": "8db83faf",
   "metadata": {},
   "source": [
    "# inheritance "
   ]
  },
  {
   "cell_type": "code",
   "execution_count": 28,
   "id": "fdc30bd0",
   "metadata": {},
   "outputs": [],
   "source": [
    "class trip():\n",
    "    \n",
    "    def __init__(self , departure , arrival):\n",
    "        self.departure = departure\n",
    "        self.arrival = arrival\n",
    "        \n",
    "    def announcement(self):  \n",
    "        return 'welcome to {}-{} trip'.format(self.departure , self.arrival )\n",
    "    \n",
    "class bus(trip):\n",
    "    \n",
    "    def __init__(self , break_stops):\n",
    "        trip.__init__(self , 'UD', 'FR')\n",
    "        self. break_stops =  break_stops\n",
    "        "
   ]
  },
  {
   "cell_type": "code",
   "execution_count": 29,
   "id": "8c4929b1",
   "metadata": {},
   "outputs": [
    {
     "data": {
      "text/plain": [
       "'welcome to DE-NL trip'"
      ]
     },
     "execution_count": 29,
     "metadata": {},
     "output_type": "execute_result"
    }
   ],
   "source": [
    "trip1 = trip('DE' ,'NL' )\n",
    "trip1.announcement()  "
   ]
  },
  {
   "cell_type": "code",
   "execution_count": 30,
   "id": "fc93db2d",
   "metadata": {},
   "outputs": [
    {
     "data": {
      "text/plain": [
       "'NL'"
      ]
     },
     "execution_count": 30,
     "metadata": {},
     "output_type": "execute_result"
    }
   ],
   "source": [
    "trip1 = trip('DE' ,'NL' )\n",
    "trip1.arrival  "
   ]
  },
  {
   "cell_type": "code",
   "execution_count": 31,
   "id": "aa22a705",
   "metadata": {},
   "outputs": [
    {
     "data": {
      "text/plain": [
       "['FET', 'ALAN']"
      ]
     },
     "execution_count": 31,
     "metadata": {},
     "output_type": "execute_result"
    }
   ],
   "source": [
    "auto1= bus(['FET' ,'ALAN'])\n",
    "auto1.break_stops"
   ]
  },
  {
   "cell_type": "code",
   "execution_count": 32,
   "id": "3771c240",
   "metadata": {},
   "outputs": [
    {
     "data": {
      "text/plain": [
       "'UD'"
      ]
     },
     "execution_count": 32,
     "metadata": {},
     "output_type": "execute_result"
    }
   ],
   "source": [
    "auto1.departure"
   ]
  },
  {
   "cell_type": "code",
   "execution_count": 33,
   "id": "0aadbe1a",
   "metadata": {},
   "outputs": [
    {
     "data": {
      "text/plain": [
       "'welcome to UD-FR trip'"
      ]
     },
     "execution_count": 33,
     "metadata": {},
     "output_type": "execute_result"
    }
   ],
   "source": [
    "auto1.announcement() "
   ]
  },
  {
   "cell_type": "code",
   "execution_count": null,
   "id": "2cd8e853",
   "metadata": {},
   "outputs": [],
   "source": []
  }
 ],
 "metadata": {
  "kernelspec": {
   "display_name": "Python 3 (ipykernel)",
   "language": "python",
   "name": "python3"
  },
  "language_info": {
   "codemirror_mode": {
    "name": "ipython",
    "version": 3
   },
   "file_extension": ".py",
   "mimetype": "text/x-python",
   "name": "python",
   "nbconvert_exporter": "python",
   "pygments_lexer": "ipython3",
   "version": "3.10.9"
  }
 },
 "nbformat": 4,
 "nbformat_minor": 5
}
