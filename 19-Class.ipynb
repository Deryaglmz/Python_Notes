{
 "cells": [
  {
   "cell_type": "markdown",
   "id": "617e6880",
   "metadata": {},
   "source": [
    "# Class"
   ]
  },
  {
   "cell_type": "code",
   "execution_count": 1,
   "id": "23430a1b",
   "metadata": {},
   "outputs": [],
   "source": [
    "class Flight():\n",
    "    airway = 'THY'"
   ]
  },
  {
   "cell_type": "code",
   "execution_count": 2,
   "id": "544d02d2",
   "metadata": {},
   "outputs": [],
   "source": [
    "flight1 = Flight()"
   ]
  },
  {
   "cell_type": "code",
   "execution_count": 3,
   "id": "290ec340",
   "metadata": {},
   "outputs": [
    {
     "data": {
      "text/plain": [
       "'THY'"
      ]
     },
     "execution_count": 3,
     "metadata": {},
     "output_type": "execute_result"
    }
   ],
   "source": [
    "flight1. airway"
   ]
  },
  {
   "cell_type": "code",
   "execution_count": 14,
   "id": "af0c1219",
   "metadata": {},
   "outputs": [],
   "source": [
    "class Flight():\n",
    "    airway = 'THY'\n",
    "    \n",
    "    def __init__(self, code, departure, arrival, duration, capacity, passenger):\n",
    "        self.code = code\n",
    "        self.departure = departure\n",
    "        self.arrival = arrival\n",
    "        self.duration = duration\n",
    "        self.capacity = capacity\n",
    "        self.passenger = passenger\n",
    "        "
   ]
  },
  {
   "cell_type": "code",
   "execution_count": 15,
   "id": "c75fe76e",
   "metadata": {},
   "outputs": [
    {
     "ename": "TypeError",
     "evalue": "Flight.__init__() missing 6 required positional arguments: 'code', 'departure', 'arrival', 'duration', 'capacity', and 'passenger'",
     "output_type": "error",
     "traceback": [
      "\u001b[1;31m---------------------------------------------------------------------------\u001b[0m",
      "\u001b[1;31mTypeError\u001b[0m                                 Traceback (most recent call last)",
      "Cell \u001b[1;32mIn[15], line 1\u001b[0m\n\u001b[1;32m----> 1\u001b[0m flight2 \u001b[38;5;241m=\u001b[39m \u001b[43mFlight\u001b[49m\u001b[43m(\u001b[49m\u001b[43m)\u001b[49m\n",
      "\u001b[1;31mTypeError\u001b[0m: Flight.__init__() missing 6 required positional arguments: 'code', 'departure', 'arrival', 'duration', 'capacity', and 'passenger'"
     ]
    }
   ],
   "source": [
    "flight2 = Flight()"
   ]
  },
  {
   "cell_type": "code",
   "execution_count": 16,
   "id": "ea3eb60a",
   "metadata": {},
   "outputs": [],
   "source": [
    "flight2 = Flight('TK123' , 'FR' , 'US' , 60 ,30 ,250)"
   ]
  },
  {
   "cell_type": "code",
   "execution_count": 17,
   "id": "0558f46e",
   "metadata": {},
   "outputs": [
    {
     "data": {
      "text/plain": [
       "'TK123'"
      ]
     },
     "execution_count": 17,
     "metadata": {},
     "output_type": "execute_result"
    }
   ],
   "source": [
    "flight2.code"
   ]
  },
  {
   "cell_type": "code",
   "execution_count": 18,
   "id": "fa800db6",
   "metadata": {},
   "outputs": [
    {
     "data": {
      "text/plain": [
       "30"
      ]
     },
     "execution_count": 18,
     "metadata": {},
     "output_type": "execute_result"
    }
   ],
   "source": [
    "flight2.capacity "
   ]
  },
  {
   "cell_type": "code",
   "execution_count": 19,
   "id": "5382b272",
   "metadata": {},
   "outputs": [
    {
     "data": {
      "text/plain": [
       "'THY'"
      ]
     },
     "execution_count": 19,
     "metadata": {},
     "output_type": "execute_result"
    }
   ],
   "source": [
    "flight2. airway"
   ]
  },
  {
   "cell_type": "code",
   "execution_count": 21,
   "id": "a6d47e8d",
   "metadata": {},
   "outputs": [],
   "source": [
    "flight3 = Flight('TK565' , 'US' , 'DE' , 20 ,50 ,69)"
   ]
  },
  {
   "cell_type": "code",
   "execution_count": 22,
   "id": "b1b0c837",
   "metadata": {},
   "outputs": [
    {
     "data": {
      "text/plain": [
       "'TK565'"
      ]
     },
     "execution_count": 22,
     "metadata": {},
     "output_type": "execute_result"
    }
   ],
   "source": [
    "flight3.code"
   ]
  },
  {
   "cell_type": "code",
   "execution_count": 23,
   "id": "81c4063a",
   "metadata": {},
   "outputs": [
    {
     "data": {
      "text/plain": [
       "'THY'"
      ]
     },
     "execution_count": 23,
     "metadata": {},
     "output_type": "execute_result"
    }
   ],
   "source": [
    "flight3. airway"
   ]
  },
  {
   "cell_type": "code",
   "execution_count": 24,
   "id": "bca62244",
   "metadata": {},
   "outputs": [],
   "source": [
    "class Flight():\n",
    "    airway = 'THY'\n",
    "    \n",
    "    def __init__(self, code, departure, arrival, duration, capacity, passenger):\n",
    "        self.code = code\n",
    "        self.departure = departure\n",
    "        self.arrival = arrival\n",
    "        self.duration = duration\n",
    "        self.capacity = capacity\n",
    "        self.passenger = passenger\n",
    "        \n",
    "    def make_an_announcement(self):\n",
    "        return \" Our {}-{} flight{} will take {} minutes.\".format(\n",
    "        self.arrival,\n",
    "        self.code,\n",
    "        self.departure,\n",
    "        self.duration)\n",
    "        "
   ]
  },
  {
   "cell_type": "code",
   "execution_count": 25,
   "id": "54a15151",
   "metadata": {},
   "outputs": [],
   "source": [
    "flight3 = Flight('TK565' , 'US' , 'DE' , 20 ,50 ,69)"
   ]
  },
  {
   "cell_type": "code",
   "execution_count": 26,
   "id": "977ed90f",
   "metadata": {},
   "outputs": [
    {
     "data": {
      "text/plain": [
       "' Our DE-TK565 flightUS will take 20 minutes.'"
      ]
     },
     "execution_count": 26,
     "metadata": {},
     "output_type": "execute_result"
    }
   ],
   "source": [
    " flight3.make_an_announcement()"
   ]
  },
  {
   "cell_type": "code",
   "execution_count": null,
   "id": "61330e99",
   "metadata": {},
   "outputs": [],
   "source": []
  }
 ],
 "metadata": {
  "kernelspec": {
   "display_name": "Python 3 (ipykernel)",
   "language": "python",
   "name": "python3"
  },
  "language_info": {
   "codemirror_mode": {
    "name": "ipython",
    "version": 3
   },
   "file_extension": ".py",
   "mimetype": "text/x-python",
   "name": "python",
   "nbconvert_exporter": "python",
   "pygments_lexer": "ipython3",
   "version": "3.10.9"
  }
 },
 "nbformat": 4,
 "nbformat_minor": 5
}
