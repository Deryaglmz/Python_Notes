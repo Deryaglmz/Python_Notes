{
 "cells": [
  {
   "cell_type": "markdown",
   "id": "40649d24",
   "metadata": {},
   "source": [
    "# İf Queries"
   ]
  },
  {
   "cell_type": "raw",
   "id": "3149fcef",
   "metadata": {},
   "source": [
    "if <if provided the condition>\n",
    "   <do what is written here>\n",
    "   "
   ]
  },
  {
   "cell_type": "code",
   "execution_count": 1,
   "id": "0876946c",
   "metadata": {},
   "outputs": [],
   "source": [
    "weather = 'Snowy'\n",
    "if weather == 'rainy':\n",
    "   print(\"take your umbrella\")\n"
   ]
  },
  {
   "cell_type": "raw",
   "id": "07d7e163",
   "metadata": {},
   "source": [
    "if <if provided the condition>\n",
    "   <do what is written here>\n",
    "    \n",
    "else :\n",
    "    <do what is written here>\n",
    "    "
   ]
  },
  {
   "cell_type": "code",
   "execution_count": 3,
   "id": "d8e764a1",
   "metadata": {},
   "outputs": [
    {
     "name": "stdout",
     "output_type": "stream",
     "text": [
      "no problem\n"
     ]
    }
   ],
   "source": [
    "weather = 'Snowy'\n",
    "if weather == 'rainy':\n",
    "   print(\"take your umbrella\")\n",
    "else :\n",
    "    print(\"no problem\") \n",
    "    "
   ]
  },
  {
   "cell_type": "raw",
   "id": "777281c0",
   "metadata": {},
   "source": [
    "if <if provided the condition>\n",
    "   <do what is written here>\n",
    "   \n",
    "elif <if the alternative condition is met>\n",
    "     <do what is written here>\n",
    "     \n",
    "else :\n",
    "    <do what is written here>\n",
    "    "
   ]
  },
  {
   "cell_type": "code",
   "execution_count": 9,
   "id": "838df5d4",
   "metadata": {},
   "outputs": [
    {
     "name": "stdout",
     "output_type": "stream",
     "text": [
      "take your scarf\n"
     ]
    }
   ],
   "source": [
    "weather = 'Snowy'\n",
    "if weather == 'rainy':\n",
    "    print(\"take your umbrella\")\n",
    "\n",
    "elif  weather == 'Snowy':\n",
    "      print(\"take your scarf\")\n",
    "        \n",
    "else :\n",
    "    print(\"no problem\") \n",
    "    "
   ]
  },
  {
   "cell_type": "code",
   "execution_count": 12,
   "id": "9af2c87d",
   "metadata": {},
   "outputs": [
    {
     "name": "stdout",
     "output_type": "stream",
     "text": [
      "you don't belong here!\n"
     ]
    }
   ],
   "source": [
    "age = 18\n",
    "if age > 18 :\n",
    "    print(\"Hello\")\n",
    "    \n",
    "else :\n",
    "     print(\"you don't belong here!\")\n",
    "        "
   ]
  },
  {
   "cell_type": "code",
   "execution_count": 16,
   "id": "2c9675b3",
   "metadata": {},
   "outputs": [
    {
     "name": "stdout",
     "output_type": "stream",
     "text": [
      "I couldn't find the target letter\n"
     ]
    }
   ],
   "source": [
    "list = ['a', 'b', 'c']\n",
    "\n",
    "target_letter = 'd'\n",
    "\n",
    "if target_letter in list:\n",
    "    print(\"I found\")\n",
    "else :\n",
    "    print (\"I couldn't find the target letter\")\n",
    "    "
   ]
  },
  {
   "cell_type": "code",
   "execution_count": 17,
   "id": "b5898b41",
   "metadata": {},
   "outputs": [
    {
     "name": "stdout",
     "output_type": "stream",
     "text": [
      "I added a list\n",
      "current list ['a', 'b', 'c', 'd']\n"
     ]
    }
   ],
   "source": [
    "list = ['a', 'b', 'c']\n",
    "\n",
    "target_letter = 'd'\n",
    "\n",
    "if target_letter in list:\n",
    "    print(\"I found\")\n",
    "    \n",
    "else :\n",
    "    list.append(target_letter)\n",
    "    \n",
    "    print (\"I added a list\")\n",
    "    print (\"current list {}\".format(list))\n",
    "    "
   ]
  },
  {
   "cell_type": "code",
   "execution_count": 20,
   "id": "1eb7157b",
   "metadata": {},
   "outputs": [
    {
     "name": "stdout",
     "output_type": "stream",
     "text": [
      "I found it but not in the first location\n"
     ]
    }
   ],
   "source": [
    "if (target_letter in list) and (target_letter == list[0]):\n",
    "    print(\"I found it and in the first letter position\")\n",
    "    \n",
    "elif target_letter in list:  \n",
    "    print(\"I found it but not in the first location\")\n",
    "    \n",
    "else:\n",
    "     list.append(target_letter)\n",
    "    \n",
    "     print (\"I added a list\")\n",
    "     print (\"current list {}\".format(list))\n",
    "    "
   ]
  },
  {
   "cell_type": "code",
   "execution_count": 21,
   "id": "b70825a1",
   "metadata": {},
   "outputs": [
    {
     "name": "stdout",
     "output_type": "stream",
     "text": [
      "I found it and in the first letter position\n"
     ]
    }
   ],
   "source": [
    "if (target_letter in list) :\n",
    "    print(\"I found it and in the first letter position\")\n",
    "    \n",
    "elif (target_letter in list) and (target_letter == list[0]):\n",
    "    print(\"I found it but not in the first location\")\n",
    "    \n",
    "else:\n",
    "     list.append(target_letter)\n",
    "    \n",
    "     print (\"I added a list\")\n",
    "     print (\"current list {}\".format(list))\n",
    "    "
   ]
  },
  {
   "cell_type": "code",
   "execution_count": 22,
   "id": "9b251d3a",
   "metadata": {},
   "outputs": [
    {
     "name": "stdout",
     "output_type": "stream",
     "text": [
      "b is greater than a\n"
     ]
    }
   ],
   "source": [
    "a = 33\n",
    "b = 200\n",
    "if b > a:\n",
    "  print(\"b is greater than a\")\n"
   ]
  },
  {
   "cell_type": "code",
   "execution_count": 23,
   "id": "c5fa20b8",
   "metadata": {},
   "outputs": [
    {
     "ename": "IndentationError",
     "evalue": "expected an indented block after 'if' statement on line 3 (1111622982.py, line 4)",
     "output_type": "error",
     "traceback": [
      "\u001b[1;36m  Cell \u001b[1;32mIn[23], line 4\u001b[1;36m\u001b[0m\n\u001b[1;33m    print(\"b is greater than a\")\u001b[0m\n\u001b[1;37m    ^\u001b[0m\n\u001b[1;31mIndentationError\u001b[0m\u001b[1;31m:\u001b[0m expected an indented block after 'if' statement on line 3\n"
     ]
    }
   ],
   "source": [
    "a = 33\n",
    "b = 200\n",
    "if b > a:\n",
    "print(\"b is greater than a\")\n"
   ]
  },
  {
   "cell_type": "code",
   "execution_count": 24,
   "id": "d74e5bca",
   "metadata": {},
   "outputs": [
    {
     "name": "stdout",
     "output_type": "stream",
     "text": [
      "a equals b\n"
     ]
    }
   ],
   "source": [
    "a = 33\n",
    "b = 33\n",
    "if b > a:\n",
    "    print(\"b is greater than a\")\n",
    "elif a == b:\n",
    "    print(\"a equals b\")\n",
    "    "
   ]
  },
  {
   "cell_type": "code",
   "execution_count": 27,
   "id": "8c347748",
   "metadata": {},
   "outputs": [
    {
     "name": "stdout",
     "output_type": "stream",
     "text": [
      "b is greater than a\n"
     ]
    }
   ],
   "source": [
    "a = 200\n",
    "b = 33\n",
    "if b > a:\n",
    "    print(\"b is greater than a\")\n",
    "elif a == b:\n",
    "   print(\"a equals b\")\n",
    "else:\n",
    "   print(\"b is greater than a\")\n"
   ]
  },
  {
   "cell_type": "code",
   "execution_count": 28,
   "id": "d6014bb2",
   "metadata": {},
   "outputs": [
    {
     "name": "stdout",
     "output_type": "stream",
     "text": [
      "b is greater than a\n"
     ]
    }
   ],
   "source": [
    "if a > b: print(\"b is greater than a\")\n",
    "    "
   ]
  },
  {
   "cell_type": "code",
   "execution_count": 30,
   "id": "e5e3bb45",
   "metadata": {},
   "outputs": [
    {
     "name": "stdout",
     "output_type": "stream",
     "text": [
      "both statements are true\n"
     ]
    }
   ],
   "source": [
    "a = 200\n",
    "b = 33\n",
    "c = 500\n",
    "if a > b and c > a:\n",
    "  print(\"both statements are true\")\n"
   ]
  },
  {
   "cell_type": "code",
   "execution_count": 31,
   "id": "3e6d6f10",
   "metadata": {},
   "outputs": [],
   "source": [
    "a = 33\n",
    "b = 200\n",
    "\n",
    "if b > a:\n",
    "  pass"
   ]
  },
  {
   "cell_type": "code",
   "execution_count": null,
   "id": "3c283c77",
   "metadata": {},
   "outputs": [],
   "source": []
  }
 ],
 "metadata": {
  "kernelspec": {
   "display_name": "Python 3 (ipykernel)",
   "language": "python",
   "name": "python3"
  },
  "language_info": {
   "codemirror_mode": {
    "name": "ipython",
    "version": 3
   },
   "file_extension": ".py",
   "mimetype": "text/x-python",
   "name": "python",
   "nbconvert_exporter": "python",
   "pygments_lexer": "ipython3",
   "version": "3.10.9"
  }
 },
 "nbformat": 4,
 "nbformat_minor": 5
}


