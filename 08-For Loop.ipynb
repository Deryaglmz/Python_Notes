{
 "cells": [
  {
   "cell_type": "markdown",
   "id": "a53506e3",
   "metadata": {},
   "source": [
    "# For loop"
   ]
  },
  {
   "cell_type": "raw",
   "id": "4faba6b1",
   "metadata": {},
   "source": [
    "usage structure:\n",
    "\n",
    "for <veriable> in <iterable>\n",
    "    <do what is written here>"
   ]
  },
  {
   "cell_type": "code",
   "execution_count": 1,
   "id": "3e69f310",
   "metadata": {},
   "outputs": [],
   "source": [
    "commenters = ['Ismail Aydemir' ,'Mehmet Aydın', 'Sude Deniz' ,'Salih Kaya' ,'Merve Güneş' ,'Uğur Yerli' ,]"
   ]
  },
  {
   "cell_type": "raw",
   "id": "20e36fc3",
   "metadata": {},
   "source": [
    "for .... in ... :\n",
    "    ....."
   ]
  },
  {
   "cell_type": "code",
   "execution_count": 4,
   "id": "8311e423",
   "metadata": {},
   "outputs": [
    {
     "name": "stdout",
     "output_type": "stream",
     "text": [
      "Ismail Aydemir\n",
      "Mehmet Aydın\n",
      "Sude Deniz\n",
      "Salih Kaya\n",
      "Merve Güneş\n",
      "Uğur Yerli\n"
     ]
    }
   ],
   "source": [
    "for users in commenters :\n",
    "    print(users)"
   ]
  },
  {
   "cell_type": "code",
   "execution_count": 5,
   "id": "2cc4f16b",
   "metadata": {},
   "outputs": [
    {
     "name": "stdout",
     "output_type": "stream",
     "text": [
      "1 Ismail Aydemir\n",
      "2 Mehmet Aydın\n",
      "3 Sude Deniz\n",
      "4 Salih Kaya\n",
      "5 Merve Güneş\n",
      "6 Uğur Yerli\n"
     ]
    }
   ],
   "source": [
    "Number_users = 0\n",
    "\n",
    "for users in commenters :\n",
    "    Number_users = Number_users +1\n",
    "    print(Number_users ,users )\n",
    "    "
   ]
  },
  {
   "cell_type": "code",
   "execution_count": 6,
   "id": "e1a9c868",
   "metadata": {},
   "outputs": [
    {
     "name": "stdout",
     "output_type": "stream",
     "text": [
      "0 Ismail Aydemir\n",
      "1 Mehmet Aydın\n",
      "2 Sude Deniz\n",
      "3 Salih Kaya\n",
      "4 Merve Güneş\n",
      "5 Uğur Yerli\n"
     ]
    }
   ],
   "source": [
    "Number_users = 0\n",
    "\n",
    "for users in commenters :\n",
    "   \n",
    "    print(Number_users ,users )\n",
    "    Number_users = Number_users +1"
   ]
  },
  {
   "cell_type": "code",
   "execution_count": 7,
   "id": "ad93bffb",
   "metadata": {},
   "outputs": [
    {
     "data": {
      "text/plain": [
       "'Ismail Aydemir'"
      ]
     },
     "execution_count": 7,
     "metadata": {},
     "output_type": "execute_result"
    }
   ],
   "source": [
    "commenters[0]"
   ]
  },
  {
   "cell_type": "code",
   "execution_count": 8,
   "id": "b5387748",
   "metadata": {},
   "outputs": [
    {
     "data": {
      "text/plain": [
       "['Ismail', 'Aydemir']"
      ]
     },
     "execution_count": 8,
     "metadata": {},
     "output_type": "execute_result"
    }
   ],
   "source": [
    "commenters[0].split()"
   ]
  },
  {
   "cell_type": "code",
   "execution_count": 11,
   "id": "43115f11",
   "metadata": {},
   "outputs": [
    {
     "name": "stdout",
     "output_type": "stream",
     "text": [
      "Ismail\n",
      "Aydemir\n"
     ]
    }
   ],
   "source": [
    "name , surname = commenters[0].split()[0] , commenters[0].split()[1]\n",
    "print(name)\n",
    "print(surname)"
   ]
  },
  {
   "cell_type": "code",
   "execution_count": 12,
   "id": "280f4f73",
   "metadata": {},
   "outputs": [
    {
     "name": "stdout",
     "output_type": "stream",
     "text": [
      "Ismail\n",
      "Aydemir\n"
     ]
    }
   ],
   "source": [
    "name = commenters[0].split()[0] \n",
    "surname =  commenters[0].split()[1]\n",
    "print(name)\n",
    "print(surname)"
   ]
  },
  {
   "cell_type": "code",
   "execution_count": 16,
   "id": "ed2387f4",
   "metadata": {},
   "outputs": [
    {
     "name": "stdout",
     "output_type": "stream",
     "text": [
      "1. Users Name Ismail and Surname Aydemir\n",
      "2. Users Name Mehmet and Surname Aydın\n",
      "3. Users Name Sude and Surname Deniz\n",
      "4. Users Name Salih and Surname Kaya\n",
      "5. Users Name Merve and Surname Güneş\n",
      "6. Users Name Uğur and Surname Yerli\n"
     ]
    }
   ],
   "source": [
    "Number_users = 0\n",
    "\n",
    "for users in commenters :\n",
    "    Number_users = Number_users +1\n",
    "    name , surname = users.split()[0] , users.split()[1]\n",
    "    print('{0}. Users Name {1} and Surname {2}'.format(Number_users , name , surname) )\n",
    "    "
   ]
  },
  {
   "cell_type": "code",
   "execution_count": 22,
   "id": "1df733ce",
   "metadata": {},
   "outputs": [
    {
     "name": "stdout",
     "output_type": "stream",
     "text": [
      "1. Number Users Ismail and Surname Aydemir\n",
      "1. Moderators Name Mehmet and Surname Aydın\n",
      "2. Number Users Sude and Surname Deniz\n",
      "3. Number Users Salih and Surname Kaya\n",
      "4. Number Users Merve and Surname Güneş\n",
      "5. Number Users Uğur and Surname Yerli\n"
     ]
    }
   ],
   "source": [
    "moderators = 'Mehmet Aydın'\n",
    "\n",
    "Numberof_moderators = 0\n",
    "Number_users = 0\n",
    "\n",
    "for users in commenters :\n",
    "    name , surname = users.split()[0] , users.split()[1]\n",
    "    \n",
    "    if(users == moderators):\n",
    "        Numberof_moderators += 1  #Numberof_moderators =  Numberof_moderator + 1\n",
    "        print('{0}. Moderators Name {1} and Surname {2}'.format(Numberof_moderators , name , surname) )\n",
    "            \n",
    "    else : \n",
    "        Number_users += 1 \n",
    "        print('{0}. Number Users {1} and Surname {2}'.format(Number_users , name , surname) )\n",
    "            \n",
    "        "
   ]
  },
  {
   "cell_type": "code",
   "execution_count": null,
   "id": "02ae0d88",
   "metadata": {},
   "outputs": [],
   "source": []
  }
 ],
 "metadata": {
  "kernelspec": {
   "display_name": "Python 3 (ipykernel)",
   "language": "python",
   "name": "python3"
  },
  "language_info": {
   "codemirror_mode": {
    "name": "ipython",
    "version": 3
   },
   "file_extension": ".py",
   "mimetype": "text/x-python",
   "name": "python",
   "nbconvert_exporter": "python",
   "pygments_lexer": "ipython3",
   "version": "3.10.9"
  }
 },
 "nbformat": 4,
 "nbformat_minor": 5
}
