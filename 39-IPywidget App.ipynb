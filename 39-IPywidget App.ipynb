{
 "cells": [
  {
   "cell_type": "markdown",
   "id": "fdec70cb",
   "metadata": {},
   "source": [
    "# IPywidget App"
   ]
  },
  {
   "cell_type": "markdown",
   "id": "616b9d01",
   "metadata": {},
   "source": [
    "# content"
   ]
  },
  {
   "cell_type": "code",
   "execution_count": 39,
   "id": "28bd77a4",
   "metadata": {},
   "outputs": [],
   "source": [
    "# Widgets:\n",
    "import ipywidgets as widgets\n",
    "\n",
    "# CSV/DataFrame:\n",
    "import pandas as pd\n",
    "import numpy as np\n",
    "from io import StringIO\n",
    "\n",
    "#Drawing:\n",
    "import matplotlib.pyplot as plt\n",
    "%matplotlib inline\n"
   ]
  },
  {
   "cell_type": "markdown",
   "id": "d7793372",
   "metadata": {},
   "source": [
    "# Widgets"
   ]
  },
  {
   "cell_type": "code",
   "execution_count": null,
   "id": "ac59dbbf",
   "metadata": {},
   "outputs": [],
   "source": [
    "Tabs\n",
    "FileUpload\n",
    "Output\n",
    "SelectMultiple\n",
    "RadioButton\n",
    "IntSlider\n",
    "Accordion\n",
    "Button\n",
    "HBox/VBox\n",
    "ToogleButtons\n",
    "Drapdown\n",
    "ColorPicker"
   ]
  },
  {
   "cell_type": "code",
   "execution_count": 40,
   "id": "be4a704e",
   "metadata": {},
   "outputs": [
    {
     "data": {
      "application/vnd.jupyter.widget-view+json": {
       "model_id": "2984d752a7714310addc6c3c90bd28d2",
       "version_major": 2,
       "version_minor": 0
      },
      "text/plain": [
       "Tab(_titles={'0': 'Upload', '1': 'Decscriber', '2': 'Plotter'})"
      ]
     },
     "metadata": {},
     "output_type": "display_data"
    }
   ],
   "source": [
    "tab = widgets.Tab()\n",
    "placeholder = widgets.Label()\n",
    "tab.set_title(0,\"Upload\")\n",
    "tab.set_title(1,\"Decscriber\")\n",
    "tab.set_title(2,\"Plotter\")\n",
    "tab"
   ]
  },
  {
   "cell_type": "markdown",
   "id": "a87c7611",
   "metadata": {},
   "source": [
    "# Fileupload Widget"
   ]
  },
  {
   "cell_type": "code",
   "execution_count": 41,
   "id": "98939aee",
   "metadata": {},
   "outputs": [
    {
     "data": {
      "application/vnd.jupyter.widget-view+json": {
       "model_id": "9d9297c526014351b23cb76d93b2a0ce",
       "version_major": 2,
       "version_minor": 0
      },
      "text/plain": [
       "FileUpload(value={}, description='Upload')"
      ]
     },
     "metadata": {},
     "output_type": "display_data"
    }
   ],
   "source": [
    "up = widgets.FileUpload(accept=\"\", multiple=False)\n",
    "up"
   ]
  },
  {
   "cell_type": "markdown",
   "id": "cff3badb",
   "metadata": {},
   "source": [
    "# Output Widget "
   ]
  },
  {
   "cell_type": "code",
   "execution_count": 42,
   "id": "eb15b73e",
   "metadata": {},
   "outputs": [
    {
     "data": {
      "application/vnd.jupyter.widget-view+json": {
       "model_id": "2984d752a7714310addc6c3c90bd28d2",
       "version_major": 2,
       "version_minor": 0
      },
      "text/plain": [
       "Tab(children=(FileUpload(value={}, description='Upload'), Output(layout=Layout(border='1px solid black')), Out…"
      ]
     },
     "metadata": {},
     "output_type": "display_data"
    }
   ],
   "source": [
    "out = widgets.Output(layout={'border': '1px solid black'})\n",
    "tab.children = [up,out,out]\n",
    "tab"
   ]
  },
  {
   "cell_type": "markdown",
   "id": "b0782aa9",
   "metadata": {},
   "source": [
    "# SelectMultiple Widget"
   ]
  },
  {
   "cell_type": "code",
   "execution_count": 43,
   "id": "48d8b4c4",
   "metadata": {},
   "outputs": [
    {
     "data": {
      "application/vnd.jupyter.widget-view+json": {
       "model_id": "9f53e89d9d2644cbb79a7c4a0b455c4b",
       "version_major": 2,
       "version_minor": 0
      },
      "text/plain": [
       "SelectMultiple(description='Eraser: ', index=(0,), options=('tab', '\"\"'), value=('tab',))"
      ]
     },
     "metadata": {},
     "output_type": "display_data"
    }
   ],
   "source": [
    "eraser = widgets.SelectMultiple(\n",
    "    options= ['tab','\"\"'],\n",
    "    value = ['tab'],\n",
    "    #rows=10,\n",
    "    description = 'Eraser: ',\n",
    "    disable=False\n",
    ")\n",
    "eraser"
   ]
  },
  {
   "cell_type": "markdown",
   "id": "e3ebe436",
   "metadata": {},
   "source": [
    "# RadioButtons Widget "
   ]
  },
  {
   "cell_type": "code",
   "execution_count": 44,
   "id": "03fe16df",
   "metadata": {},
   "outputs": [
    {
     "data": {
      "application/vnd.jupyter.widget-view+json": {
       "model_id": "3abe41b619f141349324ce471a423c0f",
       "version_major": 2,
       "version_minor": 0
      },
      "text/plain": [
       "RadioButtons(description='Seperator: ', options=(';', ',', ''), value=';')"
      ]
     },
     "metadata": {},
     "output_type": "display_data"
    }
   ],
   "source": [
    "delim = widgets.RadioButtons(\n",
    "   options= [';',',',''],\n",
    "    description = 'Seperator: ',\n",
    "    disable=False\n",
    ")\n",
    "delim"
   ]
  },
  {
   "cell_type": "markdown",
   "id": "8f643597",
   "metadata": {},
   "source": [
    "# IntSlider"
   ]
  },
  {
   "cell_type": "code",
   "execution_count": 45,
   "id": "5939d8ea",
   "metadata": {},
   "outputs": [
    {
     "data": {
      "application/vnd.jupyter.widget-view+json": {
       "model_id": "0bba5200992940eba8664f78c60bdf5d",
       "version_major": 2,
       "version_minor": 0
      },
      "text/plain": [
       "IntSlider(value=0, continuous_update=False, description='# of lines: ')"
      ]
     },
     "metadata": {},
     "output_type": "display_data"
    }
   ],
   "source": [
    "rows = widgets.IntSlider(\n",
    "    value=0,\n",
    "    step = 1,\n",
    "    description = '# of lines: ',\n",
    "    disable =False,\n",
    "    continuous_update = False,\n",
    "    oreientation = 'horizontal',\n",
    "    readout = True,\n",
    "    readout_format='d'\n",
    ")\n",
    "rows"
   ]
  },
  {
   "cell_type": "markdown",
   "id": "624e1ae9",
   "metadata": {},
   "source": [
    "# Accordion Widget"
   ]
  },
  {
   "cell_type": "code",
   "execution_count": 46,
   "id": "68395879",
   "metadata": {},
   "outputs": [
    {
     "data": {
      "application/vnd.jupyter.widget-view+json": {
       "model_id": "cf5d07e178454f34be47b71b36320cd7",
       "version_major": 2,
       "version_minor": 0
      },
      "text/plain": [
       "Accordion(children=(FileUpload(value={}, description='Upload'), RadioButtons(description='Seperator: ', option…"
      ]
     },
     "metadata": {},
     "output_type": "display_data"
    }
   ],
   "source": [
    "\n",
    "accordion = widgets.Accordion()\n",
    "accordion.children=[\n",
    "    up,\n",
    "    delim,\n",
    "    rows]\n",
    "accordion.set_title(0, 'File Selection')\n",
    "accordion.set_title(1, 'Delimiter')\n",
    "accordion.set_title(2, 'Skip Rows')\n",
    "accordion\n"
   ]
  },
  {
   "cell_type": "markdown",
   "id": "22151747",
   "metadata": {},
   "source": [
    "# Button Widget"
   ]
  },
  {
   "cell_type": "code",
   "execution_count": 47,
   "id": "2eba291b",
   "metadata": {},
   "outputs": [
    {
     "data": {
      "application/vnd.jupyter.widget-view+json": {
       "model_id": "6b9e9b54c5944246896a062589ba8413",
       "version_major": 2,
       "version_minor": 0
      },
      "text/plain": [
       "Button(button_style='warning', description='Upload ', icon='check', style=ButtonStyle(), tooltip='Click to Upl…"
      ]
     },
     "metadata": {},
     "output_type": "display_data"
    }
   ],
   "source": [
    "button_upload = widgets.Button(\n",
    "    description = 'Upload ',\n",
    "    disable =False,\n",
    "    button_style='warning',\n",
    "    tooltip='Click to Upload',\n",
    "    icon='check'\n",
    ")\n",
    "button_upload\n"
   ]
  },
  {
   "cell_type": "code",
   "execution_count": 48,
   "id": "0ab0521f",
   "metadata": {},
   "outputs": [
    {
     "data": {
      "application/vnd.jupyter.widget-view+json": {
       "model_id": "38dadbb0ad9041cf83cd3c29961b5f02",
       "version_major": 2,
       "version_minor": 0
      },
      "text/plain": [
       "Button(button_style='info', description='Preview ', icon='search', style=ButtonStyle(), tooltip='Click to Prev…"
      ]
     },
     "metadata": {},
     "output_type": "display_data"
    }
   ],
   "source": [
    "button_preview = widgets.Button(\n",
    "    description = 'Preview ',\n",
    "    disable =False,\n",
    "    button_style='info',\n",
    "    tooltip='Click to Preview',\n",
    "    icon='search'\n",
    ")\n",
    "button_preview"
   ]
  },
  {
   "cell_type": "code",
   "execution_count": 49,
   "id": "435d1f4f",
   "metadata": {},
   "outputs": [
    {
     "data": {
      "application/vnd.jupyter.widget-view+json": {
       "model_id": "c929370f8a6b4756b7ce7f40874279e0",
       "version_major": 2,
       "version_minor": 0
      },
      "text/plain": [
       "Button(button_style='danger', description='Plot ', icon='pencil', style=ButtonStyle(), tooltip='Click to Plot'…"
      ]
     },
     "metadata": {},
     "output_type": "display_data"
    }
   ],
   "source": [
    "button_plot = widgets.Button(\n",
    "    description = 'Plot ',\n",
    "    disable =False,\n",
    "    button_style='danger',\n",
    "    tooltip='Click to Plot',\n",
    "    icon='pencil'\n",
    ")\n",
    "button_plot"
   ]
  },
  {
   "cell_type": "markdown",
   "id": "3709a6bb",
   "metadata": {},
   "source": [
    "\n",
    "# Groupping - HBox/VBox"
   ]
  },
  {
   "cell_type": "code",
   "execution_count": 50,
   "id": "a67d4f57",
   "metadata": {},
   "outputs": [
    {
     "data": {
      "application/vnd.jupyter.widget-view+json": {
       "model_id": "6867b7301ed548b98e45557e3bac8bd4",
       "version_major": 2,
       "version_minor": 0
      },
      "text/plain": [
       "VBox(children=(RadioButtons(description='Seperator: ', options=(';', ',', ''), value=';'), SelectMultiple(desc…"
      ]
     },
     "metadata": {},
     "output_type": "display_data"
    }
   ],
   "source": [
    "vb = widgets.VBox([delim, eraser])\n",
    "vb"
   ]
  },
  {
   "cell_type": "code",
   "execution_count": 51,
   "id": "299be435",
   "metadata": {},
   "outputs": [
    {
     "data": {
      "application/vnd.jupyter.widget-view+json": {
       "model_id": "6867b7301ed548b98e45557e3bac8bd4",
       "version_major": 2,
       "version_minor": 0
      },
      "text/plain": [
       "VBox(children=(RadioButtons(description='Seperator: ', options=(';', ',', ''), value=';'), SelectMultiple(desc…"
      ]
     },
     "metadata": {},
     "output_type": "display_data"
    }
   ],
   "source": [
    "hb = widgets.HBox([delim, eraser])\n",
    "vb"
   ]
  },
  {
   "cell_type": "code",
   "execution_count": 52,
   "id": "1ffea747",
   "metadata": {},
   "outputs": [
    {
     "data": {
      "application/vnd.jupyter.widget-view+json": {
       "model_id": "08795cce172246b08fc0d05dd2f0ce43",
       "version_major": 2,
       "version_minor": 0
      },
      "text/plain": [
       "VBox(children=(Accordion(children=(FileUpload(value={}, description='Upload'), VBox(children=(RadioButtons(des…"
      ]
     },
     "metadata": {},
     "output_type": "display_data"
    }
   ],
   "source": [
    "accordion.children=[\n",
    "    up,\n",
    "    widgets.VBox([delim, eraser]),\n",
    "    rows]\n",
    "\n",
    "accordion_box= widgets.VBox([\n",
    "    accordion,\n",
    "    widgets.HBox([button_preview, button_upload]),\n",
    "    out\n",
    "])\n",
    "\n",
    "accordion_box"
   ]
  },
  {
   "cell_type": "markdown",
   "id": "99e610cb",
   "metadata": {},
   "source": [
    "# ToogleButtons Widget"
   ]
  },
  {
   "cell_type": "code",
   "execution_count": 53,
   "id": "ad3c2641",
   "metadata": {},
   "outputs": [
    {
     "data": {
      "application/vnd.jupyter.widget-view+json": {
       "model_id": "26d94caa789043709de300779964a166",
       "version_major": 2,
       "version_minor": 0
      },
      "text/plain": [
       "ToggleButtons(button_style='warning', description='Options ', icons=('search', 'info', 'tachometer'), options=…"
      ]
     },
     "metadata": {},
     "output_type": "display_data"
    }
   ],
   "source": [
    "toggle = widgets.ToggleButtons(\n",
    "    options=['Preview', 'Info', 'Statıs'],\n",
    "    description = 'Options ',\n",
    "    disable =False,\n",
    "    button_style='warning',\n",
    "    icons=['search', 'info', 'tachometer']\n",
    ")\n",
    "#toogle.observe(desc_clicked, 'value')\n",
    "toggle"
   ]
  },
  {
   "cell_type": "markdown",
   "id": "3ad53ef9",
   "metadata": {},
   "source": [
    "# Dropdown Widget"
   ]
  },
  {
   "cell_type": "code",
   "execution_count": 54,
   "id": "0c4dab9d",
   "metadata": {},
   "outputs": [
    {
     "data": {
      "application/vnd.jupyter.widget-view+json": {
       "model_id": "9a5bb71aca1e431f8a5f919a0a244901",
       "version_major": 2,
       "version_minor": 0
      },
      "text/plain": [
       "Dropdown(description='Chart Type', options=('Bar Chart', 'Line Chart'), value='Bar Chart')"
      ]
     },
     "metadata": {},
     "output_type": "display_data"
    }
   ],
   "source": [
    "x_axis = widgets.Dropdown(\n",
    "   options=[''],\n",
    "   value='',\n",
    "   description = 'X-Axis:',\n",
    "   disable =False,\n",
    ")\n",
    "\n",
    "y_axis = widgets.Dropdown(\n",
    "   options=[''],\n",
    "   value='',\n",
    "   description = 'Y-Axis:',\n",
    "   disable =False,\n",
    ")\n",
    "\n",
    "graph_type = widgets.Dropdown(\n",
    "   options=['Bar Chart', 'Line Chart'],\n",
    "   value='Bar Chart',\n",
    "   description = 'Chart Type',\n",
    "   disable =False,\n",
    ")\n",
    "graph_type\n"
   ]
  },
  {
   "cell_type": "markdown",
   "id": "b2473f30",
   "metadata": {},
   "source": [
    "# ColorPicker Widget"
   ]
  },
  {
   "cell_type": "code",
   "execution_count": 55,
   "id": "4f6524cf",
   "metadata": {},
   "outputs": [
    {
     "data": {
      "application/vnd.jupyter.widget-view+json": {
       "model_id": "1049ae1c08db49b1b809f8d9fed61e6f",
       "version_major": 2,
       "version_minor": 0
      },
      "text/plain": [
       "ColorPicker(value='lightblue', description='Color Picker:')"
      ]
     },
     "metadata": {},
     "output_type": "display_data"
    }
   ],
   "source": [
    "color_picker = widgets.ColorPicker(\n",
    "     concise = False,\n",
    "     description = 'Color Picker:',\n",
    "     value='lightblue',\n",
    "     disable =False\n",
    ")\n",
    "color_picker\n"
   ]
  },
  {
   "cell_type": "code",
   "execution_count": 56,
   "id": "71444aa9",
   "metadata": {},
   "outputs": [
    {
     "data": {
      "application/vnd.jupyter.widget-view+json": {
       "model_id": "2984d752a7714310addc6c3c90bd28d2",
       "version_major": 2,
       "version_minor": 0
      },
      "text/plain": [
       "Tab(children=(VBox(children=(Accordion(children=(FileUpload(value={}, description='Upload'), VBox(children=(Ra…"
      ]
     },
     "metadata": {},
     "output_type": "display_data"
    }
   ],
   "source": [
    "children = [\n",
    "    accordion_box,\n",
    "    widgets.VBox([toggle, out]),\n",
    "    widgets.VBox([\n",
    "        widgets.HBox([graph_type, color_picker]),\n",
    "        widgets.HBox([x_axis, y_axis]),\n",
    "        button_plot,\n",
    "        out\n",
    "])]\n",
    "\n",
    "tab.children = children\n",
    "tab"
   ]
  },
  {
   "cell_type": "markdown",
   "id": "3ac32ff4",
   "metadata": {},
   "source": [
    "# Value Import"
   ]
  },
  {
   "cell_type": "code",
   "execution_count": 57,
   "id": "5b30d079",
   "metadata": {},
   "outputs": [],
   "source": [
    "def content_parser():\n",
    "    if up.value == {}:\n",
    "        with out:\n",
    "            print('No CSV loaded')\n",
    "            \n",
    "    else:\n",
    "        typ, content = \"\", \"\"\n",
    "        up_value = up.value\n",
    "        for i in up_value.keys():\n",
    "            typ = up_value[i]['metadata'][\"type\"]\n",
    "            \n",
    "        if typ == \"text/csv\":\n",
    "            content = up_value[i][\"content\"]\n",
    "            content_str = str(content, 'utf-8')\n",
    "         \n",
    "            if eraser.value !={}:\n",
    "                for val in eraser.value:\n",
    "                    if val == \"tab\":\n",
    "                        content_str = content_str.replace(\"\\t\", \"\")\n",
    "                    else:\n",
    "                        content_str = content_str.replace(val, \"\")\n",
    "            if content_str != {}:\n",
    "                str_io = StringIO(content_str)\n",
    "                return str_io\n",
    "            \n",
    "def df_converter():\n",
    "    content = content_parser()\n",
    "    if content is not None:\n",
    "        df = pd.read_csv(content , sep=delim.value, index_col=False , skiprows= rows.value)\n",
    "        return df\n",
    "    else:\n",
    "        return None"
   ]
  },
  {
   "cell_type": "code",
   "execution_count": 64,
   "id": "91a03c3b",
   "metadata": {},
   "outputs": [
    {
     "data": {
      "application/vnd.jupyter.widget-view+json": {
       "model_id": "2984d752a7714310addc6c3c90bd28d2",
       "version_major": 2,
       "version_minor": 0
      },
      "text/plain": [
       "Tab(children=(VBox(children=(Accordion(children=(FileUpload(value={}, description='Upload'), VBox(children=(Ra…"
      ]
     },
     "metadata": {},
     "output_type": "display_data"
    }
   ],
   "source": [
    "tab"
   ]
  },
  {
   "cell_type": "code",
   "execution_count": 59,
   "id": "407ac4c0",
   "metadata": {},
   "outputs": [],
   "source": [
    "df_converter()"
   ]
  },
  {
   "cell_type": "markdown",
   "id": "207133b8",
   "metadata": {},
   "source": [
    "# Button Action"
   ]
  },
  {
   "cell_type": "code",
   "execution_count": 61,
   "id": "c8245050",
   "metadata": {},
   "outputs": [],
   "source": [
    "# 1 Preview Button\n",
    "# 2 Upload Button\n",
    "# 3 Description ToogleButtons\n",
    "# 4 Plot Button"
   ]
  },
  {
   "cell_type": "code",
   "execution_count": 62,
   "id": "53d2528f",
   "metadata": {},
   "outputs": [],
   "source": [
    "def preview():\n",
    "    df = df_converter()\n",
    "    with out:\n",
    "        out.clear_output()\n",
    "        print('\\n ------Now this is how your DF looks like:-------\\n')\n",
    "        if df is not None:\n",
    "            print(df.head(10))\n",
    "        else:\n",
    "            print('Configuration is wrong/missing...')"
   ]
  },
  {
   "cell_type": "code",
   "execution_count": 63,
   "id": "7c5b9eb5",
   "metadata": {},
   "outputs": [],
   "source": [
    "def preview_clicked(b):\n",
    "    preview()\n",
    "    \n",
    "button_preview.on_click(preview_clicked)    "
   ]
  },
  {
   "cell_type": "code",
   "execution_count": 65,
   "id": "ad69e192",
   "metadata": {},
   "outputs": [
    {
     "data": {
      "application/vnd.jupyter.widget-view+json": {
       "model_id": "2984d752a7714310addc6c3c90bd28d2",
       "version_major": 2,
       "version_minor": 0
      },
      "text/plain": [
       "Tab(children=(VBox(children=(Accordion(children=(FileUpload(value={}, description='Upload'), VBox(children=(Ra…"
      ]
     },
     "metadata": {},
     "output_type": "display_data"
    }
   ],
   "source": [
    "tab"
   ]
  },
  {
   "cell_type": "code",
   "execution_count": null,
   "id": "9c6e7a49",
   "metadata": {},
   "outputs": [],
   "source": []
  }
 ],
 "metadata": {
  "kernelspec": {
   "display_name": "Python 3 (ipykernel)",
   "language": "python",
   "name": "python3"
  },
  "language_info": {
   "codemirror_mode": {
    "name": "ipython",
    "version": 3
   },
   "file_extension": ".py",
   "mimetype": "text/x-python",
   "name": "python",
   "nbconvert_exporter": "python",
   "pygments_lexer": "ipython3",
   "version": "3.10.9"
  }
 },
 "nbformat": 4,
 "nbformat_minor": 5
}
