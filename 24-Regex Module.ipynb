{
 "cells": [
  {
   "cell_type": "markdown",
   "id": "156a0bc6",
   "metadata": {},
   "source": [
    "# Regex Module"
   ]
  },
  {
   "cell_type": "code",
   "execution_count": 1,
   "id": "77322579",
   "metadata": {},
   "outputs": [],
   "source": [
    "import re"
   ]
  },
  {
   "cell_type": "code",
   "execution_count": 2,
   "id": "37af961a",
   "metadata": {},
   "outputs": [],
   "source": [
    "# Expression                  Explanation                         Example            Patern\n",
    "\n",
    "#  {5}                            piece                            aaaaa             \\w{5}\n",
    "#  {3,4}                          or                                abc             \\w{3,4}\n",
    "#  {2,}                          least                           198721321           \\d{2,}\n",
    "#  *                           0 or more                             x                \\w*\n",
    "#  +                          1  or more                         mehemt1            \\W+\\d+\n",
    "#  ?                          1 or nothing                         Mura              Murat?\n"
   ]
  },
  {
   "cell_type": "code",
   "execution_count": 11,
   "id": "0002cebf",
   "metadata": {},
   "outputs": [],
   "source": [
    "import re \n",
    "\n",
    "sentence = \"Hello my phone number 0535-3457689.\"\n",
    "patern =r\"\\d{3,4}- \\d{7}\"\n",
    "re.search(patern ,sentence )\n"
   ]
  },
  {
   "cell_type": "code",
   "execution_count": 12,
   "id": "70bf0e9e",
   "metadata": {},
   "outputs": [],
   "source": [
    "sentence = \"my favorite channel base42.\"\n",
    "pattern = r\"\\d\\w{5, }\"\n",
    "for match in re.finditer(patern ,sentence ):\n",
    "    print(match.group(),match.span())\n",
    "    "
   ]
  },
  {
   "cell_type": "code",
   "execution_count": 13,
   "id": "e809dbc8",
   "metadata": {},
   "outputs": [
    {
     "name": "stdout",
     "output_type": "stream",
     "text": [
      " (0, 0)\n",
      " (1, 1)\n",
      " (2, 2)\n",
      " (3, 3)\n",
      " (4, 4)\n",
      " (5, 5)\n",
      " (6, 6)\n",
      " (7, 7)\n",
      " (8, 8)\n",
      " (9, 9)\n",
      " (10, 10)\n",
      " (11, 11)\n",
      " (12, 12)\n",
      " (13, 13)\n",
      " (14, 14)\n",
      " (15, 15)\n",
      " (16, 16)\n",
      " (17, 17)\n",
      " (18, 18)\n",
      " (19, 19)\n",
      " (20, 20)\n",
      " (21, 21)\n",
      " (22, 22)\n",
      " (23, 23)\n",
      "4 (24, 25)\n",
      "2 (25, 26)\n",
      " (26, 26)\n",
      " (27, 27)\n"
     ]
    }
   ],
   "source": [
    "patern =r\"\\d?\"\n",
    "for match in re.finditer(patern ,sentence ):\n",
    "    print(match.group(),match.span())\n",
    "    \n"
   ]
  },
  {
   "cell_type": "code",
   "execution_count": 14,
   "id": "a8a0d0bd",
   "metadata": {},
   "outputs": [
    {
     "name": "stdout",
     "output_type": "stream",
     "text": [
      "42 (24, 26)\n"
     ]
    }
   ],
   "source": [
    "patern =r\"\\d+\"\n",
    "for match in re.finditer(patern ,sentence ):\n",
    "    print(match.group(),match.span())\n",
    "    \n"
   ]
  },
  {
   "cell_type": "code",
   "execution_count": 15,
   "id": "5313a666",
   "metadata": {},
   "outputs": [
    {
     "name": "stdout",
     "output_type": "stream",
     "text": [
      "base42 (20, 26)\n"
     ]
    }
   ],
   "source": [
    "patern =r\"\\w*\\d+\"\n",
    "for match in re.finditer(patern ,sentence ):\n",
    "    print(match.group(),match.span())\n",
    "    \n"
   ]
  },
  {
   "cell_type": "code",
   "execution_count": 16,
   "id": "bff71379",
   "metadata": {},
   "outputs": [
    {
     "name": "stdout",
     "output_type": "stream",
     "text": [
      "42 (20, 22)\n"
     ]
    }
   ],
   "source": [
    "sentence = \"my favorite channel 42base.\"\n",
    "patern =r\"\\w*\\d+\"\n",
    "\n",
    "for match in re.finditer(patern ,sentence ):\n",
    "    print(match.group(),match.span())\n",
    "    \n"
   ]
  },
  {
   "cell_type": "code",
   "execution_count": 17,
   "id": "853c5c07",
   "metadata": {},
   "outputs": [
    {
     "name": "stdout",
     "output_type": "stream",
     "text": [
      "42base (20, 26)\n"
     ]
    }
   ],
   "source": [
    "sentence = \"my favorite channel 42base.\"\n",
    "patern =r\"\\d+\\w*\"\n",
    "\n",
    "for match in re.finditer(patern ,sentence ):\n",
    "    print(match.group(),match.span())\n",
    "    \n"
   ]
  },
  {
   "cell_type": "code",
   "execution_count": 18,
   "id": "214a59d2",
   "metadata": {},
   "outputs": [],
   "source": [
    "# GSM Operators:\n",
    "# 54....  = Vodafone\n",
    "# 501 ,505, 506  = Avea\n",
    "# 53... = Turkcell\n"
   ]
  },
  {
   "cell_type": "code",
   "execution_count": 20,
   "id": "349ff2bf",
   "metadata": {},
   "outputs": [],
   "source": [
    "def find_gsm_operator(phone_number):\n",
    "    patern =r\"(\\d{3,4})- (\\d{7})\"\n",
    "    match= re.search(patern ,phone_number )\n",
    "    return match\n"
   ]
  },
  {
   "cell_type": "code",
   "execution_count": 22,
   "id": "8d7b9140",
   "metadata": {},
   "outputs": [],
   "source": [
    "phone_number = \"0535-3457689\"\n",
    "\n",
    "find_gsm_operator(phone_number)\n"
   ]
  },
  {
   "cell_type": "code",
   "execution_count": 27,
   "id": "f723deb8",
   "metadata": {},
   "outputs": [],
   "source": [
    "def find_gsm_operator(phone_number):\n",
    "    patern =r\"(\\d{3,4})- (\\d{7})\"\n",
    "    match= re.search(patern ,phone_number )\n",
    "    return match.groups()[0]\n"
   ]
  },
  {
   "cell_type": "code",
   "execution_count": 28,
   "id": "13633d36",
   "metadata": {},
   "outputs": [
    {
     "ename": "AttributeError",
     "evalue": "'NoneType' object has no attribute 'groups'",
     "output_type": "error",
     "traceback": [
      "\u001b[1;31m---------------------------------------------------------------------------\u001b[0m",
      "\u001b[1;31mAttributeError\u001b[0m                            Traceback (most recent call last)",
      "Cell \u001b[1;32mIn[28], line 3\u001b[0m\n\u001b[0;32m      1\u001b[0m phone_number \u001b[38;5;241m=\u001b[39m \u001b[38;5;124m\"\u001b[39m\u001b[38;5;124m0535-3457689\u001b[39m\u001b[38;5;124m\"\u001b[39m\n\u001b[1;32m----> 3\u001b[0m \u001b[43mfind_gsm_operator\u001b[49m\u001b[43m(\u001b[49m\u001b[43mphone_number\u001b[49m\u001b[43m)\u001b[49m\n",
      "Cell \u001b[1;32mIn[27], line 4\u001b[0m, in \u001b[0;36mfind_gsm_operator\u001b[1;34m(phone_number)\u001b[0m\n\u001b[0;32m      2\u001b[0m patern \u001b[38;5;241m=\u001b[39m\u001b[38;5;124mr\u001b[39m\u001b[38;5;124m\"\u001b[39m\u001b[38;5;124m(\u001b[39m\u001b[38;5;124m\\\u001b[39m\u001b[38;5;124md\u001b[39m\u001b[38;5;124m{\u001b[39m\u001b[38;5;124m3,4})- (\u001b[39m\u001b[38;5;124m\\\u001b[39m\u001b[38;5;124md\u001b[39m\u001b[38;5;132;01m{7}\u001b[39;00m\u001b[38;5;124m)\u001b[39m\u001b[38;5;124m\"\u001b[39m\n\u001b[0;32m      3\u001b[0m match\u001b[38;5;241m=\u001b[39m re\u001b[38;5;241m.\u001b[39msearch(patern ,phone_number )\n\u001b[1;32m----> 4\u001b[0m \u001b[38;5;28;01mreturn\u001b[39;00m \u001b[43mmatch\u001b[49m\u001b[38;5;241;43m.\u001b[39;49m\u001b[43mgroups\u001b[49m()[\u001b[38;5;241m0\u001b[39m]\n",
      "\u001b[1;31mAttributeError\u001b[0m: 'NoneType' object has no attribute 'groups'"
     ]
    }
   ],
   "source": [
    "phone_number = \"0535-3457689\"\n",
    "\n",
    "find_gsm_operator(phone_number)\n"
   ]
  },
  {
   "cell_type": "code",
   "execution_count": 29,
   "id": "c27d613d",
   "metadata": {},
   "outputs": [],
   "source": [
    "def find_gsm_operator(phone_number):\n",
    "    patern =r\"(\\d{3,4})- (\\d{7})\"\n",
    "    match= re.search(patern ,phone_number )\n",
    "    \n",
    "    if match:\n",
    "        \n",
    "        return match.groups()[0]\n",
    "    else:\n",
    "        return \"pattern not found\"\n",
    "        "
   ]
  },
  {
   "cell_type": "code",
   "execution_count": 30,
   "id": "52ddd86a",
   "metadata": {},
   "outputs": [
    {
     "data": {
      "text/plain": [
       "'pattern not found'"
      ]
     },
     "execution_count": 30,
     "metadata": {},
     "output_type": "execute_result"
    }
   ],
   "source": [
    "phone_number = \"0535-3457689\"\n",
    "\n",
    "find_gsm_operator(phone_number)\n"
   ]
  },
  {
   "cell_type": "code",
   "execution_count": 31,
   "id": "92f24823",
   "metadata": {},
   "outputs": [],
   "source": [
    "import re\n",
    "\n",
    "def find_gsm_operator(tel_no):\n",
    "    pattern = r\"(\\d{3})-(\\d{7})\"\n",
    "    match = re.search(pattern, tel_no)\n",
    "    \n",
    "    if match:\n",
    "        gsm_code = match.groups()[0]\n",
    "        print(gsm_code)\n",
    "        if gsm_code.startswith(\"54\"):\n",
    "            return \"Vodafone\"\n",
    "        elif gsm_code.startswith(\"501\") or gsm_code.startswith(\"505\") or gsm_code.startswith(\"506\"):\n",
    "            return \"AVEA\"\n",
    "        elif gsm_code.startswith(\"53\"):\n",
    "            return \"Turkcell\"\n",
    "        else:\n",
    "            return \"Network not found\"\n",
    "    else:\n",
    "        return \"Pattern not found\""
   ]
  },
  {
   "cell_type": "code",
   "execution_count": 32,
   "id": "3a621e58",
   "metadata": {},
   "outputs": [
    {
     "name": "stdout",
     "output_type": "stream",
     "text": [
      "535\n"
     ]
    },
    {
     "data": {
      "text/plain": [
       "'Turkcell'"
      ]
     },
     "execution_count": 32,
     "metadata": {},
     "output_type": "execute_result"
    }
   ],
   "source": [
    "phone_number = \"0535-3457689\"\n",
    "\n",
    "find_gsm_operator(phone_number)\n"
   ]
  },
  {
   "cell_type": "code",
   "execution_count": 33,
   "id": "3ca74eb9",
   "metadata": {},
   "outputs": [
    {
     "name": "stdout",
     "output_type": "stream",
     "text": [
      "535\n"
     ]
    },
    {
     "data": {
      "text/plain": [
       "'Turkcell'"
      ]
     },
     "execution_count": 33,
     "metadata": {},
     "output_type": "execute_result"
    }
   ],
   "source": [
    "phone_number = \"Hello my phone number 0535-3457689\"\n",
    "\n",
    "find_gsm_operator(phone_number)\n"
   ]
  },
  {
   "cell_type": "code",
   "execution_count": null,
   "id": "65efaf7b",
   "metadata": {},
   "outputs": [],
   "source": []
  }
 ],
 "metadata": {
  "kernelspec": {
   "display_name": "Python 3 (ipykernel)",
   "language": "python",
   "name": "python3"
  },
  "language_info": {
   "codemirror_mode": {
    "name": "ipython",
    "version": 3
   },
   "file_extension": ".py",
   "mimetype": "text/x-python",
   "name": "python",
   "nbconvert_exporter": "python",
   "pygments_lexer": "ipython3",
   "version": "3.10.9"
  }
 },
 "nbformat": 4,
 "nbformat_minor": 5
}
