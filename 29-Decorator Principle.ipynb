{
 "cells": [
  {
   "cell_type": "markdown",
   "id": "bfdd72ee",
   "metadata": {},
   "source": [
    "# Decorator Principle"
   ]
  },
  {
   "cell_type": "code",
   "execution_count": 6,
   "id": "b6872fe1",
   "metadata": {},
   "outputs": [],
   "source": [
    "# @decerator\n",
    "# def..."
   ]
  },
  {
   "cell_type": "markdown",
   "id": "4a2c47ca",
   "metadata": {},
   "source": [
    "# function as variable"
   ]
  },
  {
   "cell_type": "code",
   "execution_count": 7,
   "id": "4ea5dfa4",
   "metadata": {},
   "outputs": [],
   "source": [
    "def test():\n",
    "    print('abc')"
   ]
  },
  {
   "cell_type": "code",
   "execution_count": 8,
   "id": "ed738a39",
   "metadata": {},
   "outputs": [
    {
     "name": "stdout",
     "output_type": "stream",
     "text": [
      "abc\n"
     ]
    }
   ],
   "source": [
    "test()"
   ]
  },
  {
   "cell_type": "code",
   "execution_count": 9,
   "id": "c36cc598",
   "metadata": {},
   "outputs": [],
   "source": [
    "f= test"
   ]
  },
  {
   "cell_type": "code",
   "execution_count": 10,
   "id": "3993ab8f",
   "metadata": {},
   "outputs": [
    {
     "name": "stdout",
     "output_type": "stream",
     "text": [
      "abc\n"
     ]
    }
   ],
   "source": [
    "f()"
   ]
  },
  {
   "cell_type": "markdown",
   "id": "506d9b80",
   "metadata": {},
   "source": [
    "# function in function"
   ]
  },
  {
   "cell_type": "code",
   "execution_count": 11,
   "id": "b786c7ae",
   "metadata": {},
   "outputs": [],
   "source": [
    "def testing():\n",
    "    print('testing function is working')\n",
    "    \n",
    "    def attempt():\n",
    "        return \"attempt function is working\"\n",
    "    \n",
    "    print(attempt())"
   ]
  },
  {
   "cell_type": "code",
   "execution_count": 12,
   "id": "616e829a",
   "metadata": {},
   "outputs": [
    {
     "name": "stdout",
     "output_type": "stream",
     "text": [
      "testing function is working\n",
      "attempt function is working\n"
     ]
    }
   ],
   "source": [
    " testing()"
   ]
  },
  {
   "cell_type": "code",
   "execution_count": 13,
   "id": "a28e0edf",
   "metadata": {},
   "outputs": [],
   "source": [
    "def testing():\n",
    "    print('testing function is working')\n",
    "    \n",
    "    def attempt():\n",
    "        return \"attempt function is working\"\n",
    "    \n",
    "    print(attempt())\n",
    "    \n",
    "    return attempt "
   ]
  },
  {
   "cell_type": "code",
   "execution_count": 14,
   "id": "20c9238b",
   "metadata": {},
   "outputs": [
    {
     "name": "stdout",
     "output_type": "stream",
     "text": [
      "testing function is working\n",
      "attempt function is working\n"
     ]
    },
    {
     "data": {
      "text/plain": [
       "<function __main__.testing.<locals>.attempt()>"
      ]
     },
     "execution_count": 14,
     "metadata": {},
     "output_type": "execute_result"
    }
   ],
   "source": [
    " testing()"
   ]
  },
  {
   "cell_type": "code",
   "execution_count": 15,
   "id": "5ec4c0b4",
   "metadata": {},
   "outputs": [
    {
     "name": "stdout",
     "output_type": "stream",
     "text": [
      "testing function is working\n",
      "attempt function is working\n"
     ]
    },
    {
     "data": {
      "text/plain": [
       "'attempt function is working'"
      ]
     },
     "execution_count": 15,
     "metadata": {},
     "output_type": "execute_result"
    }
   ],
   "source": [
    "f = testing()\n",
    "f()"
   ]
  },
  {
   "cell_type": "code",
   "execution_count": 16,
   "id": "c3b7df48",
   "metadata": {},
   "outputs": [
    {
     "name": "stdout",
     "output_type": "stream",
     "text": [
      "testing function is working\n",
      "attempt function is working\n",
      "attempt function is working\n"
     ]
    }
   ],
   "source": [
    "f = testing()\n",
    "print(f())"
   ]
  },
  {
   "cell_type": "markdown",
   "id": "b4bd39f0",
   "metadata": {},
   "source": [
    "# Decorator"
   ]
  },
  {
   "cell_type": "code",
   "execution_count": 17,
   "id": "44bfddb9",
   "metadata": {},
   "outputs": [],
   "source": [
    "def test():\n",
    "    return 'testing function is working'"
   ]
  },
  {
   "cell_type": "code",
   "execution_count": 18,
   "id": "ae4f355e",
   "metadata": {},
   "outputs": [],
   "source": [
    "def second(f):\n",
    "    print('second function is working')\n",
    "    \n",
    "    print(f())"
   ]
  },
  {
   "cell_type": "code",
   "execution_count": 19,
   "id": "14d65014",
   "metadata": {},
   "outputs": [
    {
     "name": "stdout",
     "output_type": "stream",
     "text": [
      "second function is working\n",
      "testing function is working\n"
     ]
    }
   ],
   "source": [
    "second(test)"
   ]
  },
  {
   "cell_type": "code",
   "execution_count": 20,
   "id": "64a0bfd0",
   "metadata": {},
   "outputs": [],
   "source": [
    "def deco (f):\n",
    "    def wrapper():\n",
    "        print (\"beginning\")\n",
    "        \n",
    "        f()\n",
    "        \n",
    "        print (\"finish\")\n",
    "        \n",
    "    return wrapper    \n",
    "        "
   ]
  },
  {
   "cell_type": "code",
   "execution_count": 21,
   "id": "ecc4bf0a",
   "metadata": {},
   "outputs": [],
   "source": [
    "def write():\n",
    "    print('write')"
   ]
  },
  {
   "cell_type": "code",
   "execution_count": 22,
   "id": "5c234e79",
   "metadata": {},
   "outputs": [],
   "source": [
    "def write2():\n",
    "    print('write2')"
   ]
  },
  {
   "cell_type": "code",
   "execution_count": 23,
   "id": "ad973b55",
   "metadata": {},
   "outputs": [],
   "source": [
    "write =  deco(write)"
   ]
  },
  {
   "cell_type": "code",
   "execution_count": 24,
   "id": "bf01bb0b",
   "metadata": {},
   "outputs": [],
   "source": [
    "write2 =  deco(write2)"
   ]
  },
  {
   "cell_type": "code",
   "execution_count": 25,
   "id": "5561c305",
   "metadata": {},
   "outputs": [
    {
     "name": "stdout",
     "output_type": "stream",
     "text": [
      "beginning\n",
      "write\n",
      "finish\n"
     ]
    }
   ],
   "source": [
    "write()"
   ]
  },
  {
   "cell_type": "code",
   "execution_count": 26,
   "id": "5667cc51",
   "metadata": {},
   "outputs": [
    {
     "name": "stdout",
     "output_type": "stream",
     "text": [
      "beginning\n",
      "write2\n",
      "finish\n"
     ]
    }
   ],
   "source": [
    "write2()"
   ]
  },
  {
   "cell_type": "code",
   "execution_count": 27,
   "id": "43bb31e9",
   "metadata": {},
   "outputs": [],
   "source": [
    "@deco\n",
    "def write():\n",
    "    print('write')"
   ]
  },
  {
   "cell_type": "code",
   "execution_count": 28,
   "id": "c4395187",
   "metadata": {},
   "outputs": [
    {
     "name": "stdout",
     "output_type": "stream",
     "text": [
      "beginning\n",
      "write\n",
      "finish\n"
     ]
    }
   ],
   "source": [
    "write()"
   ]
  },
  {
   "cell_type": "code",
   "execution_count": 29,
   "id": "7f51a901",
   "metadata": {},
   "outputs": [],
   "source": [
    "@deco\n",
    "def collection(a,b):\n",
    "    print(a+b)"
   ]
  },
  {
   "cell_type": "code",
   "execution_count": 30,
   "id": "941773cb",
   "metadata": {},
   "outputs": [
    {
     "ename": "TypeError",
     "evalue": "deco.<locals>.wrapper() takes 0 positional arguments but 2 were given",
     "output_type": "error",
     "traceback": [
      "\u001b[1;31m---------------------------------------------------------------------------\u001b[0m",
      "\u001b[1;31mTypeError\u001b[0m                                 Traceback (most recent call last)",
      "Cell \u001b[1;32mIn[30], line 1\u001b[0m\n\u001b[1;32m----> 1\u001b[0m \u001b[43mcollection\u001b[49m\u001b[43m(\u001b[49m\u001b[38;5;241;43m4\u001b[39;49m\u001b[43m,\u001b[49m\u001b[38;5;241;43m5\u001b[39;49m\u001b[43m)\u001b[49m\n",
      "\u001b[1;31mTypeError\u001b[0m: deco.<locals>.wrapper() takes 0 positional arguments but 2 were given"
     ]
    }
   ],
   "source": [
    "collection(4,5)"
   ]
  },
  {
   "cell_type": "markdown",
   "id": "ca229d9b",
   "metadata": {},
   "source": [
    "# decorator on functions that take arguments"
   ]
  },
  {
   "cell_type": "code",
   "execution_count": 31,
   "id": "3c198594",
   "metadata": {},
   "outputs": [],
   "source": [
    "def deco (f):\n",
    "    def wrapper(*args):\n",
    "        print (\"beginning\")\n",
    "        \n",
    "        f(*args)\n",
    "        \n",
    "        print (\"finish\")\n",
    "        \n",
    "    return wrapper    \n",
    "        "
   ]
  },
  {
   "cell_type": "code",
   "execution_count": 32,
   "id": "a65c4ca0",
   "metadata": {},
   "outputs": [],
   "source": [
    "@deco\n",
    "def collection(a,b):\n",
    "    print(a+b)"
   ]
  },
  {
   "cell_type": "code",
   "execution_count": 33,
   "id": "bf23cf3c",
   "metadata": {},
   "outputs": [
    {
     "name": "stdout",
     "output_type": "stream",
     "text": [
      "beginning\n",
      "9\n",
      "finish\n"
     ]
    }
   ],
   "source": [
    "collection(4,5)"
   ]
  },
  {
   "cell_type": "markdown",
   "id": "054c370b",
   "metadata": {},
   "source": [
    "# decorator that takes arguments"
   ]
  },
  {
   "cell_type": "code",
   "execution_count": 34,
   "id": "4e545f9e",
   "metadata": {},
   "outputs": [],
   "source": [
    "def deco(msg1, msg2):\n",
    "    def interlayer(f):\n",
    "        \n",
    "        def wrapper(*args):\n",
    "            \n",
    "            print (msg1)\n",
    "            \n",
    "         \n",
    "            f(*args)\n",
    "            \n",
    "            print (msg2)\n",
    "            \n",
    "        return wrapper \n",
    "    return interlayer\n",
    "        "
   ]
  },
  {
   "cell_type": "code",
   "execution_count": 35,
   "id": "ac178e79",
   "metadata": {},
   "outputs": [],
   "source": [
    "@deco(\"first\",  \"result\")\n",
    "def collection(a,b):\n",
    "    print(a+b)"
   ]
  },
  {
   "cell_type": "code",
   "execution_count": 36,
   "id": "7cdde326",
   "metadata": {},
   "outputs": [
    {
     "name": "stdout",
     "output_type": "stream",
     "text": [
      "first\n",
      "9\n",
      "result\n"
     ]
    }
   ],
   "source": [
    "collection(4,5)"
   ]
  },
  {
   "cell_type": "markdown",
   "id": "8f442e00",
   "metadata": {},
   "source": [
    "# example - time measurement"
   ]
  },
  {
   "cell_type": "code",
   "execution_count": 51,
   "id": "d27cd86b",
   "metadata": {},
   "outputs": [
    {
     "data": {
      "text/plain": [
       "0.0"
      ]
     },
     "execution_count": 51,
     "metadata": {},
     "output_type": "execute_result"
    }
   ],
   "source": [
    "import time\n",
    "beginning = time.time()\n",
    "f()\n",
    "finish = time.time()\n",
    "finish - beginning\n"
   ]
  },
  {
   "cell_type": "code",
   "execution_count": 52,
   "id": "c2940fea",
   "metadata": {},
   "outputs": [],
   "source": [
    "def sure_olc(f):\n",
    "    def wrapper(*args):\n",
    "        \n",
    "        beginnig = time.time()\n",
    "        print('start time :\\t{}'.format( beginnig))\n",
    "        \n",
    "        f(*args)\n",
    "        \n",
    "        finish = time.time()\n",
    "        print('finish time :\\t{}'.format(finish))\n",
    "        print('elapsed time :\\t{}'.format(finish- beginnig))\n",
    "        \n",
    "        "
   ]
  },
  {
   "cell_type": "code",
   "execution_count": 65,
   "id": "ab57b952",
   "metadata": {},
   "outputs": [],
   "source": [
    "def factorial(number):\n",
    "    \n",
    "    total = 1\n",
    "    \n",
    "    while number > 1:\n",
    "        total = total * number\n",
    "        number = number - 1\n",
    "        \n",
    "        print(total)"
   ]
  },
  {
   "cell_type": "code",
   "execution_count": 67,
   "id": "52d3e069",
   "metadata": {},
   "outputs": [
    {
     "name": "stdout",
     "output_type": "stream",
     "text": [
      "4\n",
      "12\n",
      "24\n"
     ]
    }
   ],
   "source": [
    "factorial(4)"
   ]
  },
  {
   "cell_type": "code",
   "execution_count": null,
   "id": "8c84aed3",
   "metadata": {},
   "outputs": [],
   "source": []
  }
 ],
 "metadata": {
  "kernelspec": {
   "display_name": "Python 3 (ipykernel)",
   "language": "python",
   "name": "python3"
  },
  "language_info": {
   "codemirror_mode": {
    "name": "ipython",
    "version": 3
   },
   "file_extension": ".py",
   "mimetype": "text/x-python",
   "name": "python",
   "nbconvert_exporter": "python",
   "pygments_lexer": "ipython3",
   "version": "3.10.9"
  }
 },
 "nbformat": 4,
 "nbformat_minor": 5
}
