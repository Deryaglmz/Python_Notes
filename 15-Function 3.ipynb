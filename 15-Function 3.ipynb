{
 "cells": [
  {
   "cell_type": "markdown",
   "id": "1d4c77e3",
   "metadata": {},
   "source": [
    "# function 3"
   ]
  },
  {
   "cell_type": "markdown",
   "id": "6789b76e",
   "metadata": {},
   "source": [
    "# map , filter , lambda expression"
   ]
  },
  {
   "cell_type": "code",
   "execution_count": 3,
   "id": "23701d98",
   "metadata": {},
   "outputs": [],
   "source": [
    "def square_it(x):\n",
    "    return x**2"
   ]
  },
  {
   "cell_type": "code",
   "execution_count": 4,
   "id": "0d358725",
   "metadata": {},
   "outputs": [
    {
     "data": {
      "text/plain": [
       "25"
      ]
     },
     "execution_count": 4,
     "metadata": {},
     "output_type": "execute_result"
    }
   ],
   "source": [
    "square_it(5)"
   ]
  },
  {
   "cell_type": "code",
   "execution_count": 7,
   "id": "6f00a745",
   "metadata": {},
   "outputs": [
    {
     "data": {
      "text/plain": [
       "[1, 2, 3, 4, 5]"
      ]
     },
     "execution_count": 7,
     "metadata": {},
     "output_type": "execute_result"
    }
   ],
   "source": [
    "numbers = [*range(1,6)]\n",
    "numbers"
   ]
  },
  {
   "cell_type": "code",
   "execution_count": 14,
   "id": "f41b33e2",
   "metadata": {},
   "outputs": [
    {
     "name": "stdout",
     "output_type": "stream",
     "text": [
      "[1, 2, 3, 4, 5]\n",
      "[1, 4, 9, 16, 25]\n"
     ]
    }
   ],
   "source": [
    "numbers = [*range(1,6)]\n",
    "print(numbers)\n",
    "\n",
    "for index in range(len(numbers)):\n",
    "    numbers[index] = square_it(numbers[index])\n",
    "print(numbers)\n"
   ]
  },
  {
   "cell_type": "code",
   "execution_count": 15,
   "id": "b16edbef",
   "metadata": {},
   "outputs": [
    {
     "data": {
      "text/plain": [
       "[1, 4, 9, 16, 25]"
      ]
     },
     "execution_count": 15,
     "metadata": {},
     "output_type": "execute_result"
    }
   ],
   "source": [
    "numbers = [*range(1,6)]\n",
    "[*map(square_it , numbers)]\n"
   ]
  },
  {
   "cell_type": "code",
   "execution_count": 16,
   "id": "422515b9",
   "metadata": {},
   "outputs": [],
   "source": [
    "def filter_even_numbers(x):\n",
    "    if x%2==0:\n",
    "        return x"
   ]
  },
  {
   "cell_type": "code",
   "execution_count": 17,
   "id": "84c5ec28",
   "metadata": {},
   "outputs": [
    {
     "data": {
      "text/plain": [
       "4"
      ]
     },
     "execution_count": 17,
     "metadata": {},
     "output_type": "execute_result"
    }
   ],
   "source": [
    "filter_even_numbers(4)"
   ]
  },
  {
   "cell_type": "code",
   "execution_count": 18,
   "id": "c0c0d804",
   "metadata": {},
   "outputs": [],
   "source": [
    "def filter_even_numbers(x):\n",
    "    if x%2==0:\n",
    "        return x\n",
    "    else :\n",
    "        return None \n",
    "    "
   ]
  },
  {
   "cell_type": "code",
   "execution_count": 20,
   "id": "b0ac73a5",
   "metadata": {},
   "outputs": [],
   "source": [
    "filter_even_numbers(3)"
   ]
  },
  {
   "cell_type": "code",
   "execution_count": 21,
   "id": "3d2be69f",
   "metadata": {},
   "outputs": [
    {
     "data": {
      "text/plain": [
       "10"
      ]
     },
     "execution_count": 21,
     "metadata": {},
     "output_type": "execute_result"
    }
   ],
   "source": [
    "filter_even_numbers(10)"
   ]
  },
  {
   "cell_type": "code",
   "execution_count": 22,
   "id": "e8bb942d",
   "metadata": {},
   "outputs": [
    {
     "data": {
      "text/plain": [
       "[2, 4]"
      ]
     },
     "execution_count": 22,
     "metadata": {},
     "output_type": "execute_result"
    }
   ],
   "source": [
    "numbers = [*range(1,6)]\n",
    "[*filter(filter_even_numbers, numbers)]\n"
   ]
  },
  {
   "cell_type": "code",
   "execution_count": 23,
   "id": "133604f2",
   "metadata": {},
   "outputs": [
    {
     "data": {
      "text/plain": [
       "[1, 4, 9, 16, 25]"
      ]
     },
     "execution_count": 23,
     "metadata": {},
     "output_type": "execute_result"
    }
   ],
   "source": [
    "numbers = [*range(1,6)]\n",
    "list(map(lambda number : number**2 , numbers))\n"
   ]
  },
  {
   "cell_type": "code",
   "execution_count": 24,
   "id": "38d69c3f",
   "metadata": {},
   "outputs": [
    {
     "data": {
      "text/plain": [
       "[1, 4, 9, 16, 25]"
      ]
     },
     "execution_count": 24,
     "metadata": {},
     "output_type": "execute_result"
    }
   ],
   "source": [
    "numbers = [*range(1,6)]\n",
    "[*map(lambda number : number**2 , numbers)]\n"
   ]
  },
  {
   "cell_type": "code",
   "execution_count": 26,
   "id": "d654e7ab",
   "metadata": {},
   "outputs": [
    {
     "data": {
      "text/plain": [
       "[2, 4]"
      ]
     },
     "execution_count": 26,
     "metadata": {},
     "output_type": "execute_result"
    }
   ],
   "source": [
    "numbers = [*range(1,6)]\n",
    "[*filter(lambda x : x if x%2==0 else None , numbers)]\n"
   ]
  },
  {
   "cell_type": "code",
   "execution_count": 29,
   "id": "dc4f966c",
   "metadata": {},
   "outputs": [
    {
     "name": "stdout",
     "output_type": "stream",
     "text": [
      "15\n"
     ]
    }
   ],
   "source": [
    "x = lambda a : a + 10\n",
    "print(x(5))"
   ]
  },
  {
   "cell_type": "code",
   "execution_count": 30,
   "id": "60e12d9b",
   "metadata": {},
   "outputs": [
    {
     "name": "stdout",
     "output_type": "stream",
     "text": [
      "11\n"
     ]
    }
   ],
   "source": [
    "addition = lambda a, b : a + b\n",
    "print(addition(5, 6))"
   ]
  },
  {
   "cell_type": "code",
   "execution_count": null,
   "id": "f85f432f",
   "metadata": {},
   "outputs": [],
   "source": []
  }
 ],
 "metadata": {
  "kernelspec": {
   "display_name": "Python 3 (ipykernel)",
   "language": "python",
   "name": "python3"
  },
  "language_info": {
   "codemirror_mode": {
    "name": "ipython",
    "version": 3
   },
   "file_extension": ".py",
   "mimetype": "text/x-python",
   "name": "python",
   "nbconvert_exporter": "python",
   "pygments_lexer": "ipython3",
   "version": "3.10.9"
  }
 },
 "nbformat": 4,
 "nbformat_minor": 5
}
