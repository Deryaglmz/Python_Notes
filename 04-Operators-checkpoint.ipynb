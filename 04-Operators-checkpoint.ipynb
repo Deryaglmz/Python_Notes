{
 "cells": [
  {
   "cell_type": "markdown",
   "id": "7c1ae43f",
   "metadata": {},
   "source": [
    "# Operators"
   ]
  },
  {
   "cell_type": "markdown",
   "id": "b3f051a8",
   "metadata": {},
   "source": [
    "# Arithmetic (Number) Operators"
   ]
  },
  {
   "cell_type": "raw",
   "id": "6dcee92c",
   "metadata": {},
   "source": [
    "OperatOr\t                     function\t                   Example Usage\n",
    "   +\t                         Collection\t                      x + y\n",
    "   -\t                         Extraction\t                      x - y\n",
    "   *\t                          Impact\t                      x * y\n",
    "   /\t                          Divide\t                      x / y\n",
    "   %\t                           Mode\t                          x % y\n",
    "  **\t                           Base\t                          x ** y\n",
    "  //\t                           Root\t                          x // y"
   ]
  },
  {
   "cell_type": "markdown",
   "id": "c1eccec6",
   "metadata": {},
   "source": [
    "# Assignment Operators"
   ]
  },
  {
   "cell_type": "raw",
   "id": "2a018921",
   "metadata": {},
   "source": [
    "OperatOr\t                    Example Usage\t                 explanation\n",
    "    =\t                           x = 5\t                       x = 5\n",
    "   +=\t                           x += 3\t                      x = x + 3\n",
    "   -=\t                           x -= 3                         x = x - 3\n",
    "   *=\t                           x *= 3\t                      x = x * 3\n",
    "   /=\t                           x /= 3\t                      x = x / 3\n",
    "   %=\t                           x %= 3\t                      x = x % 3\n",
    "   //=\t                           x //= 3\t                      x = x // 3\n",
    "   **=\t                           x **= 3\t                      x = x ** 3\n",
    "   &=\t                           x &= 3\t                      x = x & 3\n",
    "   |=\t                           x |= 3\t                      x = x | 3\n",
    "   ^=\t                           x ^= 3\t                      x = x ^ 3\n",
    "   >>=\t                           x >>= 3\t                      x = x >> 3\n",
    "   <<=\t                           x <<= 3\t                      x = x << 3"
   ]
  },
  {
   "cell_type": "markdown",
   "id": "59511621",
   "metadata": {},
   "source": [
    "# Benchmark Operators"
   ]
  },
  {
   "cell_type": "raw",
   "id": "b9ebaf1f",
   "metadata": {},
   "source": [
    "Operator\t                    Example Usage\t                  explanation\n",
    "  ==\t                            Equals                          x == y\n",
    "  !=\t                           Not equal\t                    x != y\n",
    "  >\t                                is big\t                        x > y\n",
    "  <                                 is small\t                    x < y\n",
    "  >=\t                      greater than or equal to\t            x >= y\n",
    "  <=\t                        Less than or equal\t                x <= y"
   ]
  },
  {
   "cell_type": "markdown",
   "id": "23816801",
   "metadata": {},
   "source": [
    "# Logical Operators"
   ]
  },
  {
   "cell_type": "raw",
   "id": "1c4b2988",
   "metadata": {},
   "source": [
    "Operator\t                     explanation\t                                               Example Usage\n",
    "and              \tIf both statements are true, the condition is satisfied.\t              x < 5 and x < 10\n",
    "or\t          The condition is satisfied if even one of the two statements is true\t          x < 5 or x < 4\n",
    "not\t                The result is reversed. False if true, true if false.\t                not(x < 5 and < < 10)"
   ]
  },
  {
   "cell_type": "markdown",
   "id": "05ddbaef",
   "metadata": {},
   "source": [
    "# Identification Operators"
   ]
  },
  {
   "cell_type": "raw",
   "id": "0c6eaa3a",
   "metadata": {},
   "source": [
    "Operator\t                     explanation\t                                               Example\n",
    "  is\t             True if both variables are the same object\t                                x is y\n",
    "  is not\t          True if the variables are of different types\t                           x is not y"
   ]
  },
  {
   "cell_type": "markdown",
   "id": "0efc5ae7",
   "metadata": {},
   "source": [
    "# Belonging Operators"
   ]
  },
  {
   "cell_type": "raw",
   "id": "3a642630",
   "metadata": {},
   "source": [
    "Operatör\t                     explanation\t                                                Example\n",
    "  in\t               True if the series contains the specified value\t                         x in y\n",
    " not in\t             True if the series does not contain the specified value\t                 x not in y\n"
   ]
  },
  {
   "cell_type": "code",
   "execution_count": null,
   "id": "c63425b5",
   "metadata": {},
   "outputs": [],
   "source": []
  }
 ],
 "metadata": {
  "kernelspec": {
   "display_name": "Python 3 (ipykernel)",
   "language": "python",
   "name": "python3"
  },
  "language_info": {
   "codemirror_mode": {
    "name": "ipython",
    "version": 3
   },
   "file_extension": ".py",
   "mimetype": "text/x-python",
   "name": "python",
   "nbconvert_exporter": "python",
   "pygments_lexer": "ipython3",
   "version": "3.10.9"
  }
 },
 "nbformat": 4,
 "nbformat_minor": 5
}
