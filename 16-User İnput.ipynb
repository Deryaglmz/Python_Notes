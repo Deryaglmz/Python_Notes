{
 "cells": [
  {
   "cell_type": "markdown",
   "id": "6a898536",
   "metadata": {},
   "source": [
    "# user input"
   ]
  },
  {
   "cell_type": "code",
   "execution_count": 1,
   "id": "c00cca40",
   "metadata": {},
   "outputs": [
    {
     "name": "stdout",
     "output_type": "stream",
     "text": [
      "enter a number : 12\n"
     ]
    },
    {
     "data": {
      "text/plain": [
       "'12'"
      ]
     },
     "execution_count": 1,
     "metadata": {},
     "output_type": "execute_result"
    }
   ],
   "source": [
    "input(\"enter a number : \")\n"
   ]
  },
  {
   "cell_type": "code",
   "execution_count": 2,
   "id": "5ed218b0",
   "metadata": {},
   "outputs": [
    {
     "name": "stdout",
     "output_type": "stream",
     "text": [
      "enter a number : 2\n"
     ]
    },
    {
     "data": {
      "text/plain": [
       "'2'"
      ]
     },
     "execution_count": 2,
     "metadata": {},
     "output_type": "execute_result"
    }
   ],
   "source": [
    "entry = input(\"enter a number : \")\n",
    "entry\n"
   ]
  },
  {
   "cell_type": "code",
   "execution_count": 3,
   "id": "c6c94ca4",
   "metadata": {},
   "outputs": [
    {
     "name": "stdout",
     "output_type": "stream",
     "text": [
      "enter a number : 2\n"
     ]
    },
    {
     "data": {
      "text/plain": [
       "str"
      ]
     },
     "execution_count": 3,
     "metadata": {},
     "output_type": "execute_result"
    }
   ],
   "source": [
    "entry = input(\"enter a number : \")\n",
    "type(entry)\n"
   ]
  },
  {
   "cell_type": "code",
   "execution_count": 4,
   "id": "b3785043",
   "metadata": {},
   "outputs": [
    {
     "name": "stdout",
     "output_type": "stream",
     "text": [
      "enter a number : 15\n"
     ]
    },
    {
     "data": {
      "text/plain": [
       "int"
      ]
     },
     "execution_count": 4,
     "metadata": {},
     "output_type": "execute_result"
    }
   ],
   "source": [
    "entry = input(\"enter a number : \")\n",
    "type(int(entry))\n"
   ]
  },
  {
   "cell_type": "code",
   "execution_count": 8,
   "id": "5ecd4d0c",
   "metadata": {},
   "outputs": [],
   "source": [
    "def application():\n",
    "    entry = input(\"enter a number :\")\n",
    "    process = input(\"Is the number odd or even?\")\n",
    "    \n",
    "    if application =='even':\n",
    "        if int(entry)%2==0:\n",
    "            return 'yes it is an even number'\n",
    "        else:\n",
    "            return ' it is not  an even number'\n",
    "        \n",
    "    elif application =='odd':\n",
    "        if int(entry)%2==1:\n",
    "            return 'yes it is an odd number'\n",
    "    else:\n",
    "        return ' it is not  an odd number'\n",
    "        "
   ]
  },
  {
   "cell_type": "code",
   "execution_count": 9,
   "id": "117d7987",
   "metadata": {},
   "outputs": [
    {
     "name": "stdout",
     "output_type": "stream",
     "text": [
      "enter a number :5\n",
      "Is the number odd or even?odd\n"
     ]
    },
    {
     "data": {
      "text/plain": [
       "' it is not  an odd number'"
      ]
     },
     "execution_count": 9,
     "metadata": {},
     "output_type": "execute_result"
    }
   ],
   "source": [
    "application()"
   ]
  },
  {
   "cell_type": "code",
   "execution_count": null,
   "id": "3fd7b7f7",
   "metadata": {},
   "outputs": [],
   "source": [
    "def application():\n",
    "    entry = input(\"enter a number :\")\n",
    "    process = input(\"Is the number odd or even?\")\n",
    "    \n",
    "    if application =='even':\n",
    "        if int(entry)%2==0:\n",
    "            return 'yes {} an even number'.format(application)\n",
    "        else:\n",
    "            return ' {} not  an even number'.format(application)\n",
    "        \n",
    "    elif application =='odd':\n",
    "        if int(entry)%2==1:\n",
    "            return 'yes {} an odd number'.format(application)\n",
    "    else:\n",
    "        return ' {} not  an odd number'.format(application)\n",
    "        "
   ]
  },
  {
   "cell_type": "code",
   "execution_count": null,
   "id": "9fc30183",
   "metadata": {},
   "outputs": [],
   "source": [
    " application()"
   ]
  },
  {
   "cell_type": "code",
   "execution_count": null,
   "id": "acf81afa",
   "metadata": {},
   "outputs": [],
   "source": []
  }
 ],
 "metadata": {
  "kernelspec": {
   "display_name": "Python 3 (ipykernel)",
   "language": "python",
   "name": "python3"
  },
  "language_info": {
   "codemirror_mode": {
    "name": "ipython",
    "version": 3
   },
   "file_extension": ".py",
   "mimetype": "text/x-python",
   "name": "python",
   "nbconvert_exporter": "python",
   "pygments_lexer": "ipython3",
   "version": "3.10.9"
  }
 },
 "nbformat": 4,
 "nbformat_minor": 5
}
