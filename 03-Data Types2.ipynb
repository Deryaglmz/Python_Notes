{
 "cells": [
  {
   "cell_type": "markdown",
   "id": "b5ddcd33",
   "metadata": {},
   "source": [
    "# Python Data Convert"
   ]
  },
  {
   "cell_type": "code",
   "execution_count": null,
   "id": "1e5ff5c7",
   "metadata": {},
   "outputs": [],
   "source": [
    "# x = int(1)         # x 1 will be\n",
    "# x = float(\"4.2\")   # x 4.2 well be\n",
    "# x = str(\"s1\")      # x 's1' well be"
   ]
  },
  {
   "cell_type": "markdown",
   "id": "b9833ffa",
   "metadata": {},
   "source": [
    "# Write Multiline Value"
   ]
  },
  {
   "cell_type": "code",
   "execution_count": null,
   "id": "3314ca06",
   "metadata": {},
   "outputs": [],
   "source": [
    "#  three quotes (\"\"\"\"\"\") is written with"
   ]
  },
  {
   "cell_type": "code",
   "execution_count": 3,
   "id": "c8166900",
   "metadata": {},
   "outputs": [
    {
     "name": "stdout",
     "output_type": "stream",
     "text": [
      "several lines\n",
      "values\n"
     ]
    }
   ],
   "source": [
    "a = \"\"\"several lines\n",
    "values\"\"\"\n",
    "print(a)"
   ]
  },
  {
   "cell_type": "markdown",
   "id": "b5699c2b",
   "metadata": {},
   "source": [
    "# Len : length"
   ]
  },
  {
   "cell_type": "code",
   "execution_count": 19,
   "id": "4c99b510",
   "metadata": {},
   "outputs": [
    {
     "name": "stdout",
     "output_type": "stream",
     "text": [
      "11\n"
     ]
    }
   ],
   "source": [
    "x = \"Hello World\"\n",
    "print(len(x))"
   ]
  },
  {
   "cell_type": "markdown",
   "id": "6a399a07",
   "metadata": {},
   "source": [
    "# Helper Methods\n"
   ]
  },
  {
   "cell_type": "code",
   "execution_count": null,
   "id": "5a71c512",
   "metadata": {},
   "outputs": [],
   "source": [
    "# Function        Definition                   Python Code                                        Output\n",
    "# strip()        cleans up spaces         a = \"Hello World! \"a.strip()                         \"Hello World!\"\n",
    "# lower()         lowers letters          a = \"Hello World! \"lower()                           \"hello world!\"\n",
    "# upper()         enlarge letters         a = \"Hello World! \"upper()                           \"HELLO WORLD!\"\n",
    "# replace()       to change letters       a = \"Hello World! \"replace(\"H,A)                     \"Aello World!\"\n",
    "# split()        converts to string       a = \"Hello World! \"split()                          [\"Hello\",\"World!\"]"
   ]
  },
  {
   "cell_type": "code",
   "execution_count": 23,
   "id": "af4fb654",
   "metadata": {},
   "outputs": [],
   "source": [
    "strvar = \"Python!\""
   ]
  },
  {
   "cell_type": "code",
   "execution_count": 25,
   "id": "28808a69",
   "metadata": {},
   "outputs": [
    {
     "name": "stdout",
     "output_type": "stream",
     "text": [
      "PYTHON!\n",
      "python!\n",
      "['Python!']\n",
      "['Python', '']\n"
     ]
    }
   ],
   "source": [
    "print (strvar.upper())\n",
    "print (strvar.lower())\n",
    "print (strvar.split())\n",
    "print (strvar.split(\"!\"))"
   ]
  },
  {
   "cell_type": "code",
   "execution_count": 26,
   "id": "a4e830fe",
   "metadata": {},
   "outputs": [
    {
     "data": {
      "text/plain": [
       "['Python!']"
      ]
     },
     "execution_count": 26,
     "metadata": {},
     "output_type": "execute_result"
    }
   ],
   "source": [
    "strvar.split()"
   ]
  },
  {
   "cell_type": "code",
   "execution_count": 29,
   "id": "94cbc3be",
   "metadata": {},
   "outputs": [
    {
     "name": "stdout",
     "output_type": "stream",
     "text": [
      "My name is Derya , and I 20 years old!\n"
     ]
    }
   ],
   "source": [
    "age = 20\n",
    "text = \"My name is Derya , and I {} years old!\"\n",
    "print(text.format(age))"
   ]
  },
  {
   "cell_type": "markdown",
   "id": "e1801a27",
   "metadata": {},
   "source": [
    "# Escape"
   ]
  },
  {
   "cell_type": "code",
   "execution_count": null,
   "id": "71be5b14",
   "metadata": {},
   "outputs": [],
   "source": [
    "# denoted by (\\) "
   ]
  },
  {
   "cell_type": "code",
   "execution_count": 31,
   "id": "1d1a0f34",
   "metadata": {},
   "outputs": [],
   "source": [
    "txt = 'I\\'m'"
   ]
  },
  {
   "cell_type": "code",
   "execution_count": null,
   "id": "b5ccaf2b",
   "metadata": {},
   "outputs": [],
   "source": [
    "# Character     Meaning\n",
    "# \\'          upper bracket\n",
    "# \\\\           backslash\n",
    "# \\n            new line\n",
    "# \\r         entrance (enter)\n",
    "# \\t             tab\n",
    "# \\b          back key"
   ]
  },
  {
   "cell_type": "markdown",
   "id": "44169d4a",
   "metadata": {},
   "source": [
    "# Boolean"
   ]
  },
  {
   "cell_type": "code",
   "execution_count": null,
   "id": "4c3b68a5",
   "metadata": {},
   "outputs": [],
   "source": [
    "# True or False"
   ]
  },
  {
   "cell_type": "code",
   "execution_count": 6,
   "id": "da8a04b3",
   "metadata": {},
   "outputs": [
    {
     "name": "stdout",
     "output_type": "stream",
     "text": [
      "True\n",
      "False\n"
     ]
    }
   ],
   "source": [
    "a = True\n",
    "b = False\n",
    "print(a)\n",
    "print(b)"
   ]
  },
  {
   "cell_type": "code",
   "execution_count": 8,
   "id": "e65fb486",
   "metadata": {},
   "outputs": [
    {
     "name": "stdout",
     "output_type": "stream",
     "text": [
      "<class 'str'>\n"
     ]
    }
   ],
   "source": [
    "c = 'True'\n",
    "print(type(c))"
   ]
  },
  {
   "cell_type": "code",
   "execution_count": 9,
   "id": "374be5e2",
   "metadata": {},
   "outputs": [
    {
     "name": "stdout",
     "output_type": "stream",
     "text": [
      "<class 'bool'>\n"
     ]
    }
   ],
   "source": [
    "a = True\n",
    "print (type(a))"
   ]
  },
  {
   "cell_type": "code",
   "execution_count": 10,
   "id": "a00fe0c3",
   "metadata": {},
   "outputs": [
    {
     "name": "stdout",
     "output_type": "stream",
     "text": [
      "False\n"
     ]
    }
   ],
   "source": [
    "age1 = 18\n",
    "age2 = 20\n",
    "print (age1 > age2)"
   ]
  },
  {
   "cell_type": "code",
   "execution_count": 12,
   "id": "848fc013",
   "metadata": {},
   "outputs": [
    {
     "data": {
      "text/plain": [
       "True"
      ]
     },
     "execution_count": 12,
     "metadata": {},
     "output_type": "execute_result"
    }
   ],
   "source": [
    "age1 == 18"
   ]
  },
  {
   "cell_type": "code",
   "execution_count": 13,
   "id": "efa40d2b",
   "metadata": {},
   "outputs": [
    {
     "data": {
      "text/plain": [
       "False"
      ]
     },
     "execution_count": 13,
     "metadata": {},
     "output_type": "execute_result"
    }
   ],
   "source": [
    "age1 != 18"
   ]
  },
  {
   "cell_type": "code",
   "execution_count": 14,
   "id": "2bb6764e",
   "metadata": {},
   "outputs": [
    {
     "data": {
      "text/plain": [
       "False"
      ]
     },
     "execution_count": 14,
     "metadata": {},
     "output_type": "execute_result"
    }
   ],
   "source": [
    "not age1 == 18"
   ]
  },
  {
   "cell_type": "code",
   "execution_count": 15,
   "id": "c5dc6ef8",
   "metadata": {},
   "outputs": [
    {
     "data": {
      "text/plain": [
       "True"
      ]
     },
     "execution_count": 15,
     "metadata": {},
     "output_type": "execute_result"
    }
   ],
   "source": [
    "not age1 > 18"
   ]
  },
  {
   "cell_type": "code",
   "execution_count": 17,
   "id": "99f6ef61",
   "metadata": {},
   "outputs": [
    {
     "name": "stdout",
     "output_type": "stream",
     "text": [
      "True\n",
      "True\n",
      "False\n",
      "False\n"
     ]
    }
   ],
   "source": [
    "value1 = \"Hello\"\n",
    "value2 = 15\n",
    "value3 = \"\"\n",
    "value4 = 0\n",
    "\n",
    "print(bool(value1))\n",
    "print(bool(value2))\n",
    "print(bool(value3))\n",
    "print(bool(value4))"
   ]
  },
  {
   "cell_type": "code",
   "execution_count": 18,
   "id": "2ad6c1c6",
   "metadata": {},
   "outputs": [
    {
     "data": {
      "text/plain": [
       "False"
      ]
     },
     "execution_count": 18,
     "metadata": {},
     "output_type": "execute_result"
    }
   ],
   "source": [
    "bool(False)\n",
    "bool(None)\n",
    "bool(0)\n",
    "bool(\"\")\n",
    "bool(())\n",
    "bool([])\n",
    "bool({})"
   ]
  },
  {
   "cell_type": "code",
   "execution_count": 19,
   "id": "875c5a95",
   "metadata": {},
   "outputs": [
    {
     "name": "stdout",
     "output_type": "stream",
     "text": [
      "True!\n"
     ]
    }
   ],
   "source": [
    "def function() :\n",
    "  return True\n",
    "\n",
    "if function():\n",
    "  print(\"True!\")\n",
    "else:\n",
    "  print(\"False!\")"
   ]
  },
  {
   "cell_type": "code",
   "execution_count": 20,
   "id": "9aadd7f6",
   "metadata": {},
   "outputs": [
    {
     "name": "stdout",
     "output_type": "stream",
     "text": [
      "True\n"
     ]
    }
   ],
   "source": [
    "x = 200\n",
    "print(isinstance(x, int))"
   ]
  },
  {
   "cell_type": "code",
   "execution_count": null,
   "id": "26390c28",
   "metadata": {},
   "outputs": [],
   "source": [
    "#  isinstance : type to determine / output: True or False "
   ]
  },
  {
   "cell_type": "code",
   "execution_count": null,
   "id": "7ec2eb14",
   "metadata": {},
   "outputs": [],
   "source": []
  }
 ],
 "metadata": {
  "kernelspec": {
   "display_name": "Python 3 (ipykernel)",
   "language": "python",
   "name": "python3"
  },
  "language_info": {
   "codemirror_mode": {
    "name": "ipython",
    "version": 3
   },
   "file_extension": ".py",
   "mimetype": "text/x-python",
   "name": "python",
   "nbconvert_exporter": "python",
   "pygments_lexer": "ipython3",
   "version": "3.10.9"
  }
 },
 "nbformat": 4,
 "nbformat_minor": 5
}
