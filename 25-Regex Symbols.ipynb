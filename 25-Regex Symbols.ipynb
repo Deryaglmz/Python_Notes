{
 "cells": [
  {
   "cell_type": "markdown",
   "id": "d09cecb5",
   "metadata": {},
   "source": [
    "# Regex Symbols"
   ]
  },
  {
   "cell_type": "code",
   "execution_count": 2,
   "id": "2b6be9b6",
   "metadata": {},
   "outputs": [],
   "source": [
    "# Expression                  Explanation                         Example            Patern\n",
    "\n",
    "#    |                            or                                 Hi               Hello|Hi\n",
    "#    ^                          starts                              Pelin               ^\\\\w+\n",
    "#    $                           ends                              base42               \\\\d$\n",
    "#    .                           any                               abcdef                .*\n",
    "#    \\                           esc                               (note)             \\(\\\\w{3}\\)\n"
   ]
  },
  {
   "cell_type": "code",
   "execution_count": 27,
   "id": "79cae756",
   "metadata": {},
   "outputs": [],
   "source": [
    "import re\n",
    "\n",
    "def find_emotional_tone(message):\n",
    "    emotions = []\n",
    "    \n",
    "    pozitif_patern = r\"(hello|hi|love|affection|friend|brother|:\\)+)\"\n",
    "    negatif_patern = r\"(damn|fool|omg|enough|stop)\"\n",
    "    \n",
    "    heyecanli_patern = r\"!|[!|?]{2,}$\"\n",
    "    sakin_patern = r\"^(Sure|Okay)\"\n",
    "    \n",
    "    emin_patern = r\"[C|c]ertain|[S|s]ure|[A|a]bsolutely\"\n",
    "    kararsiz_patern = r\"[M|m]aybe|[I|i] guess\"\n",
    "    \n",
    "    if re.search(positive_pattern, message):\n",
    "        emotions.append(\"Positive\")\n",
    "    if re.search(negative_pattern, message):\n",
    "        emotions.append(\"Negative\")\n",
    "    if re.search(excited_pattern, message):\n",
    "        emotions.append(\"Excited\")\n",
    "    if re.search(calm_pattern, message):\n",
    "        emotions.append(\"Calm\")\n",
    "    if re.search(confident_pattern, message):\n",
    "        emotions.append(\"Confident\")\n",
    "    if re.search(indecisive_pattern, message):\n",
    "        emotions.append(\"Indecisive\")\n",
    "    \n",
    "    return emotions"
   ]
  },
  {
   "cell_type": "code",
   "execution_count": 28,
   "id": "c38a74bd",
   "metadata": {},
   "outputs": [
    {
     "name": "stdout",
     "output_type": "stream",
     "text": [
      "What's up bro? :) \t ['Positive']\n",
      "Of course, please come in. \t ['Calm']\n",
      "Stop fooling around already! \t ['Negative', 'Excited', 'Calm']\n",
      "Maybe closer than tomorrow... \t ['Indecisive']\n",
      "We will meet one day for sure. \t ['Confident']\n"
     ]
    }
   ],
   "source": [
    "sentence1 = \"What's up bro? :)\"\n",
    "sentence2 = \"Of course, please come in.\"\n",
    "sentence3 = \"Stop fooling around already!\"\n",
    "sentence4 = \"Maybe closer than tomorrow...\"\n",
    "sentence5 = \"We will meet one day for sure.\"\n",
    "sentences = [sentence1, sentence2, sentence3, sentence4, sentence5]\n",
    "\n",
    "for sentence in sentences:\n",
    "    print(sentence, '\\t', find_emotional_tone(sentence))"
   ]
  },
  {
   "cell_type": "code",
   "execution_count": null,
   "id": "9f249025",
   "metadata": {},
   "outputs": [],
   "source": []
  }
 ],
 "metadata": {
  "kernelspec": {
   "display_name": "Python 3 (ipykernel)",
   "language": "python",
   "name": "python3"
  },
  "language_info": {
   "codemirror_mode": {
    "name": "ipython",
    "version": 3
   },
   "file_extension": ".py",
   "mimetype": "text/x-python",
   "name": "python",
   "nbconvert_exporter": "python",
   "pygments_lexer": "ipython3",
   "version": "3.10.9"
  }
 },
 "nbformat": 4,
 "nbformat_minor": 5
}
