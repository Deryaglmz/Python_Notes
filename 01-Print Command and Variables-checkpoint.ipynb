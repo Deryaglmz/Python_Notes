{
 "cells": [
  {
   "cell_type": "markdown",
   "id": "21593171",
   "metadata": {},
   "source": [
    "\n",
    "# Print Command "
   ]
  },
  {
   "cell_type": "code",
   "execution_count": 3,
   "id": "54f6f9e8",
   "metadata": {},
   "outputs": [
    {
     "name": "stdout",
     "output_type": "stream",
     "text": [
      "Hello World\n",
      "Hello \n",
      "World\n",
      "My name is \tDerya\n"
     ]
    }
   ],
   "source": [
    "print (\"Hello World\")           \n",
    "print (\"Hello \\nWorld\")\n",
    "print (\"My name is \\tDerya\")                     "
   ]
  },
  {
   "cell_type": "markdown",
   "id": "3f549c9b",
   "metadata": {},
   "source": [
    "###   \\n : goes to the bottom line \n",
    "###   \\t  (tab) : make a gap"
   ]
  },
  {
   "cell_type": "code",
   "execution_count": 4,
   "id": "ebcc2dec",
   "metadata": {
    "scrolled": true
   },
   "outputs": [
    {
     "name": "stdout",
     "output_type": "stream",
     "text": [
      "My name is Derya\n",
      "My name is Derya , age 20\n",
      "My name is Derya , age 20\n",
      "My name is 20 , age Derya\n",
      "My name is Derya , age 20\n",
      "My name is Derya , age 20\n"
     ]
    }
   ],
   "source": [
    "print (\"My name is {}\".format ('Derya'))\n",
    "print (\"My name is {} , age {}\".format ('Derya' , 20))\n",
    "\n",
    "print (\"My name is {0} , age {1}\".format ('Derya' , 20))\n",
    "print (\"My name is {1} , age {0}\".format ('Derya' , 20))\n",
    "\n",
    "print (\"My name is {name} , age {age}\".format (name = 'Derya' , age=20))\n",
    "print (\"My name is {name} , age {age}\".format ( age=20 , name = 'Derya'))"
   ]
  },
  {
   "cell_type": "markdown",
   "id": "a634bb3f",
   "metadata": {},
   "source": [
    "# Variables"
   ]
  },
  {
   "cell_type": "raw",
   "id": "1469dff4",
   "metadata": {},
   "source": [
    " not accepted names\n",
    " 1) start with number\n",
    " 2) make a gap\n",
    " 3) \"*/( contain symbols\n"
   ]
  },
  {
   "cell_type": "raw",
   "id": "2fb80d48",
   "metadata": {},
   "source": [
    "#valid variable names\n",
    "variable = \"Derya\"\n",
    "va_riable = \"Derya\"\n",
    "_va_ria_ble = \"Derya\"\n",
    "vaRİaBle = \"Derya\"\n",
    "VARİABLE = \"Derya\"\n",
    "variable2 = \"Derya\""
   ]
  },
  {
   "cell_type": "raw",
   "id": "40f7bd5b",
   "metadata": {},
   "source": [
    "#illegal variables\n",
    "2variable = \"Derya\"\n",
    "va-ria-ble = \"Derya\"\n",
    "variab le = \"Derya\""
   ]
  },
  {
   "cell_type": "code",
   "execution_count": 5,
   "id": "f57859cf",
   "metadata": {},
   "outputs": [
    {
     "name": "stdout",
     "output_type": "stream",
     "text": [
      "10\n"
     ]
    }
   ],
   "source": [
    "number = 10\n",
    "print (number)"
   ]
  },
  {
   "cell_type": "code",
   "execution_count": 6,
   "id": "8b373a60",
   "metadata": {},
   "outputs": [
    {
     "name": "stdout",
     "output_type": "stream",
     "text": [
      "11\n"
     ]
    }
   ],
   "source": [
    "number = number + 1\n",
    "print (number)"
   ]
  },
  {
   "cell_type": "code",
   "execution_count": 7,
   "id": "b61a7a68",
   "metadata": {},
   "outputs": [
    {
     "name": "stdout",
     "output_type": "stream",
     "text": [
      "10\n"
     ]
    }
   ],
   "source": [
    "number_first = 10\n",
    "print (number_first)"
   ]
  },
  {
   "cell_type": "code",
   "execution_count": 8,
   "id": "40bf98b7",
   "metadata": {},
   "outputs": [
    {
     "name": "stdout",
     "output_type": "stream",
     "text": [
      "Orange\n",
      "Banana\n",
      "Strawberry\n"
     ]
    }
   ],
   "source": [
    "x, y, z = \"Orange\", \"Banana\", \"Strawberry\"\n",
    "print(x)\n",
    "print(y)\n",
    "print(z)"
   ]
  },
  {
   "cell_type": "code",
   "execution_count": 9,
   "id": "87a0a6ea",
   "metadata": {},
   "outputs": [
    {
     "name": "stdout",
     "output_type": "stream",
     "text": [
      "Python wonderful\n"
     ]
    }
   ],
   "source": [
    "x = \"Python \"\n",
    "y = \"wonderful\"\n",
    "z =  x + y\n",
    "print(z)"
   ]
  },
  {
   "cell_type": "code",
   "execution_count": 10,
   "id": "6b545b9f",
   "metadata": {},
   "outputs": [
    {
     "ename": "TypeError",
     "evalue": "unsupported operand type(s) for +: 'int' and 'str'",
     "output_type": "error",
     "traceback": [
      "\u001b[1;31m---------------------------------------------------------------------------\u001b[0m",
      "\u001b[1;31mTypeError\u001b[0m                                 Traceback (most recent call last)",
      "Cell \u001b[1;32mIn[10], line 3\u001b[0m\n\u001b[0;32m      1\u001b[0m x \u001b[38;5;241m=\u001b[39m \u001b[38;5;241m5\u001b[39m\n\u001b[0;32m      2\u001b[0m y \u001b[38;5;241m=\u001b[39m \u001b[38;5;124m\"\u001b[39m\u001b[38;5;124mDerya\u001b[39m\u001b[38;5;124m\"\u001b[39m\n\u001b[1;32m----> 3\u001b[0m \u001b[38;5;28mprint\u001b[39m(\u001b[43mx\u001b[49m\u001b[43m \u001b[49m\u001b[38;5;241;43m+\u001b[39;49m\u001b[43m \u001b[49m\u001b[43my\u001b[49m)\n",
      "\u001b[1;31mTypeError\u001b[0m: unsupported operand type(s) for +: 'int' and 'str'"
     ]
    }
   ],
   "source": [
    "x = 5\n",
    "y = \"Derya\"\n",
    "print(x + y)"
   ]
  },
  {
   "cell_type": "code",
   "execution_count": 15,
   "id": "0d47abdb",
   "metadata": {},
   "outputs": [
    {
     "name": "stdout",
     "output_type": "stream",
     "text": [
      "Python wonderful\n",
      "Python beautiful\n"
     ]
    }
   ],
   "source": [
    "x = \"beautiful\"\n",
    "\n",
    "def myfunc():\n",
    "  x = \"wonderful\"\n",
    "  print(\"Python \" + x)\n",
    "\n",
    "myfunc()\n",
    "\n",
    "print(\"Python \" + x)"
   ]
  },
  {
   "cell_type": "code",
   "execution_count": 16,
   "id": "2f949082",
   "metadata": {},
   "outputs": [
    {
     "name": "stdout",
     "output_type": "stream",
     "text": [
      "Python wonderful\n"
     ]
    }
   ],
   "source": [
    "x = \"beautiful\"\n",
    "\n",
    "def myfunc():\n",
    "  global x\n",
    "  x = \"wonderful\"\n",
    "\n",
    "myfunc()\n",
    "\n",
    "print(\"Python \" + x)"
   ]
  },
  {
   "cell_type": "raw",
   "id": "96e33bd3",
   "metadata": {},
   "source": [
    "\n",
    "Python Code                                            Variable Data Type\n",
    "x = \"Hello World\"\t                                          str\n",
    "x = 20\t                                                      int\n",
    "x = 20.5\t                                                 float\n",
    "x = 1j\t                                                    complex\n",
    "x = [\"apple\", \"banana\", \"cherry\"]                          \t list\n",
    "x = (\"apple\", \"banana\", \"cherry\")\t                         tuple\n",
    "x = range(6)\t                                             range\n",
    "x = {\"name\" : \"John\", \"age\" : 36}\t                         dict\n",
    "x = {\"apple\", \"banana\", \"cherry\"}\t                         set\n",
    "x = frozenset({\"apple\", \"banana\", \"cherry\"})               frozenset\n",
    "x = True\t                                                 bool\n",
    "x = b\"Hello\"\t                                             bytes\n",
    "x = bytearray(5)\t                                       bytearray\n",
    "x = memoryview(bytes(5))\t                               memoryview"
   ]
  },
  {
   "cell_type": "raw",
   "id": "d67f009f",
   "metadata": {},
   "source": [
    "Python Code\t                                           Variable Data Types\n",
    "x = str(\"Hello World\")\t                                      str\n",
    "x = int(20)\t                                                  int\n",
    "x = float(20.5)                                              float\n",
    "x = complex(1j)                                      \t    complex\n",
    "x = list((\"apple\", \"banana\", \"cherry\"))                  \t list\n",
    "x = tuple((\"apple\", \"banana\", \"cherry\"))\t                 tuple\n",
    "x = range(6)                                               \t range\n",
    "x = dict(name=\"John\", age=36)\t                             dict\n",
    "x = set((\"apple\", \"banana\", \"cherry\"))                       set\n",
    "x = frozenset((\"apple\", \"banana\", \"cherry\"))\t           frozenset\n",
    "x = bool(5)                                                  bool\n",
    "x = bytes(5)\t                                             bytes\n",
    "x = bytearray(5)\t                                       bytearray\n",
    "x = memoryview(bytes(5))                                   memoryview"
   ]
  },
  {
   "cell_type": "markdown",
   "id": "1e21f795",
   "metadata": {},
   "source": [
    "# Random"
   ]
  },
  {
   "cell_type": "raw",
   "id": "4e122f50",
   "metadata": {},
   "source": [
    "generate random numbers"
   ]
  },
  {
   "cell_type": "code",
   "execution_count": 18,
   "id": "75cf5b6d",
   "metadata": {},
   "outputs": [
    {
     "name": "stdout",
     "output_type": "stream",
     "text": [
      "1\n"
     ]
    }
   ],
   "source": [
    "import random\n",
    "\n",
    "print(random.randrange(1, 10))"
   ]
  },
  {
   "cell_type": "code",
   "execution_count": null,
   "id": "4ab7e0dd",
   "metadata": {},
   "outputs": [],
   "source": []
  }
 ],
 "metadata": {
  "kernelspec": {
   "display_name": "Python 3 (ipykernel)",
   "language": "python",
   "name": "python3"
  },
  "language_info": {
   "codemirror_mode": {
    "name": "ipython",
    "version": 3
   },
   "file_extension": ".py",
   "mimetype": "text/x-python",
   "name": "python",
   "nbconvert_exporter": "python",
   "pygments_lexer": "ipython3",
   "version": "3.10.9"
  }
 },
 "nbformat": 4,
 "nbformat_minor": 5
}
